{
 "cells": [
  {
   "cell_type": "markdown",
   "metadata": {},
   "source": [
    "## dependencias"
   ]
  },
  {
   "cell_type": "code",
   "execution_count": 2,
   "metadata": {},
   "outputs": [],
   "source": [
    "import sys\n",
    "import numpy as np\n",
    "import matplotlib\n",
    "%matplotlib inline\n",
    "import matplotlib.pyplot as plt"
   ]
  },
  {
   "cell_type": "markdown",
   "metadata": {},
   "source": [
    "## Ejercicio 1"
   ]
  },
  {
   "cell_type": "markdown",
   "metadata": {},
   "source": [
    "### datos"
   ]
  },
  {
   "cell_type": "code",
   "execution_count": 4,
   "metadata": {},
   "outputs": [
    {
     "data": {
      "text/plain": [
       "array([[ 1.,  2.,  1.,  1., 10.],\n",
       "       [ 1.,  1.,  1.,  1., 11.],\n",
       "       [ 1.,  1.,  1.,  1., 12.],\n",
       "       [ 1.,  1.,  1.,  1., 13.]])"
      ]
     },
     "execution_count": 4,
     "metadata": {},
     "output_type": "execute_result"
    }
   ],
   "source": [
    "a_matrix =         np.array([[ 1,  1,  1,  1, 10],\n",
    "                    [ 1,  1,  1,  1, 11],\n",
    "                    [ 1,  1,  1,  1, 12],\n",
    "                    [ 1,  1,  1,  1, 13]]).astype(np.float64)\n",
    "a_matrix"
   ]
  },
  {
   "cell_type": "markdown",
   "metadata": {},
   "source": [
    "### implementacion"
   ]
  },
  {
   "cell_type": "code",
   "execution_count": 5,
   "metadata": {},
   "outputs": [
    {
     "data": {
      "text/plain": [
       "array([[ 1.,  2.,  1.,  1., 10.],\n",
       "       [ 0., -1.,  0.,  0.,  1.],\n",
       "       [ 0.,  0.,  0.,  0.,  1.],\n",
       "       [ 0.,  0.,  0.,  0.,  2.]])"
      ]
     },
     "execution_count": 5,
     "metadata": {},
     "output_type": "execute_result"
    }
   ],
   "source": [
    "##item a\n",
    "def elim_gauss_sin_pivot(M): \n",
    "   for i in range(0, len(M[0]) - 2):\n",
    "    for j in range(i+1, len(M)):\n",
    "      if M[i][i] != 0:\n",
    "        m_ji = M[j][i]/M[i][i]\n",
    "        for k in range(i,len(M[0])):\n",
    "          M[j][k] = M[j][k] - m_ji * M[i][k]\n",
    "      else:\n",
    "        for jerror in range(i+1, len(M)):\n",
    "          if M[jerror][i] != 0:\n",
    "            raise Exception(\"No se puede realizar la eliminacion gaussiana con i:\" + str(i) + \" y j: \" + str(j))\n",
    "   return M\n",
    "\n",
    "def solve_sys_EGsin(M):\n",
    "  M_res = elim_gauss_sin_pivot(M)\n",
    "  x = back_subs(M_res)\n",
    "  return x\n",
    "\n",
    "def back_subs(M):\n",
    "  n = len(M)\n",
    "  x=[]\n",
    "  for i in range(n):\n",
    "    x.append(np.float64(0))\n",
    "  for i in reversed(range(n)):\n",
    "    x[i]= (M[i][n-1])\n",
    "    if(M[i][i]!=0.0):\n",
    "      for j in range(i+1,n):\n",
    "        if(M[i][j]!=0.0):\n",
    "          x[i]= x[i]- M[i][j]*x[j] \n",
    "      x[i] = x[i]/M[i][i]\n",
    "    else:\n",
    "      x[i]= f\"x{i}\"\n",
    "  return x\n",
    "\n",
    "elim_gauss_sin_pivot(a_matrix)\n",
    "#solve_sys_EGsin(a_matrix)\n",
    "\n"
   ]
  },
  {
   "cell_type": "markdown",
   "metadata": {},
   "source": [
    "## Ejercicio 2"
   ]
  },
  {
   "cell_type": "markdown",
   "metadata": {},
   "source": [
    "### Datos"
   ]
  },
  {
   "cell_type": "code",
   "execution_count": 62,
   "metadata": {},
   "outputs": [
    {
     "name": "stdout",
     "output_type": "stream",
     "text": [
      "[[ 1.00000000e+00  3.00000230e+00  1.99999770e+00  6.00000000e+00]\n",
      " [-2.30258774e-06  2.00000000e+00  4.00000230e+00  6.00000000e+00]\n",
      " [ 2.00000230e+00  9.99997697e-01  3.00000000e+00  6.00000000e+00]]\n",
      "[[ 1.          3.59986233  1.40013767  6.        ]\n",
      " [-0.59986233  2.          4.59986233  6.        ]\n",
      " [ 2.59986233  0.40013767  3.          6.        ]]\n",
      "[[ 1.          4.55955358  0.44044642  6.        ]\n",
      " [-1.55955358  2.          5.55955358  6.        ]\n",
      " [ 3.55955358 -0.55955358  3.          6.        ]]\n",
      "[[ 1.          6.09492391 -1.09492391  6.        ]\n",
      " [-3.09492391  2.          7.09492391  6.        ]\n",
      " [ 5.09492391 -2.09492391  3.          6.        ]]\n",
      "[[ 1.          8.55129942 -3.55129942  6.        ]\n",
      " [-5.55129942  2.          9.55129942  6.        ]\n",
      " [ 7.55129942 -4.55129942  3.          6.        ]]\n",
      "[[ 1.         12.48115301 -7.48115301  6.        ]\n",
      " [-9.48115301  2.         13.48115301  6.        ]\n",
      " [11.48115301 -8.48115301  3.          6.        ]]\n",
      "[[  1.          18.76836325 -13.76836325   6.        ]\n",
      " [-15.76836325   2.          19.76836325   6.        ]\n",
      " [ 17.76836325 -14.76836325   3.           6.        ]]\n",
      "[[  1.         28.8270109 -23.8270109   6.       ]\n",
      " [-25.8270109   2.         29.8270109   6.       ]\n",
      " [ 27.8270109 -24.8270109   3.          6.       ]]\n",
      "[[  1.          44.91942529 -39.91942529   6.        ]\n",
      " [-41.91942529   2.          45.91942529   6.        ]\n",
      " [ 43.91942529 -40.91942529   3.           6.        ]]\n",
      "[[  1.          70.66501357 -65.66501357   6.        ]\n",
      " [-67.66501357   2.          71.66501357   6.        ]\n",
      " [ 69.66501357 -66.66501357   3.           6.        ]]\n",
      "[[   1.          111.85431553 -106.85431553    6.        ]\n",
      " [-108.85431553    2.          112.85431553    6.        ]\n",
      " [ 110.85431553 -107.85431553    3.            6.        ]]\n",
      "[[   1.          177.75137632 -172.75137632    6.        ]\n",
      " [-174.75137632    2.          178.75137632    6.        ]\n",
      " [ 176.75137632 -173.75137632    3.            6.        ]]\n",
      "[[   1.          283.17735868 -278.17735868    6.        ]\n",
      " [-280.17735868    2.          284.17735868    6.        ]\n",
      " [ 282.17735868 -279.17735868    3.            6.        ]]\n",
      "[[   1.         451.8440279 -446.8440279    6.       ]\n",
      " [-448.8440279    2.         452.8440279    6.       ]\n",
      " [ 450.8440279 -447.8440279    3.           6.       ]]\n",
      "[[   1.          721.68685667 -716.68685667    6.        ]\n",
      " [-718.68685667    2.          722.68685667    6.        ]\n",
      " [ 720.68685667 -717.68685667    3.            6.        ]]\n",
      "[[ 1.00000000e+00  1.15339724e+03 -1.14839724e+03  6.00000000e+00]\n",
      " [-1.15039724e+03  2.00000000e+00  1.15439724e+03  6.00000000e+00]\n",
      " [ 1.15239724e+03 -1.14939724e+03  3.00000000e+00  6.00000000e+00]]\n",
      "[[ 1.00000000e+00  1.84407283e+03 -1.83907283e+03  6.00000000e+00]\n",
      " [-1.84107283e+03  2.00000000e+00  1.84507283e+03  6.00000000e+00]\n",
      " [ 1.84307283e+03 -1.84007283e+03  3.00000000e+00  6.00000000e+00]]\n",
      "[[ 1.00000000e+00  2.94905613e+03 -2.94405613e+03  6.00000000e+00]\n",
      " [-2.94605613e+03  2.00000000e+00  2.95005613e+03  6.00000000e+00]\n",
      " [ 2.94805613e+03 -2.94505613e+03  3.00000000e+00  6.00000000e+00]]\n",
      "[[ 1.00000000e+00  4.71687323e+03 -4.71187323e+03  6.00000000e+00]\n",
      " [-4.71387323e+03  2.00000000e+00  4.71787323e+03  6.00000000e+00]\n",
      " [ 4.71587323e+03 -4.71287323e+03  3.00000000e+00  6.00000000e+00]]\n",
      "[[ 1.0000000e+00  7.5451307e+03 -7.5401307e+03  6.0000000e+00]\n",
      " [-7.5421307e+03  2.0000000e+00  7.5461307e+03  6.0000000e+00]\n",
      " [ 7.5441307e+03 -7.5411307e+03  3.0000000e+00  6.0000000e+00]]\n",
      "[[ 1.00000000e+00  1.20699429e+04 -1.20649429e+04  6.00000000e+00]\n",
      " [-1.20669429e+04  2.00000000e+00  1.20709429e+04  6.00000000e+00]\n",
      " [ 1.20689429e+04 -1.20659429e+04  3.00000000e+00  6.00000000e+00]]\n",
      "[[ 1.00000000e+00  1.93090027e+04 -1.93040027e+04  6.00000000e+00]\n",
      " [-1.93060027e+04  2.00000000e+00  1.93100027e+04  6.00000000e+00]\n",
      " [ 1.93080027e+04 -1.93050027e+04  3.00000000e+00  6.00000000e+00]]\n",
      "[[ 1.00000000e+00  3.08904752e+04 -3.08854752e+04  6.00000000e+00]\n",
      " [-3.08874752e+04  2.00000000e+00  3.08914752e+04  6.00000000e+00]\n",
      " [ 3.08894752e+04 -3.08864752e+04  3.00000000e+00  6.00000000e+00]]\n",
      "[[ 1.0000000e+00  4.9419194e+04 -4.9414194e+04  6.0000000e+00]\n",
      " [-4.9416194e+04  2.0000000e+00  4.9420194e+04  6.0000000e+00]\n",
      " [ 4.9418194e+04 -4.9415194e+04  3.0000000e+00  6.0000000e+00]]\n",
      "[[ 1.0000000e+00  7.9062525e+04 -7.9057525e+04  6.0000000e+00]\n",
      " [-7.9059525e+04  2.0000000e+00  7.9063525e+04  6.0000000e+00]\n",
      " [ 7.9061525e+04 -7.9058525e+04  3.0000000e+00  6.0000000e+00]]\n",
      "[[ 1.00000000e+00  1.26487664e+05 -1.26482664e+05  6.00000000e+00]\n",
      " [-1.26484664e+05  2.00000000e+00  1.26488664e+05  6.00000000e+00]\n",
      " [ 1.26486664e+05 -1.26483664e+05  3.00000000e+00  6.00000000e+00]]\n",
      "[[ 1.00000000e+00  2.02361183e+05 -2.02356183e+05  6.00000000e+00]\n",
      " [-2.02358183e+05  2.00000000e+00  2.02362183e+05  6.00000000e+00]\n",
      " [ 2.02360183e+05 -2.02357183e+05  3.00000000e+00  6.00000000e+00]]\n",
      "[[ 1.00000000e+00  3.23748089e+05 -3.23743089e+05  6.00000000e+00]\n",
      " [-3.23745089e+05  2.00000000e+00  3.23749089e+05  6.00000000e+00]\n",
      " [ 3.23747089e+05 -3.23744089e+05  3.00000000e+00  6.00000000e+00]]\n",
      "[[ 1.00000000e+00  5.17949979e+05 -5.17944979e+05  6.00000000e+00]\n",
      " [-5.17946979e+05  2.00000000e+00  5.17950979e+05  6.00000000e+00]\n",
      " [ 5.17948979e+05 -5.17945979e+05  3.00000000e+00  6.00000000e+00]]\n",
      "[[ 1.00000000e+00  8.28645552e+05 -8.28640552e+05  6.00000000e+00]\n",
      " [-8.28642552e+05  2.00000000e+00  8.28646552e+05  6.00000000e+00]\n",
      " [ 8.28644552e+05 -8.28641552e+05  3.00000000e+00  6.00000000e+00]]\n",
      "[[ 1.00000000e+00  1.32571455e+06 -1.32570955e+06  6.00000000e+00]\n",
      " [-1.32571155e+06  2.00000000e+00  1.32571555e+06  6.00000000e+00]\n",
      " [ 1.32571355e+06 -1.32571055e+06  3.00000000e+00  6.00000000e+00]]\n",
      "[[ 1.00000000e+00  2.12095468e+06 -2.12094968e+06  6.00000000e+00]\n",
      " [-2.12095168e+06  2.00000000e+00  2.12095568e+06  6.00000000e+00]\n",
      " [ 2.12095368e+06 -2.12095068e+06  3.00000000e+00  6.00000000e+00]]\n",
      "[[ 1.00000000e+00  3.39322648e+06 -3.39322148e+06  6.00000000e+00]\n",
      " [-3.39322348e+06  2.00000000e+00  3.39322748e+06  6.00000000e+00]\n",
      " [ 3.39322548e+06 -3.39322248e+06  3.00000000e+00  6.00000000e+00]]\n",
      "[[ 1.00000000e+00  5.42868152e+06 -5.42867652e+06  6.00000000e+00]\n",
      " [-5.42867852e+06  2.00000000e+00  5.42868252e+06  6.00000000e+00]\n",
      " [ 5.42868052e+06 -5.42867752e+06  3.00000000e+00  6.00000000e+00]]\n",
      "[[ 1.00000000e+00  8.68512186e+06 -8.68511686e+06  6.00000000e+00]\n",
      " [-8.68511886e+06  2.00000000e+00  8.68512286e+06  6.00000000e+00]\n",
      " [ 8.68512086e+06 -8.68511786e+06  3.00000000e+00  6.00000000e+00]]\n",
      "[[ 1.00000000e+00  1.38949661e+07 -1.38949611e+07  6.00000000e+00]\n",
      " [-1.38949631e+07  2.00000000e+00  1.38949671e+07  6.00000000e+00]\n",
      " [ 1.38949651e+07 -1.38949621e+07  3.00000000e+00  6.00000000e+00]]\n",
      "[[ 1.00000000e+00  2.22299804e+07 -2.22299754e+07  6.00000000e+00]\n",
      " [-2.22299774e+07  2.00000000e+00  2.22299814e+07  6.00000000e+00]\n",
      " [ 2.22299794e+07 -2.22299764e+07  3.00000000e+00  6.00000000e+00]]\n",
      "[[ 1.00000000e+00  3.55648251e+07 -3.55648201e+07  6.00000000e+00]\n",
      " [-3.55648221e+07  2.00000000e+00  3.55648261e+07  6.00000000e+00]\n",
      " [ 3.55648241e+07 -3.55648211e+07  3.00000000e+00  6.00000000e+00]]\n",
      "[[ 1.00000000e+00  5.68986917e+07 -5.68986867e+07  6.00000000e+00]\n",
      " [-5.68986887e+07  2.00000000e+00  5.68986927e+07  6.00000000e+00]\n",
      " [ 5.68986907e+07 -5.68986877e+07  3.00000000e+00  6.00000000e+00]]\n",
      "[[ 1.00000000e+00  9.10298626e+07 -9.10298576e+07  6.00000000e+00]\n",
      " [-9.10298596e+07  2.00000000e+00  9.10298636e+07  6.00000000e+00]\n",
      " [ 9.10298616e+07 -9.10298586e+07  3.00000000e+00  6.00000000e+00]]\n",
      "[[ 1.00000000e+00  1.45634911e+08 -1.45634906e+08  6.00000000e+00]\n",
      " [-1.45634908e+08  2.00000000e+00  1.45634912e+08  6.00000000e+00]\n",
      " [ 1.45634910e+08 -1.45634907e+08  3.00000000e+00  6.00000000e+00]]\n",
      "[[ 1.00000000e+00  2.32995271e+08 -2.32995266e+08  6.00000000e+00]\n",
      " [-2.32995268e+08  2.00000000e+00  2.32995272e+08  6.00000000e+00]\n",
      " [ 2.32995270e+08 -2.32995267e+08  3.00000000e+00  6.00000000e+00]]\n",
      "[[ 1.00000000e+00  3.72759497e+08 -3.72759492e+08  6.00000000e+00]\n",
      " [-3.72759494e+08  2.00000000e+00  3.72759498e+08  6.00000000e+00]\n",
      " [ 3.72759496e+08 -3.72759493e+08  3.00000000e+00  6.00000000e+00]]\n",
      "[[ 1.00000000e+00  5.96362502e+08 -5.96362497e+08  6.00000000e+00]\n",
      " [-5.96362499e+08  2.00000000e+00  5.96362503e+08  6.00000000e+00]\n",
      " [ 5.96362501e+08 -5.96362498e+08  3.00000000e+00  6.00000000e+00]]\n",
      "[[ 1.00000000e+00  9.54095703e+08 -9.54095698e+08  6.00000000e+00]\n",
      " [-9.54095700e+08  2.00000000e+00  9.54095704e+08  6.00000000e+00]\n",
      " [ 9.54095702e+08 -9.54095699e+08  3.00000000e+00  6.00000000e+00]]\n",
      "[[ 1.00000000e+00  1.52641826e+09 -1.52641825e+09  6.00000000e+00]\n",
      " [-1.52641825e+09  2.00000000e+00  1.52641826e+09  6.00000000e+00]\n",
      " [ 1.52641826e+09 -1.52641825e+09  3.00000000e+00  6.00000000e+00]]\n",
      "[[ 1.00000000e+00  2.44205344e+09 -2.44205344e+09  6.00000000e+00]\n",
      " [-2.44205344e+09  2.00000000e+00  2.44205344e+09  6.00000000e+00]\n",
      " [ 2.44205344e+09 -2.44205344e+09  3.00000000e+00  6.00000000e+00]]\n",
      "[[ 1.00000000e+00  3.90694031e+09 -3.90694030e+09  6.00000000e+00]\n",
      " [-3.90694030e+09  2.00000000e+00  3.90694031e+09  6.00000000e+00]\n",
      " [ 3.90694031e+09 -3.90694030e+09  3.00000000e+00  6.00000000e+00]]\n",
      "[[ 1.00000000e+00  6.25055222e+09 -6.25055222e+09  6.00000000e+00]\n",
      " [-6.25055222e+09  2.00000000e+00  6.25055222e+09  6.00000000e+00]\n",
      " [ 6.25055222e+09 -6.25055222e+09  3.00000000e+00  6.00000000e+00]]\n",
      "[[ 1.e+00  1.e+10 -1.e+10  6.e+00]\n",
      " [-1.e+10  2.e+00  1.e+10  6.e+00]\n",
      " [ 1.e+10 -1.e+10  3.e+00  6.e+00]]\n"
     ]
    }
   ],
   "source": [
    "b_matrix =         np.array([[ 1,  1,  1,  1, 10],\n",
    "                    [ 1,  1,  1,  1, 11],\n",
    "                    [ 1,  2,  1,  1, 12],\n",
    "                    [ 1,  2,  1,  1, 13]]).astype(np.float64)\n",
    "\n",
    "a_matrix2 = np.array([[ 1,  1,  0,  0, 0],\n",
    "                     [ 2,  0,  0,  0, 0],\n",
    "                     [ 0,  2,  1,  4, 0],\n",
    "                     [ 0,  0,  2,  1, 0]]).astype(np.float64)\n",
    "\n",
    "#Funcion para la experimentacion del item c)\n",
    "def create_matrix_with_epsilon_float64(epsilon):\n",
    "    c_matrix = np.array([[ 1.0,  2.0+epsilon,  3.0-epsilon,  6],\n",
    "                     [ 1.0-epsilon,  2.0,  3.0+epsilon,  6.0],\n",
    "                     [ 1.0+epsilon,  2.0-epsilon,  3.0,  6.0]]).astype(np.float64)\n",
    "    return c_matrix\n",
    "\n",
    "def create_matrix_with_epsilon_float32(epsilon):\n",
    "    c_matrix = np.array([[ 1.0,  2+epsilon,  3.0-epsilon,  6.0],\n",
    "                     [ 1.0-epsilon,  2.0,  3.0+epsilon,  6.0],\n",
    "                     [ 1.0+epsilon,  2.0-epsilon,  3.0,  6.0]]).astype(np.float32)\n",
    "    return c_matrix\n",
    "\n",
    "x_64=np.array([1,1,1]).astype(np.float64)\n",
    "x_32=np.array([1,1,1]).astype(np.float32)\n",
    "for i in np.logspace(1e-6, 10, endpoint=True):\n",
    "    print(create_matrix_with_epsilon_float64(i))"
   ]
  },
  {
   "cell_type": "markdown",
   "metadata": {},
   "source": [
    "### Codigo"
   ]
  },
  {
   "cell_type": "code",
   "execution_count": 60,
   "metadata": {},
   "outputs": [],
   "source": [
    "##item a\n",
    "def elim_gauss_con_pivot(M, threshold): \n",
    "   for i in range(0, len(M[0]) - 2):\n",
    "    #Buscamos la fila de maximo valor para permutar\n",
    "    j_max=i\n",
    "    val_j_max=0\n",
    "    for j_pivot in range(i+1, len(M)):\n",
    "      if abs(M[j_pivot][i]) > val_j_max:\n",
    "        val_j_max = abs(M[j_pivot][i])\n",
    "        j_max = j_pivot\n",
    "    #Permutamos \n",
    "    for p in range(i, len(M[0])):\n",
    "      m_ip = M[i][p]\n",
    "      M[i][p] = M[j_max][p]\n",
    "      M[j_max][p] = m_ip \n",
    "    #Hacemos el paso de eliminacion gaussiana \n",
    "    for j in range(i+1, len(M)):\n",
    "      if M[i][i] != 0:  \n",
    "        # if(float(M[i][i]) <=threshold):\n",
    "        #   print(\"Advertencia de error numerico, division por valor cercano a cero\")\n",
    "        m_ji = float(M[j][i])/float(M[i][i])\n",
    "        for k in range(i,len(M[0])):\n",
    "          M[j][k] = M[j][k] - m_ji * M[i][k]\n",
    "      else:\n",
    "        for jerror in range(i+1, len(M)):\n",
    "          if M[jerror][i] != 0:\n",
    "            raise Exception(\"No se puede realizar la eliminacion gaussiana con i:\" + str(i) + \" y j: \" + str(j))\n",
    "   return M\n",
    "\n",
    "def solve_sys_EG(M, threshold):\n",
    "  M_res = elim_gauss_con_pivot(M, threshold)\n",
    "  x = []\n",
    "  for i in range(0,len(M)):\n",
    "    x.append(M[i][len(M[0])-2])\n",
    "  return x\n",
    "\n",
    "elim_gauss_con_pivot(a_matrix2, 0.0001)\n",
    "\n",
    "##item b, matriz diagonal con algun a_ii=0 y b_i!=0\n",
    "matrix_no_solution = np.array([[ 1,  0,  0, 1],\n",
    "                               [ 2,  0,  0, 1],\n",
    "                               [ 0,  0,  0, 2],\n",
    "                               [ 0,  0,  1, 1]]).astype(np.float64)\n",
    "\n",
    "##item c\n",
    "def inf_norm(v, w):\n",
    "  res=0\n",
    "  for i in range(len(v)):\n",
    "    res = max(res, abs(v[i]-w[i]))\n",
    "  return res"
   ]
  },
  {
   "cell_type": "code",
   "execution_count": 67,
   "metadata": {},
   "outputs": [
    {
     "name": "stdout",
     "output_type": "stream",
     "text": [
      "[3.0, 1.9073459e-06, 4.410743e-06]\n",
      "[3.0, 2.8610168e-06, 6.31809e-06]\n",
      "[3.0, 3.8146864e-06, 8.583064e-06]\n",
      "[3.0, 5.602814e-06, 1.1875725e-05]\n",
      "[3.0, 7.2717257e-06, 1.7091259e-05]\n",
      "[3.0, 1.01327105e-05, 2.3528644e-05]\n",
      "[3.0, 1.4304961e-05, 3.230566e-05]\n",
      "[3.0, 2.002686e-05, 4.5060995e-05]\n",
      "[3.0, 2.80136e-05, 6.230144e-05]\n",
      "[3.0, 3.862269e-05, 8.690315e-05]\n",
      "[3.0, 5.3522814e-05, 0.00012104106]\n",
      "[3.0, 7.474005e-05, 0.00016744275]\n",
      "[3.0, 0.00010346563, 0.00023293194]\n",
      "[3.0, 0.00014398927, 0.00032388582]\n",
      "[3.0, 0.00020012239, 0.00044972065]\n",
      "[3.0, 0.00027793812, 0.00062535016]\n",
      "[3.0, 0.00038612622, 0.0008688745]\n",
      "[3.0, 0.000536226, 0.0012070324]\n",
      "[3.0, 0.0007452374, 0.0016769543]\n",
      "[3.0, 0.0010352435, 0.0023301952]\n",
      "[3.0, 0.0014376611, 0.0032382589]\n",
      "[3.0, 0.0019972154, 0.0044986233]\n",
      "[3.0, 0.0027732227, 0.0062505947]\n",
      "[3.0, 0.0038502659, 0.00868402]\n",
      "[3.0, 0.005343839, 0.012063994]\n",
      "[3.0, 0.0074134623, 0.016758842]\n",
      "[3.0, 0.0102791, 0.023277257]\n",
      "[3.0, 0.01423953, 0.032327782]\n",
      "[3.0, 0.019702952, 0.044887736]\n",
      "[3.0, 0.027218444, 0.062311128]\n",
      "[3.0, 0.037517052, 0.08646378]\n",
      "[3.0, 0.051551424, 0.11991681]\n",
      "[3.0, 0.07053302, 0.16619319]\n",
      "[3.0, 0.095937766, 0.23009698]\n",
      "[3.0, 0.12944189, 0.31813458]\n",
      "[3.0, 0.17272742, 0.4390242]\n",
      "[3.0, 0.22704424, 0.6042821]\n",
      "[3.0, 0.29240856, 0.8288092]\n",
      "[3.0, 0.36630267, 1.1313372]\n",
      "[3.0, 0.44186124, 1.5344243]\n",
      "[3.0, 0.5056995, 2.0635595]\n",
      "[3.0, 0.5358096, 2.7447467]\n",
      "[3.0, 0.5, 3.6]\n",
      "[3.0, 0.3550094, 4.640679]\n",
      "[3.0, 0.04565528, 5.859776]\n",
      "[3.0, -0.49731642, 7.225905]\n",
      "[3.0, -1.362166, 8.68274]\n",
      "[3.0, -2.6649528, 10.156415]\n",
      "[3.0, -4.5628505, 11.569624]\n",
      "[3.0, -7.2727275, 12.857142]\n"
     ]
    },
    {
     "data": {
      "image/png": "[encoded data removed]",
      "text/plain": [
       "<Figure size 432x288 with 1 Axes>"
      ]
     },
     "metadata": {
      "needs_background": "light"
     },
     "output_type": "display_data"
    }
   ],
   "source": [
    "def numeric_error_exp():\n",
    "  v_epsilon = np.logspace(-6, 1, endpoint=True)\n",
    "  threshold = 1e-10\n",
    "  v_res64 = np.zeros(len(v_epsilon))\n",
    "  v_res32 = np.zeros(len(v_epsilon))\n",
    "\n",
    "  for i in range(len(v_epsilon)):\n",
    "    matrix_c = create_matrix_with_epsilon_float64(v_epsilon[i])\n",
    "    x_obt = solve_sys_EG(matrix_c, threshold)\n",
    "    v_res64[i] = np.linalg.norm([x_obt, x_64], np.inf)\n",
    "\n",
    "  for i in range(len(v_epsilon)):\n",
    "    matrix_c = create_matrix_with_epsilon_float32(v_epsilon[i])\n",
    "    x_obt = solve_sys_EG(matrix_c, threshold)\n",
    "    print(x_obt)\n",
    "    v_res32[i] = np.linalg.norm([x_obt, x_32], np.inf)\n",
    "\n",
    "  fig, ax = plt.subplots( nrows=1, ncols=1 )\n",
    "  ax.loglog(v_epsilon, v_res64, 'o', label = \"float64\")\n",
    "  ax.loglog(v_epsilon, v_res32, 'o', label = \"float32\")\n",
    "  #ax.plot(v_epsilon, v_res64 - v_res32, label = \"float64 - float32\")\n",
    "  # print(v_res64 - v_res32)\n",
    "  ax.set_title('comparacion de error numerico')\n",
    "  ax.legend()\n",
    "  plt.show()\n",
    "  # plt.savefig('error_numerico_exp')\n",
    "\n",
    "numeric_error_exp()\n"
   ]
  },
  {
   "cell_type": "markdown",
   "metadata": {},
   "source": [
    "## .\n",
    "\n",
    "+Ejercicio 3"
   ]
  },
  {
   "cell_type": "markdown",
   "metadata": {},
   "source": [
    "### datos"
   ]
  },
  {
   "cell_type": "code",
   "execution_count": 38,
   "metadata": {},
   "outputs": [
    {
     "name": "stdout",
     "output_type": "stream",
     "text": [
      "[[  4.    8.    0.    1. ]\n",
      " [  0.    4.   16.    7.5]\n",
      " [  0.    0.  -30.   -2. ]]\n"
     ]
    },
    {
     "data": {
      "text/plain": [
       "[0.0, 0.0, 1.0]"
      ]
     },
     "execution_count": 38,
     "metadata": {},
     "output_type": "execute_result"
    }
   ],
   "source": [
    "matriz_tridiagonal_facil =  np.array(\n",
    "                   [[ 4,  8,  0, 1],\n",
    "                    [ 2,  8,  16, 8],\n",
    "                    [ 0,  8,  2, 13]]).astype(np.float64)\n",
    "\n",
    "print(elim_gauss_sin_pivot(matriz_tridiagonal_facil))\n",
    "solve_sys_EGsin(matriz_tridiagonal_facil)"
   ]
  },
  {
   "cell_type": "markdown",
   "metadata": {},
   "source": [
    "### implementacion"
   ]
  },
  {
   "cell_type": "markdown",
   "metadata": {},
   "source": [
    "### todo cambiar listas arrays de numpy"
   ]
  },
  {
   "cell_type": "code",
   "execution_count": 39,
   "metadata": {},
   "outputs": [
    {
     "data": {
      "text/plain": [
       "array([-2.96666667,  1.60833333,  0.06666667])"
      ]
     },
     "execution_count": 39,
     "metadata": {},
     "output_type": "execute_result"
    }
   ],
   "source": [
    "\n",
    "def coeficientes_elim_gauss_tridiaognal(M):\n",
    "  coeficientes_computados = []\n",
    "  for i in range(0, len(M)):\n",
    "    c_prima = 0\n",
    "    if i == 0:\n",
    "      c_prima = M[i][i + 1] /  M[i][i]\n",
    "    else:\n",
    "      c_prima = M[i][i + 1] /  (M[i][i] - (M[i][i - 1] * coeficientes_computados[i-1])) #un coeficientes_computados.pop() tambien funcionaria\n",
    "\n",
    "    coeficientes_computados.append(c_prima)\n",
    "  return coeficientes_computados\n",
    "\n",
    "def term_indep_elim_gauss_tridiagonal(M, coeficientes_computados):\n",
    "  terminos_indep_computados = []\n",
    "  for i in range(0, len(M)):\n",
    "    d_prima = 0\n",
    "    if i == 0:\n",
    "      d_prima = M[i][len(M[i]) - 1] /  M[i][i]\n",
    "    else:\n",
    "      d_prima = (M[i][len(M[i]) - 1] - (M[i][i - 1] * terminos_indep_computados[i - 1])) /  (M[i][i] - M[i][i - 1] * coeficientes_computados[i-1]) #un coeficientes_computados.pop() tambien funcionaria\n",
    "\n",
    "    terminos_indep_computados.append(d_prima)\n",
    "  return terminos_indep_computados  \n",
    "\n",
    "\n",
    "def elim_gauss_tridiaognal_extendida(M):\n",
    "  coeficientes = coeficientes_elim_gauss_tridiaognal(M)\n",
    "  terminos_independientes = term_indep_elim_gauss_tridiagonal(M, coeficientes)\n",
    "\n",
    "  res = np.zeros(len(terminos_independientes))\n",
    "  res[len(terminos_independientes) - 1] = terminos_independientes[len(terminos_independientes) - 1]\n",
    "  for i in range(len(res) - 2, -1, -1):\n",
    "    res[i] = terminos_independientes[i] - (coeficientes[i] * res[i+1]) \n",
    "  \n",
    "  return res\n",
    "\n",
    "def elim_gauss_tridiagonal(A, u):\n",
    "\n",
    "  u_column = u.reshape(-1, 1)  # -1 en reshape permite que numpy calcule la dimensión necesaria\n",
    "\n",
    "  # Creando la matriz extendida M\n",
    "  M = np.hstack((A, u_column))\n",
    "  return elim_gauss_tridiaognal_extendida(M)\n",
    "  \n",
    "elim_gauss_tridiaognal_extendida(matriz_tridiagonal_facil)"
   ]
  },
  {
   "cell_type": "markdown",
   "metadata": {},
   "source": [
    "## Ejercicio 4\n"
   ]
  },
  {
   "cell_type": "markdown",
   "metadata": {},
   "source": [
    "### Datos"
   ]
  },
  {
   "cell_type": "code",
   "execution_count": 17,
   "metadata": {},
   "outputs": [],
   "source": [
    "d_a = []\n",
    "\n",
    "for i in range(0, 102):\n",
    "    value = 0\n",
    "    if i == ((101 // 2) + 1):\n",
    "        value = 4/101\n",
    "    d_a.append(value)\n"
   ]
  },
  {
   "cell_type": "code",
   "execution_count": 18,
   "metadata": {},
   "outputs": [],
   "source": [
    "\n",
    "d_b = np.full(101, np.float64(4) / np.float64(101**2))"
   ]
  },
  {
   "cell_type": "code",
   "execution_count": 47,
   "metadata": {},
   "outputs": [
    {
     "data": {
      "text/plain": [
       "[-0.001176355259288305,\n",
       " -0.001152828154102539,\n",
       " -0.0011293010489167728,\n",
       " -0.0011057739437310068,\n",
       " -0.0010822468385452407,\n",
       " -0.0010587197333594746,\n",
       " -0.0010351926281737085,\n",
       " -0.0010116655229879424,\n",
       " -0.0009881384178021763,\n",
       " -0.0009646113126164102,\n",
       " -0.0009410842074306441,\n",
       " -0.000917557102244878,\n",
       " -0.0008940299970591119,\n",
       " -0.0008705028918733457,\n",
       " -0.0008469757866875796,\n",
       " -0.0008234486815018135,\n",
       " -0.0007999215763160474,\n",
       " -0.0007763944711302812,\n",
       " -0.0007528673659445152,\n",
       " -0.0007293402607587491,\n",
       " -0.000705813155572983,\n",
       " -0.000682286050387217,\n",
       " -0.0006587589452014509,\n",
       " -0.0006352318400156847,\n",
       " -0.0006117047348299186,\n",
       " -0.0005881776296441525,\n",
       " -0.0005646505244583864,\n",
       " -0.0005411234192726203,\n",
       " -0.0005175963140868541,\n",
       " -0.0004940692089010881,\n",
       " -0.00047054210371532204,\n",
       " -0.00044701499852955594,\n",
       " -0.0004234878933437898,\n",
       " -0.0003999607881580237,\n",
       " -0.00037643368297225754,\n",
       " -0.00035290657778649156,\n",
       " -0.00032937947260072546,\n",
       " -0.0003058523674149593,\n",
       " -0.0002823252622291932,\n",
       " -0.00025879815704342706,\n",
       " -0.00023527105185766096,\n",
       " -0.00021174394667189498,\n",
       " -0.00018821684148612885,\n",
       " -0.00016468973630036273,\n",
       " -0.0001411626311145966,\n",
       " -0.00011763552592883048,\n",
       " -9.410842074306436e-05,\n",
       " -7.058131555729837e-05,\n",
       " -4.705421037153224e-05,\n",
       " -2.352710518576612e-05,\n",
       " 0.0,\n",
       " 2.352710518576612e-05,\n",
       " 4.705421037153224e-05,\n",
       " 7.058131555729837e-05,\n",
       " 9.410842074306448e-05,\n",
       " 0.0001176355259288306,\n",
       " 0.00014116263111459674,\n",
       " 0.0001646897363003626,\n",
       " 0.00018821684148612872,\n",
       " 0.00021174394667189484,\n",
       " 0.00023527105185766096,\n",
       " 0.00025879815704342706,\n",
       " 0.0002823252622291932,\n",
       " 0.0003058523674149593,\n",
       " 0.00032937947260072546,\n",
       " 0.00035290657778649156,\n",
       " 0.0003764336829722577,\n",
       " 0.0003999607881580238,\n",
       " 0.00042348789334378995,\n",
       " 0.0004470149985295558,\n",
       " 0.00047054210371532193,\n",
       " 0.000494069208901088,\n",
       " 0.0005175963140868541,\n",
       " 0.0005411234192726203,\n",
       " 0.0005646505244583864,\n",
       " 0.0005881776296441525,\n",
       " 0.0006117047348299186,\n",
       " 0.0006352318400156847,\n",
       " 0.0006587589452014509,\n",
       " 0.000682286050387217,\n",
       " 0.0007058131555729831,\n",
       " 0.0007293402607587492,\n",
       " 0.0007528673659445151,\n",
       " 0.0007763944711302812,\n",
       " 0.0007999215763160474,\n",
       " 0.0008234486815018135,\n",
       " 0.0008469757866875796,\n",
       " 0.0008705028918733457,\n",
       " 0.0008940299970591119,\n",
       " 0.000917557102244878,\n",
       " 0.0009410842074306441,\n",
       " 0.0009646113126164102,\n",
       " 0.0009881384178021763,\n",
       " 0.0010116655229879424,\n",
       " 0.0010351926281737082,\n",
       " 0.0010587197333594743,\n",
       " 0.0010822468385452407,\n",
       " 0.0011057739437310068,\n",
       " 0.0011293010489167728,\n",
       " 0.001152828154102539,\n",
       " 0.001176355259288305,\n",
       " 0.0011998823644740711]"
      ]
     },
     "execution_count": 47,
     "metadata": {},
     "output_type": "execute_result"
    }
   ],
   "source": [
    "d_c = []\n",
    "n = 101\n",
    "for i in range(0, 102):\n",
    "    value =  (np.float64(-1) + (np.float64(2*i) / np.float64(n - 1))) * (np.float64(12) / np.float64(n*n))\n",
    "    d_c.append(value)\n",
    "d_c"
   ]
  },
  {
   "cell_type": "code",
   "execution_count": 31,
   "metadata": {},
   "outputs": [
    {
     "data": {
      "text/plain": [
       "array([[ -2.,   1.,   0., ...,   0.,   0.,   0.],\n",
       "       [  1.,  -2.,   1., ...,   0.,   0.,   1.],\n",
       "       [  0.,   1.,  -2., ...,   0.,   0.,   2.],\n",
       "       ...,\n",
       "       [  0.,   0.,   0., ...,   1.,   0.,  98.],\n",
       "       [  0.,   0.,   0., ...,  -2.,   1.,  99.],\n",
       "       [  0.,   0.,   0., ...,   1.,  -2., 100.]])"
      ]
     },
     "execution_count": 31,
     "metadata": {},
     "output_type": "execute_result"
    }
   ],
   "source": [
    "d = []\n",
    "for i in range(0, 101):\n",
    "    d.append(i)\n",
    "\n",
    "def create_matrix_with_d(d):\n",
    "    m_res = np.zeros((101,102)).astype(np.float64)\n",
    "    for i in range(101):\n",
    "        m_res[i][i]=-2\n",
    "        if(i+1<=100):\n",
    "            m_res[i+1][i]=1\n",
    "            m_res[i][i+1]=1    \n",
    "    for i in range(101):\n",
    "        m_res[i][101]= d[i]\n",
    "    return m_res  \n",
    "\n",
    "create_matrix_with_d(d)      "
   ]
  },
  {
   "cell_type": "code",
   "execution_count": 132,
   "metadata": {},
   "outputs": [
    {
     "data": {
      "image/png": "[encoded data removed]",
      "text/plain": [
       "<Figure size 432x288 with 1 Axes>"
      ]
     },
     "metadata": {
      "needs_background": "light"
     },
     "output_type": "display_data"
    }
   ],
   "source": [
    "def verificacion_exp(ds):\n",
    "  \n",
    "  x = range(0, 101)\n",
    "  x_ds = np.zeros((3, 101))\n",
    "  for i in range(2):\n",
    "    matrix_c = create_matrix_with_d(ds[i])\n",
    "    x_ds[i] = elim_gauss_tridiaognal(matrix_c)\n",
    "  \n",
    "  matrix_c = create_matrix_with_d(ds[2])\n",
    "  A = matrix_c[:, :-1]\n",
    "\n",
    "# El vector de términos independientes B es la última columna\n",
    "  B = matrix_c[:, -1]  \n",
    "  x_ds[2] = elim_gauss_tridiagonal(A, B)\n",
    "\n",
    "  fig, ax = plt.subplots( nrows=1, ncols=1 )\n",
    "  plt.plot(x, x_ds[0], label = \"(a)\")\n",
    "  plt.plot(x, x_ds[1], label = \"(b)\")\n",
    "  plt.plot(x, x_ds[2], label = \"(c)\")\n",
    "  yticks = np.arange(-1, 0.50, 0.25)\n",
    "  ax.set_yticks(yticks) \n",
    "  ax.set_xlabel(\"x\")\n",
    "  ax.set_ylabel(\"u\")\n",
    "  plt.legend()\n",
    "  #fig.savefig('verificacion_exp.pdf')\n",
    "  plt.show()\n",
    "  \n",
    "  \n",
    "  return\n",
    "\n",
    "verificacion_exp([d_a, d_b, d_c])"
   ]
  },
  {
   "cell_type": "code",
   "execution_count": 41,
   "metadata": {},
   "outputs": [
    {
     "name": "stdout",
     "output_type": "stream",
     "text": [
      "[[ 1.000e+00 -2.000e+00  1.000e+00 ...  0.000e+00  0.000e+00  1.000e+00]\n",
      " [ 0.000e+00  1.000e+00 -2.000e+00 ...  0.000e+00  0.000e+00  2.000e+00]\n",
      " [ 0.000e+00  0.000e+00  1.000e+00 ...  0.000e+00  0.000e+00  3.000e+00]\n",
      " ...\n",
      " [ 0.000e+00  0.000e+00  0.000e+00 ... -2.000e+00  1.000e+00  9.900e+01]\n",
      " [ 0.000e+00  0.000e+00  0.000e+00 ...  1.000e+00 -2.000e+00  1.000e+02]\n",
      " [ 0.000e+00  0.000e+00  0.000e+00 ...  0.000e+00 -1.020e+02  3.434e+05]]\n",
      "[-4.14225961e+33 -2.07112981e+33 -1.03556490e+33 -5.17782451e+32\n",
      " -2.58891226e+32 -1.29445613e+32 -6.47228064e+31 -3.23614032e+31\n",
      " -1.61807016e+31 -8.09035080e+30 -4.04517540e+30 -2.02258770e+30\n",
      " -1.01129385e+30 -5.05646925e+29 -2.52823463e+29 -1.26411731e+29\n",
      " -6.32058657e+28 -3.16029328e+28 -1.58014664e+28 -7.90073321e+27\n",
      " -3.95036660e+27 -1.97518330e+27 -9.87591651e+26 -4.93795825e+26\n",
      " -2.46897913e+26 -1.23448956e+26 -6.17244782e+25 -3.08622391e+25\n",
      " -1.54311195e+25 -7.71555977e+24 -3.85777989e+24 -1.92888994e+24\n",
      " -9.64444971e+23 -4.82222486e+23 -2.41111243e+23 -1.20555621e+23\n",
      " -6.02778107e+22 -3.01389054e+22 -1.50694527e+22 -7.53472634e+21\n",
      " -3.76736317e+21 -1.88368158e+21 -9.41840792e+20 -4.70920396e+20\n",
      " -2.35460198e+20 -1.17730099e+20 -5.88650495e+19 -2.94325248e+19\n",
      " -1.47162624e+19 -7.35813119e+18 -3.67906560e+18 -1.83953280e+18\n",
      " -9.19766399e+17 -4.59883199e+17 -2.29941600e+17 -1.14970800e+17\n",
      " -5.74853999e+16 -2.87427000e+16 -1.43713500e+16 -7.18567499e+15\n",
      " -3.59283750e+15 -1.79641875e+15 -8.98209374e+14 -4.49104687e+14\n",
      " -2.24552343e+14 -1.12276172e+14 -5.61380859e+13 -2.80690429e+13\n",
      " -1.40345215e+13 -7.01726073e+12 -3.50863037e+12 -1.75431518e+12\n",
      " -8.77157592e+11 -4.38578796e+11 -2.19289398e+11 -1.09644699e+11\n",
      " -5.48223496e+10 -2.74111748e+10 -1.37055874e+10 -6.85279376e+09\n",
      " -3.42639692e+09 -1.71319850e+09 -8.56599292e+08 -4.28299687e+08\n",
      " -2.14149886e+08 -1.07074985e+08 -5.35375357e+07 -2.67688113e+07\n",
      " -1.33844497e+07 -6.69226933e+06 -3.34617967e+06 -1.67313533e+06\n",
      " -8.36613667e+05 -4.18353333e+05 -2.09223667e+05 -1.04659333e+05\n",
      " -5.23776667e+04 -2.62373333e+04 -1.31676667e+04 -6.63333333e+03\n",
      " -3.36666667e+03]\n",
      "[ -1683.33333333  -3366.66666667  -5049.          -6729.33333333\n",
      "  -8406.66666667 -10080.         -11748.33333333 -13410.66666667\n",
      " -15066.         -16713.33333333 -18351.66666667 -19980.\n",
      " -21597.33333333 -23202.66666667 -24795.         -26373.33333333\n",
      " -27936.66666667 -29484.         -31014.33333333 -32526.66666667\n",
      " -34020.         -35493.33333333 -36945.66666667 -38376.\n",
      " -39783.33333333 -41166.66666667 -42525.         -43857.33333333\n",
      " -45162.66666667 -46440.         -47688.33333333 -48906.66666667\n",
      " -50094.         -51249.33333333 -52371.66666667 -53460.\n",
      " -54513.33333333 -55530.66666667 -56511.         -57453.33333333\n",
      " -58356.66666667 -59220.         -60042.33333333 -60822.66666667\n",
      " -61560.         -62253.33333333 -62901.66666667 -63504.\n",
      " -64059.33333333 -64566.66666667 -65025.         -65433.33333333\n",
      " -65790.66666667 -66096.         -66348.33333333 -66546.66666667\n",
      " -66690.         -66777.33333333 -66807.66666667 -66780.\n",
      " -66693.33333333 -66546.66666667 -66339.         -66069.33333333\n",
      " -65736.66666667 -65340.         -64878.33333333 -64350.66666667\n",
      " -63756.         -63093.33333333 -62361.66666667 -61560.\n",
      " -60687.33333333 -59742.66666667 -58725.         -57633.33333333\n",
      " -56466.66666667 -55224.         -53904.33333333 -52506.66666667\n",
      " -51030.         -49473.33333333 -47835.66666667 -46116.\n",
      " -44313.33333333 -42426.66666667 -40455.         -38397.33333333\n",
      " -36252.66666667 -34020.         -31698.33333333 -29286.66666667\n",
      " -26784.         -24189.33333333 -21501.66666667 -18720.\n",
      " -15843.33333333 -12870.66666667  -9801.          -6633.33333333\n",
      "  -3366.66666667]\n"
     ]
    }
   ],
   "source": [
    "\n",
    "M = create_matrix_with_d(d)\n",
    "# La matriz de coeficientes A es todas las filas y todas las columnas excepto la última\n",
    "A = M[:, :-1]\n",
    "\n",
    "# El vector de términos independientes B es la última columna\n",
    "B = M[:, -1]\n",
    "\n",
    "sol_pivot = elim_gauss_con_pivot(M, 0.0000001)\n",
    "sol_tridiagonal = elim_gauss_tridiaognal(M)\n",
    "solplicita(u_0, A, m):\n",
    "    m_res = np.zeros((m,101)).astype(np.float64)\n",
    "    u=u_0\n",
    "    m_res[0]=u\n",
    "    for k in range(1,m):\n",
    "        u = elim_gau_numpy = np.linalg.solve(A, B)\n",
    "\n",
    "\n",
    "\n",
    "print(sol_pivot)\n",
    "print(sol_tridiagonal)\n",
    "print(sol_numpy)"
   ]
  },
  {
   "cell_type": "markdown",
   "metadata": {},
   "source": [
    "## Ejercicio 5"
   ]
  },
  {
   "cell_type": "markdown",
   "metadata": {},
   "source": [
    "experimentacion del punto a\n",
    "generar matrices tridiagonales de distintos tamaños(10, 1e2, 1e3, .. 1e10) o un rango menor si es muy grande \n",
    "r=5000\n",
    "\n",
    "2 casos\n",
    "1) probar generando el laplaciano de distintos tamaños\n",
    "2) podemos probar generando matrices tridiagonales aleatorias."
   ]
  },
  {
   "cell_type": "code",
   "execution_count": null,
   "metadata": {},
   "outputs": [],
   "source": []
  },
  {
   "cell_type": "markdown",
   "metadata": {},
   "source": [
    "## Ejercicio 6"
   ]
  },
  {
   "cell_type": "markdown",
   "metadata": {},
   "source": [
    "# Datos"
   ]
  },
  {
   "cell_type": "code",
   "execution_count": 46,
   "metadata": {},
   "outputs": [
    {
     "name": "stdout",
     "output_type": "stream",
     "text": [
      "[0. 0. 0. 0. 0. 0. 0. 0. 0. 0. 0. 0. 0. 0. 0. 0. 0. 0. 0. 0. 0. 0. 0. 0.\n",
      " 0. 0. 0. 0. 0. 0. 0. 0. 0. 0. 0. 0. 0. 0. 0. 0. 0. 1. 1. 1. 1. 1. 1. 1.\n",
      " 1. 1. 1. 1. 1. 1. 1. 1. 1. 1. 1. 1. 0. 0. 0. 0. 0. 0. 0. 0. 0. 0. 0. 0.\n",
      " 0. 0. 0. 0. 0. 0. 0. 0. 0. 0. 0. 0. 0. 0. 0. 0. 0. 0. 0. 0. 0. 0. 0. 0.\n",
      " 0. 0. 0. 0. 0.]\n"
     ]
    },
    {
     "data": {
      "text/plain": [
       "array([[-2.,  1.,  0., ...,  0.,  0.,  0.],\n",
       "       [ 1., -2.,  1., ...,  0.,  0.,  0.],\n",
       "       [ 0.,  1., -2., ...,  0.,  0.,  0.],\n",
       "       ...,\n",
       "       [ 0.,  0.,  0., ..., -2.,  1.,  0.],\n",
       "       [ 0.,  0.,  0., ...,  1., -2.,  1.],\n",
       "       [ 0.,  0.,  0., ...,  0.,  1., -2.]])"
      ]
     },
     "execution_count": 46,
     "metadata": {},
     "output_type": "execute_result"
    }
   ],
   "source": [
    "n = 101\n",
    "r = 10\n",
    "m = 1000\n",
    "\n",
    "def create_u0(n,r):\n",
    "    u = np.zeros(n).astype(np.float64)\n",
    "    for i in range(n):\n",
    "        if(i > (n//2-r) and i < n//2+r):\n",
    "            u[i]=1\n",
    "    return u\n",
    "\n",
    "print(create_u0(n,r))\n",
    "def create_matrix_laplaciano(alpha):\n",
    "    m_res = np.zeros((101,101)).astype(np.float64)\n",
    "    for i in range(101):\n",
    "        m_res[i][i]=-2\n",
    "        if(i+1<=100):\n",
    "            m_res[i+1][i]=1\n",
    "            m_res[i][i+1]=1 \n",
    "    for i in range(101):\n",
    "        for j in range(101):\n",
    "            m_res[i][j]*= alpha            \n",
    "    return m_res  \n",
    "\n",
    "create_matrix_laplaciano(1)"
   ]
  },
  {
   "cell_type": "markdown",
   "metadata": {},
   "source": [
    " item a) caso explicito"
   ]
  },
  {
   "cell_type": "code",
   "execution_count": 24,
   "metadata": {},
   "outputs": [],
   "source": [
    "def mult(A, v):\n",
    "    v_res = np.zeros(len(v))\n",
    "    for i in range(len(v)):\n",
    "        res = 0\n",
    "        for j in range(len(v)):\n",
    "            res+= A[i][j]*v[j]\n",
    "        v_res[i]=res\n",
    "    return v_res\n"
   ]
  },
  {
   "cell_type": "code",
   "execution_count": 54,
   "metadata": {},
   "outputs": [
    {
     "ename": "NameError",
     "evalue": "name 'el' is not defined",
     "output_type": "error",
     "traceback": [
      "\u001b[0;31m---------------------------------------------------------------------------\u001b[0m",
      "\u001b[0;31mNameError\u001b[0m                                 Traceback (most recent call last)",
      "\u001b[0;32m/tmp/ipykernel_1268408/2215639158.py\u001b[0m in \u001b[0;36m<module>\u001b[0;34m\u001b[0m\n\u001b[1;32m      1\u001b[0m \u001b[0me1\u001b[0m \u001b[0;34m=\u001b[0m \u001b[0mnp\u001b[0m\u001b[0;34m.\u001b[0m\u001b[0mzeros\u001b[0m\u001b[0;34m(\u001b[0m\u001b[0;36m101\u001b[0m\u001b[0;34m)\u001b[0m\u001b[0;34m\u001b[0m\u001b[0;34m\u001b[0m\u001b[0m\n\u001b[0;32m----> 2\u001b[0;31m \u001b[0mel\u001b[0m\u001b[0;34m[\u001b[0m\u001b[0;36m0\u001b[0m\u001b[0;34m]\u001b[0m \u001b[0;34m=\u001b[0m \u001b[0;36m1\u001b[0m\u001b[0;34m\u001b[0m\u001b[0;34m\u001b[0m\u001b[0m\n\u001b[0m\u001b[1;32m      3\u001b[0m \u001b[0;32mdef\u001b[0m \u001b[0msim_explicita\u001b[0m\u001b[0;34m(\u001b[0m\u001b[0mu_0\u001b[0m\u001b[0;34m,\u001b[0m \u001b[0mA\u001b[0m\u001b[0;34m,\u001b[0m \u001b[0mm\u001b[0m\u001b[0;34m)\u001b[0m\u001b[0;34m:\u001b[0m\u001b[0;34m\u001b[0m\u001b[0;34m\u001b[0m\u001b[0m\n\u001b[1;32m      4\u001b[0m     \u001b[0mm_res\u001b[0m \u001b[0;34m=\u001b[0m \u001b[0mnp\u001b[0m\u001b[0;34m.\u001b[0m\u001b[0mzeros\u001b[0m\u001b[0;34m(\u001b[0m\u001b[0;34m(\u001b[0m\u001b[0mm\u001b[0m\u001b[0;34m,\u001b[0m\u001b[0;36m101\u001b[0m\u001b[0;34m)\u001b[0m\u001b[0;34m)\u001b[0m\u001b[0;34m\u001b[0m\u001b[0;34m\u001b[0m\u001b[0m\n\u001b[1;32m      5\u001b[0m     \u001b[0mu\u001b[0m\u001b[0;34m=\u001b[0m\u001b[0mu_0\u001b[0m\u001b[0;34m\u001b[0m\u001b[0;34m\u001b[0m\u001b[0m\n",
      "\u001b[0;31mNameError\u001b[0m: name 'el' is not defined"
     ]
    }
   ],
   "source": [
    "e1 = np.zeros(101)\n",
    "e1[0] = 1\n",
    "\n",
    "def sim_explicita(u_0, A, m):\n",
    "    m_res = np.zeros((m,101))\n",
    "    u=u_0\n",
    "    m_res[0]=u\n",
    "    for k in range(1,m):\n",
    "        u = A @ u\n",
    "        m_res[k]= u\n",
    "        #print(m_res[k])\n",
    "    return m_res   \n",
    "\n",
    "x= sim_explicita(el, create_matrix_laplaciano(0.5), m)\n",
    "\n",
    "plt.pcolor(x.T)\n",
    "plt.colorbar()\n"
   ]
  },
  {
   "cell_type": "markdown",
   "metadata": {},
   "source": [
    "item b) caso implicito"
   ]
  },
  {
   "cell_type": "code",
   "execution_count": 40,
   "metadata": {},
   "outputs": [
    {
     "name": "stderr",
     "output_type": "stream",
     "text": [
      "/tmp/ipykernel_1268408/2548829531.py:20: RuntimeWarning: overflow encountered in double_scalars\n",
      "  d_prima = (M[i][len(M[i]) - 1] - (M[i][i - 1] * terminos_indep_computados[i - 1])) /  (M[i][i] - M[i][i - 1] * coeficientes_computados[i-1]) #un coeficientes_computados.pop() tambien funcionaria\n",
      "/usr/lib/python3/dist-packages/matplotlib/image.py:446: RuntimeWarning: overflow encountered in double_scalars\n",
      "  newmin = vmid - dv * fact\n",
      "/usr/lib/python3/dist-packages/matplotlib/image.py:451: RuntimeWarning: overflow encountered in double_scalars\n",
      "  newmax = vmid + dv * fact\n"
     ]
    },
    {
     "data": {
      "image/png": "[encoded data removed]",
      "text/plain": [
       "<Figure size 432x288 with 2 Axes>"
      ]
     },
     "metadata": {
      "needs_background": "light"
     },
     "output_type": "display_data"
    }
   ],
   "source": [
    "def sim_explicita(u_0, A, m):\n",
    "    m_res = np.zeros((m,101)).astype(np.float64)\n",
    "    u=u_0\n",
    "    m_res[0]=u\n",
    "    for k in range(1,m):\n",
    "        u = elim_gauss_tridiagonal(A, u)\n",
    "        m_res[k]= u\n",
    "        #print(m_res[k])\n",
    "    return m_res   \n",
    "\n",
    "x = sim_explicita(create_u0(n,r), create_matrix_laplaciano(1), m)\n"
   ]
  },
  {
   "cell_type": "code",
   "execution_count": null,
   "metadata": {},
   "outputs": [],
   "source": []
  },
  {
   "cell_type": "code",
   "execution_count": null,
   "metadata": {},
   "outputs": [],
   "source": []
  }
 ],
 "metadata": {
  "kernelspec": {
   "display_name": "Python 3 (ipykernel)",
   "language": "python",
   "name": "python3"
  },
  "language_info": {
   "codemirror_mode": {
    "name": "ipython",
    "version": 3
   },
   "file_extension": ".py",
   "mimetype": "text/x-python",
   "name": "python",
   "nbconvert_exporter": "python",
   "pygments_lexer": "ipython3",
   "version": "3.10.12"
  }
 },
 "nbformat": 4,
 "nbformat_minor": 4
}
