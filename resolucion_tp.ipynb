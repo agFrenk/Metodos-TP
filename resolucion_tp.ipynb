{
 "cells": [
  {
   "cell_type": "markdown",
   "metadata": {},
   "source": [
    "## Dependencias"
   ]
  },
  {
   "cell_type": "code",
   "execution_count": 67,
   "metadata": {},
   "outputs": [],
   "source": [
    "import sys\n",
    "import numpy as np\n",
    "import matplotlib\n",
    "import time\n",
    "%matplotlib inline\n",
    "import matplotlib.pyplot as plt\n",
    "from enum import Enum, auto\n",
    "import math\n"
   ]
  },
  {
   "cell_type": "markdown",
   "metadata": {},
   "source": [
    "## Ejercicio 1"
   ]
  },
  {
   "cell_type": "markdown",
   "metadata": {},
   "source": [
    "### Datos"
   ]
  },
  {
   "cell_type": "code",
   "execution_count": 68,
   "metadata": {},
   "outputs": [
    {
     "data": {
      "text/plain": [
       "array([[ 1.,  1.,  1.,  1., 10.],\n",
       "       [ 1.,  1.,  1.,  1., 11.],\n",
       "       [ 1.,  1.,  1.,  1., 12.],\n",
       "       [ 1.,  1.,  1.,  1., 13.]])"
      ]
     },
     "execution_count": 68,
     "metadata": {},
     "output_type": "execute_result"
    }
   ],
   "source": [
    "a_matrix =         np.array([[ 1,  1,  1,  1, 10],\n",
    "                    [ 1,  1,  1,  1, 11],\n",
    "                    [ 1,  1,  1,  1, 12],\n",
    "                    [ 1,  1,  1,  1, 13]]).astype(np.float64)\n",
    "a_matrix"
   ]
  },
  {
   "cell_type": "markdown",
   "metadata": {},
   "source": [
    "### Implementación"
   ]
  },
  {
   "cell_type": "code",
   "execution_count": 69,
   "metadata": {},
   "outputs": [
    {
     "data": {
      "text/plain": [
       "array([[ 1.,  1.,  1.,  1., 10.],\n",
       "       [ 0.,  0.,  0.,  0.,  1.],\n",
       "       [ 0.,  0.,  0.,  0.,  2.],\n",
       "       [ 0.,  0.,  0.,  0.,  3.]])"
      ]
     },
     "execution_count": 69,
     "metadata": {},
     "output_type": "execute_result"
    }
   ],
   "source": [
    "##item a\n",
    "def elim_gauss_sin_pivot(M): \n",
    "   for i in range(0, len(M[0]) - 2):\n",
    "    for j in range(i+1, len(M)):\n",
    "      if M[i][i] != 0: #CAMBIAR!!! NO SE PUEDE COMPARAR CON CEROOOOOOOO!!! OJO \n",
    "        m_ji = M[j][i]/M[i][i]\n",
    "        for k in range(i,len(M[0])):\n",
    "          M[j][k] = M[j][k] - m_ji * M[i][k]\n",
    "      else:\n",
    "        for jerror in range(i+1, len(M)):\n",
    "          if M[jerror][i] != 0: #CAMBIAR!!! NO SE PUEDE COMPARAR CON CEROOOOOOOO!!! OJO \n",
    "            raise Exception(\"No se puede realizar la eliminacion gaussiana con i:\" + str(i) + \" y j: \" + str(j))\n",
    "   return M\n",
    "\n",
    "def solve_sys_EGsin(M):\n",
    "  M_res = elim_gauss_sin_pivot(M)\n",
    "  x = back_subs(M_res)\n",
    "  return x\n",
    "\n",
    "def back_subs(M):\n",
    "  n = len(M)\n",
    "  x=[]\n",
    "  for i in range(n):\n",
    "    x.append(np.float64(0))\n",
    "  for i in reversed(range(n)):\n",
    "    x[i]= (M[i][n-1])\n",
    "    if(M[i][i]!=0.0):\n",
    "      for j in range(i+1,n):\n",
    "        if(M[i][j]!=0.0):\n",
    "          x[i]= x[i]- M[i][j]*x[j] \n",
    "      x[i] = x[i]/M[i][i]\n",
    "    else:\n",
    "      x[i]= f\"x{i}\"\n",
    "  return x\n",
    "\n",
    "elim_gauss_sin_pivot(a_matrix)\n",
    "#solve_sys_EGsin(a_matrix)\n",
    "\n"
   ]
  },
  {
   "cell_type": "markdown",
   "metadata": {},
   "source": [
    "## Ejercicio 2"
   ]
  },
  {
   "cell_type": "markdown",
   "metadata": {},
   "source": [
    "### Datos"
   ]
  },
  {
   "cell_type": "code",
   "execution_count": 70,
   "metadata": {},
   "outputs": [],
   "source": [
    "b_matrix =         np.array([[ 1,  1,  1,  1, 10],\n",
    "                    [ 1,  1,  1,  1, 11],\n",
    "                    [ 1,  2,  1,  1, 12],\n",
    "                    [ 1,  2,  1,  1, 13]]).astype(np.float64)\n",
    "\n",
    "a_matrix2 = np.array([[ 1,  1,  0,  0, 0],\n",
    "                     [ 2,  0,  0,  0, 0],\n",
    "                     [ 0,  2,  1,  4, 0],\n",
    "                     [ 0,  0,  2,  1, 0]]).astype(np.float64)\n",
    "\n",
    "#Funcion para la experimentacion del item c)\n",
    "def create_matrix_with_epsilon_float64(epsilon):\n",
    "    c_matrix = np.array([[ 1.0,  2.0+epsilon,  3.0-epsilon,  6.0],\n",
    "                     [ 1.0-epsilon,  2.0,  3.0+epsilon,  6.0],\n",
    "                     [ 1.0+epsilon,  2.0-epsilon,  3.0,  6.0]]).astype(np.float64)\n",
    "    return c_matrix\n",
    "\n",
    "def create_matrix_with_epsilon_float32(epsilon):\n",
    "    c_matrix = np.array([[ 1.0,  2.0+epsilon,  3.0-epsilon,  6.0],\n",
    "                     [ 1.0-epsilon,  2.0,  3.0+epsilon,  6.0],\n",
    "                     [ 1.0+epsilon,  2.0-epsilon,  3.0,  6.0]]).astype(np.float32)\n",
    "    return c_matrix\n",
    "\n",
    "x_64=np.array([1,1,1]).astype(np.float64)\n",
    "x_32=np.array([1,1,1]).astype(np.float32)\n",
    "#for i in np.logspace(1e-6, 10, endpoint=True):\n",
    " #   print(create_matrix_with_epsilon_float64(i))"
   ]
  },
  {
   "cell_type": "markdown",
   "metadata": {},
   "source": [
    "### Código"
   ]
  },
  {
   "cell_type": "code",
   "execution_count": 71,
   "metadata": {},
   "outputs": [
    {
     "data": {
      "text/plain": [
       "array([ 0., -0.,  1.], dtype=float32)"
      ]
     },
     "execution_count": 71,
     "metadata": {},
     "output_type": "execute_result"
    }
   ],
   "source": [
    "##item a\n",
    "def elim_gauss_con_pivot(M, threshold): \n",
    "  for i in range(0, len(M[0]) - 2):\n",
    "    #Buscamos la fila de maximo valor para permutar\n",
    "    j_max=i\n",
    "    val_j_max=0\n",
    "    for j_pivot in range(i+1, len(M)):\n",
    "      if abs(M[j_pivot][i]) > val_j_max:\n",
    "        val_j_max = abs(M[j_pivot][i])\n",
    "        j_max = j_pivot\n",
    "    #Permutamos \n",
    "    for p in range(i, len(M[0])):\n",
    "      m_ip = M[i][p]\n",
    "      M[i][p] = M[j_max][p]\n",
    "      M[j_max][p] = m_ip \n",
    "    #Hacemos el paso de eliminacion gaussiana \n",
    "    for j in range(i+1, len(M)):\n",
    "      if M[i][i] != 0:  #CAMBIAR!!! NO SE PUEDE COMPARAR CON CEROOOOOOOO!!! OJO \n",
    "        m_ji = float(M[j][i])/float(M[i][i])\n",
    "        for k in range(i,len(M[0])):\n",
    "          M[j][k] = M[j][k] - m_ji * M[i][k]\n",
    "      else:\n",
    "        for jerror in range(i+1, len(M)):\n",
    "          if M[jerror][i] != 0: #CAMBIAR!!! NO SE PUEDE COMPARAR CON CEROOOOOOOO!!! OJO \n",
    "            raise Exception(\"No se puede realizar la eliminacion gaussiana con i:\" + str(i) + \" y j: \" + str(j))\n",
    "  return M\n",
    "\n",
    "def back_subs64(M):\n",
    "  n = len(M)\n",
    "  x= np.zeros(n).astype(np.float64)\n",
    "  for i in reversed(range(n)):\n",
    "    x[i]= (M[i][n])\n",
    "    if M[i][i] != 0.0 : #CAMBIAR!!! NO SE PUEDE COMPARAR CON CEROOOOOOOO!!! OJO \n",
    "      for j in range(i+1,n):\n",
    "        x[i]= x[i]- M[i][j]*x[j] \n",
    "      x[i] = x[i]/M[i][i]\n",
    "  return x\n",
    "\n",
    "def back_subs32(M):\n",
    "  n = len(M)\n",
    "  x= np.zeros(n).astype(np.float32)\n",
    "  for i in reversed(range(n)):\n",
    "    x[i]= (M[i][n])\n",
    "    if(M[i][i]!=0.0):\n",
    "      for j in range(i+1,n):\n",
    "          x[i]= x[i]- M[i][j]*x[j] \n",
    "      x[i] = x[i]/M[i][i]\n",
    "  return x\n",
    "    \n",
    "def solve_sys_EG64(M, threshold):\n",
    "  M_res = elim_gauss_con_pivot(M, threshold)\n",
    "  x = back_subs64(M_res)\n",
    "  return x\n",
    "\n",
    "def solve_sys_EG32(M, threshold):\n",
    "  M_res = elim_gauss_con_pivot(M, threshold)\n",
    "  x = back_subs32(M_res)\n",
    "  return x\n",
    "\n",
    "elim_gauss_con_pivot(a_matrix2, 0.0001)\n",
    "\n",
    "##item b, matriz diagonal con algun a_ii=0 y b_i!=0\n",
    "matrix_no_solution = np.array([[ 1,  0,  0, 1],\n",
    "                               [ 2,  0,  0, 1],\n",
    "                               [ 0,  0,  0, 2],\n",
    "                               [ 0,  0,  1, 1]]).astype(np.float64)\n",
    "\n",
    "##item c\n",
    "def inf_norm(v, w):\n",
    "  res=0\n",
    "  for i in range(len(v)):\n",
    "    res = max(res, abs(v[i]-w[i]))\n",
    "  return res\n",
    "\n",
    "solve_sys_EG32(np.array([[1,2,3,3],[1,3,4,4], [1,2,5,5]]).astype(np.float64), 0.01)"
   ]
  },
  {
   "cell_type": "code",
   "execution_count": 72,
   "metadata": {},
   "outputs": [
    {
     "name": "stdout",
     "output_type": "stream",
     "text": [
      "[1. 1. 1.]\n",
      "[1. 1. 1.]\n",
      "[1. 1. 1.]\n",
      "[1. 1. 1.]\n",
      "[1. 1. 1.]\n",
      "[1. 1. 1.]\n",
      "[1. 1. 1.]\n",
      "[1. 1. 1.]\n",
      "[1. 1. 1.]\n",
      "[1. 1. 1.]\n",
      "[1. 1. 1.]\n",
      "[1. 1. 1.]\n",
      "[1. 1. 1.]\n",
      "[1. 1. 1.]\n",
      "[1. 1. 1.]\n",
      "[1. 1. 1.]\n",
      "[1. 1. 1.]\n",
      "[1. 1. 1.]\n",
      "[1. 1. 1.]\n",
      "[1. 1. 1.]\n",
      "[1. 1. 1.]\n",
      "[1. 1. 1.]\n",
      "[1. 1. 1.]\n",
      "[1. 1. 1.]\n",
      "[1. 1. 1.]\n",
      "[1. 1. 1.]\n",
      "[1. 1. 1.]\n",
      "[1. 1. 1.]\n",
      "[1. 1. 1.]\n",
      "[1. 1. 1.]\n",
      "[1. 1. 1.]\n",
      "[1. 1. 1.]\n",
      "[1. 1. 1.]\n",
      "[1. 1. 1.]\n",
      "[1. 1. 1.]\n",
      "[1. 1. 1.]\n",
      "[1. 1. 1.]\n",
      "[1. 1. 1.]\n",
      "[1. 1. 1.]\n",
      "[1. 1. 1.]\n",
      "[1. 1. 1.]\n",
      "[1. 1. 1.]\n",
      "[1. 1. 1.]\n",
      "[1. 1. 1.]\n",
      "[1. 1. 1.]\n",
      "[1. 1. 1.]\n",
      "[1. 1. 1.]\n",
      "[1. 1. 1.]\n",
      "[1. 1. 1.]\n",
      "[1. 1. 1.]\n"
     ]
    },
    {
     "data": {
      "image/png": "[encoded data removed]",
      "text/plain": [
       "<Figure size 432x288 with 1 Axes>"
      ]
     },
     "metadata": {
      "needs_background": "light"
     },
     "output_type": "display_data"
    }
   ],
   "source": [
    "def numeric_error_exp():\n",
    "  v_epsilon = np.logspace(-6, 1, endpoint=True)\n",
    "  threshold = 1e-10\n",
    "  v_res64 = np.zeros(len(v_epsilon))\n",
    "  v_res32 = np.zeros(len(v_epsilon))\n",
    "\n",
    "  for i in range(len(v_epsilon)):\n",
    "    matrix_c = create_matrix_with_epsilon_float64(v_epsilon[i])\n",
    "    x_obt = solve_sys_EG64(matrix_c, threshold)\n",
    "    print(x_obt)\n",
    "    v_res64[i] = np.linalg.norm(x_obt- x_64, np.inf)\n",
    "      \n",
    "  for i in range(len(v_epsilon)):\n",
    "    matrix_c = create_matrix_with_epsilon_float32(v_epsilon[i])\n",
    "    x_obt = solve_sys_EG32(matrix_c, threshold)\n",
    "    v_res32[i] = np.linalg.norm(x_obt - x_32, np.inf)\n",
    "\n",
    "  fig, ax = plt.subplots( nrows=1, ncols=1 )\n",
    "  ax.loglog(v_epsilon, v_res64, 'o', label = \"float64\")\n",
    "  ax.loglog(v_epsilon, v_res32, 'o', label = \"float32\")\n",
    "  #ax.plot(v_epsilon, v_res64 - v_res32, label = \"float64 - float32\")\n",
    "  # print(v_res64 - v_res32)\n",
    "  ax.set_title('comparacion de error numerico')\n",
    "  ax.legend()\n",
    "  plt.show()\n",
    "  # plt.savefig('error_numerico_exp')\n",
    "\n",
    "numeric_error_exp()\n"
   ]
  },
  {
   "cell_type": "markdown",
   "metadata": {},
   "source": [
    "## Ejercicio 3"
   ]
  },
  {
   "cell_type": "markdown",
   "metadata": {},
   "source": [
    "### Datos"
   ]
  },
  {
   "cell_type": "code",
   "execution_count": 73,
   "metadata": {},
   "outputs": [
    {
     "data": {
      "text/plain": [
       "array([-2.96666667,  1.60833333,  0.06666667])"
      ]
     },
     "execution_count": 73,
     "metadata": {},
     "output_type": "execute_result"
    }
   ],
   "source": [
    "matriz_tridiagonal_facil =  np.array(\n",
    "                   [[ 4,  8,  0, 1],\n",
    "                    [ 2,  8,  16, 8],\n",
    "                    [ 0,  8,  2, 13]]).astype(np.float64)\n",
    "\n",
    "# print(elim_gauss_sin_pivot(matriz_tridiagonal_facil))\n",
    "solve_sys_EG64(matriz_tridiagonal_facil, 0000.1)"
   ]
  },
  {
   "cell_type": "markdown",
   "metadata": {},
   "source": [
    "### Implementacion"
   ]
  },
  {
   "cell_type": "markdown",
   "metadata": {},
   "source": [
    "#### Gauss para Tridiagonales"
   ]
  },
  {
   "cell_type": "code",
   "execution_count": 74,
   "metadata": {},
   "outputs": [
    {
     "data": {
      "text/plain": [
       "array([-2.96666667,  1.60833333,  0.06666667])"
      ]
     },
     "execution_count": 74,
     "metadata": {},
     "output_type": "execute_result"
    }
   ],
   "source": [
    "def elim_gauss_tridiagonal(M): \n",
    "   for i in range(0, len(M[0]) - 2):\n",
    "      if M[i][i] != 0: #CAMBIAR!!! NO SE PUEDE COMPARAR CON CEROOOOOOOO!!! OJO \n",
    "        m_ji = M[i+1][i]/M[i][i]\n",
    "        for k in range(i,len(M[0])):\n",
    "          M[i+1][k] = M[i+1][k] - m_ji * M[i][k]\n",
    "      else:\n",
    "        for jerror in range(i+1, len(M)):\n",
    "          if M[jerror][i] != 0: #CAMBIAR!!! NO SE PUEDE COMPARAR CON CEROOOOOOOO!!! OJO \n",
    "            raise Exception(\"No se puede realizar la eliminacion gaussiana con i:\" + str(i) + \" y j: \" + str(j))\n",
    "   return M\n",
    "\n",
    "M = elim_gauss_tridiagonal(matriz_tridiagonal_facil)\n",
    "back_subs64(M)"
   ]
  },
  {
   "cell_type": "markdown",
   "metadata": {},
   "source": [
    "#### Algoritmo de Thomas"
   ]
  },
  {
   "cell_type": "markdown",
   "metadata": {},
   "source": [
    "##### todo cambiar listas arrays de numpy"
   ]
  },
  {
   "cell_type": "code",
   "execution_count": 75,
   "metadata": {},
   "outputs": [],
   "source": [
    "\n",
    "def coeficientes_thomas(M):\n",
    "  coeficientes_computados = []\n",
    "  for i in range(0, len(M)):\n",
    "    c_prima = 0\n",
    "    if i == 0:\n",
    "      c_prima = M[i][i + 1] /  M[i][i]\n",
    "    else:\n",
    "      c_prima = M[i][i + 1] /  (M[i][i] - (M[i][i - 1] * coeficientes_computados[i-1])) #un coeficientes_computados.pop() tambien funcionaria\n",
    "\n",
    "    coeficientes_computados.append(c_prima)\n",
    "  return coeficientes_computados\n",
    "\n",
    "def term_indep_thomas(M, coeficientes_computados):\n",
    "  terminos_indep_computados = []\n",
    "  for i in range(0, len(M)):\n",
    "    d_prima = 0\n",
    "    if i == 0:\n",
    "      d_prima = M[i][len(M[i]) - 1] /  M[i][i]\n",
    "    else:\n",
    "      d_prima = (M[i][len(M[i]) - 1] - (M[i][i - 1] * terminos_indep_computados[i - 1])) /  (M[i][i] - M[i][i - 1] * coeficientes_computados[i-1]) #un coeficientes_computados.pop() tambien funcionaria\n",
    "\n",
    "    terminos_indep_computados.append(d_prima)\n",
    "  return terminos_indep_computados  \n",
    "\n",
    "\n",
    "def thomas_algorithm_extended(M):\n",
    "  coeficientes = coeficientes_thomas(M)\n",
    "  terminos_independientes = term_indep_thomas(M, coeficientes)\n",
    "\n",
    "  res = np.zeros(len(terminos_independientes))\n",
    "  res[len(terminos_independientes) - 1] = terminos_independientes[len(terminos_independientes) - 1]\n",
    "  for i in range(len(res) - 2, -1, -1):\n",
    "    res[i] = terminos_independientes[i] - (coeficientes[i] * res[i+1]) \n",
    "  \n",
    "  return res\n",
    "\n",
    "def thomas_algorithm(A, u):\n",
    "\n",
    "  u_column = u.reshape(-1, 1)  # -1 en reshape permite que numpy calcule la dimensión necesaria\n",
    "  # Creando la matriz extendida M\n",
    "  M = np.hstack((A, u_column))\n",
    "  return thomas_algorithm_extended(M)\n",
    "  "
   ]
  },
  {
   "cell_type": "markdown",
   "metadata": {},
   "source": [
    "#### ALGORITMO DE THOMAS - A, B, C, D COMO PARÁMETROS"
   ]
  },
  {
   "cell_type": "code",
   "execution_count": 76,
   "metadata": {},
   "outputs": [],
   "source": [
    "def thomas_algorithm_consigna(a, b, c, d):\n",
    "    # Calculo c' y d'\n",
    "    c_prima = np.zeros(len(c))\n",
    "    d_prima = np.zeros(len(d))\n",
    "    for i in range (0, len(c)):\n",
    "        if i == 0:\n",
    "            c_prima[i] = c[i] / b[i]\n",
    "        else:\n",
    "            c_prima[i] = c[i] / (b[i]-a[i-1]*c_prima[i-1])     \n",
    "\n",
    "    for i in range (0, len(d)):\n",
    "        if i == 0:\n",
    "            d_prima[i] = d[i] / b[i]\n",
    "        else:\n",
    "            d_prima[i] = (d[i]-a[i-1]*d_prima[i-1]) / (b[i]-a[i-1]*c_prima[i-1])   \n",
    "\n",
    "    # Resuelvo\n",
    "    res = np.zeros(len(d))\n",
    "    res[len(d) - 1] = d_prima[len(d) - 1]\n",
    "    for i in range(len(res) - 2, -1, -1):\n",
    "        res[i] = d_prima[i] - (c_prima[i] * res[i+1]) \n",
    "    return res\n"
   ]
  },
  {
   "cell_type": "markdown",
   "metadata": {},
   "source": [
    "#### ALGORITMO DE THOMAS - PRECÓMPUTO"
   ]
  },
  {
   "cell_type": "code",
   "execution_count": 77,
   "metadata": {},
   "outputs": [],
   "source": [
    "class Precomputo(Enum):\n",
    "    w = auto()\n",
    "    b = auto()\n",
    "    c = auto()\n",
    "\n",
    "def thomas_algorithm_precomputo(a, b, c, d):\n",
    "    res = np.zeros(len(d))\n",
    "    for i in range (0, len(a)):\n",
    "        w = a[i] / b[i]\n",
    "        b[i+1] =  b[i+1] - w * c[i]\n",
    "        d[i+1] =  d[i+1] - w * d[i]\n",
    "\n",
    "\n",
    "    res[len(d) - 1] = d[len(d) - 1] / b[len(d) - 1]\n",
    "    for i in range(len(res) - 2, -1, -1):\n",
    "        res[i] = (d[i] - c[i] * res[i+1]) / b[i]\n",
    "  \n",
    "    return res\n",
    "\n",
    "# NOTAR \n",
    "# len(a) = n - 1\n",
    "# len(b) = n\n",
    "# len(c) = n - 1\n",
    "# len(d) = n  \n",
    "def precomputo_de_thomas_algorithm(a, b, c):\n",
    "    w = np.zeros(len(a))\n",
    "    for i in range (0, len(a)):\n",
    "        w[i] = a[i] / b[i]\n",
    "        b[i+1] =  b[i+1] - w[i] * c[i]\n",
    "\n",
    "    precomputo = [w, b, c]\n",
    "\n",
    "    return precomputo\n",
    "\n",
    "def thomas_algorithm_precomputo(precomputo, d):\n",
    "    w, b, c = precomputo\n",
    "    res = np.zeros(len(d))\n",
    "    for i in range (0, len(w)):\n",
    "        d[i+1] =  d[i+1] - w[i] * d[i]\n",
    "\n",
    "\n",
    "    res[len(d) - 1] = d[len(d) - 1] / b[len(b) - 1]\n",
    "    for i in range(len(res) - 2, -1, -1):\n",
    "        res[i] = (d[i] - c[i] * res[i+1]) / b[i]\n",
    "    \n",
    "    return res"
   ]
  },
  {
   "cell_type": "markdown",
   "metadata": {},
   "source": [
    "##### CHEQUEO - EJEMPLO MATRIZ"
   ]
  },
  {
   "cell_type": "markdown",
   "metadata": {},
   "source": [
    "a = [4, 7] ; b = [2, 5, 8] ; c = [3, 6] ; d = [10, 20, 30] <br>\n",
    "\n",
    "| 2  3  0 | &nbsp;| x | &nbsp;&nbsp;  | 10 | <br>\n",
    "| 4  5  6 |*| y | = | 20 | <br>\n",
    "| 0  7  8 | &nbsp;| z | &nbsp;&nbsp;  | 30 | <br>"
   ]
  },
  {
   "cell_type": "code",
   "execution_count": 78,
   "metadata": {},
   "outputs": [
    {
     "name": "stdout",
     "output_type": "stream",
     "text": [
      "[3.12744761 2.50979045 1.91171419 2.1370663  2.63655101 2.40913775]\n",
      "[3.29938272 3.19753086 2.59259259 2.77777778 3.33333333 3.        ]\n"
     ]
    }
   ],
   "source": [
    "#Armo la Matriz\n",
    "M = [[2, 3, 0],[4, 5, 6],[0, 7,8]]\n",
    "a = np.full(5, -1)\n",
    "b = np.full(6, 4)\n",
    "c = np.full(5, -1)\n",
    "\n",
    "d = np.array([10, 5, 3, 4, 6, 7])\n",
    "\n",
    "#Chequeo Resultados\n",
    "# print(thomas_algorithm(M, d))\n",
    "print(thomas_algorithm_consigna(a, b, c, d))\n",
    "precomputo = precomputo_de_thomas_algorithm(a, b, c)\n",
    "print(thomas_algorithm_precomputo(precomputo, d))\n",
    "# print(thomas_algorithm_precomputo(precomputo, d))"
   ]
  },
  {
   "cell_type": "markdown",
   "metadata": {},
   "source": [
    "## Ejercicio 4\n"
   ]
  },
  {
   "cell_type": "markdown",
   "metadata": {},
   "source": [
    "### Datos"
   ]
  },
  {
   "cell_type": "code",
   "execution_count": 79,
   "metadata": {},
   "outputs": [
    {
     "name": "stdout",
     "output_type": "stream",
     "text": [
      "101\n"
     ]
    }
   ],
   "source": [
    "d_a = []\n",
    "\n",
    "for i in range(0, 101):\n",
    "    value = 0\n",
    "    if i == ((101 // 2) + 1):\n",
    "        value = 4/101\n",
    "    d_a.append(value)\n",
    "print(len(d_a))"
   ]
  },
  {
   "cell_type": "code",
   "execution_count": 80,
   "metadata": {},
   "outputs": [
    {
     "name": "stdout",
     "output_type": "stream",
     "text": [
      "101\n"
     ]
    }
   ],
   "source": [
    "\n",
    "d_b = np.full(101, np.float64(4) / np.float64(101**2))\n",
    "print(len(d_b))"
   ]
  },
  {
   "cell_type": "code",
   "execution_count": 81,
   "metadata": {},
   "outputs": [
    {
     "name": "stdout",
     "output_type": "stream",
     "text": [
      "[-0.001176355259288305, -0.001152828154102539, -0.0011293010489167728, -0.0011057739437310068, -0.0010822468385452407, -0.0010587197333594746, -0.0010351926281737085, -0.0010116655229879424, -0.0009881384178021763, -0.0009646113126164102, -0.0009410842074306441, -0.000917557102244878, -0.0008940299970591119, -0.0008705028918733457, -0.0008469757866875796, -0.0008234486815018135, -0.0007999215763160474, -0.0007763944711302812, -0.0007528673659445152, -0.0007293402607587491, -0.000705813155572983, -0.000682286050387217, -0.0006587589452014509, -0.0006352318400156847, -0.0006117047348299186, -0.0005881776296441525, -0.0005646505244583864, -0.0005411234192726203, -0.0005175963140868541, -0.0004940692089010881, -0.00047054210371532204, -0.00044701499852955594, -0.0004234878933437898, -0.0003999607881580237, -0.00037643368297225754, -0.00035290657778649156, -0.00032937947260072546, -0.0003058523674149593, -0.0002823252622291932, -0.00025879815704342706, -0.00023527105185766096, -0.00021174394667189498, -0.00018821684148612885, -0.00016468973630036273, -0.0001411626311145966, -0.00011763552592883048, -9.410842074306436e-05, -7.058131555729837e-05, -4.705421037153224e-05, -2.352710518576612e-05, 0.0, 2.352710518576612e-05, 4.705421037153224e-05, 7.058131555729837e-05, 9.410842074306448e-05, 0.0001176355259288306, 0.00014116263111459674, 0.0001646897363003626, 0.00018821684148612872, 0.00021174394667189484, 0.00023527105185766096, 0.00025879815704342706, 0.0002823252622291932, 0.0003058523674149593, 0.00032937947260072546, 0.00035290657778649156, 0.0003764336829722577, 0.0003999607881580238, 0.00042348789334378995, 0.0004470149985295558, 0.00047054210371532193, 0.000494069208901088, 0.0005175963140868541, 0.0005411234192726203, 0.0005646505244583864, 0.0005881776296441525, 0.0006117047348299186, 0.0006352318400156847, 0.0006587589452014509, 0.000682286050387217, 0.0007058131555729831, 0.0007293402607587492, 0.0007528673659445151, 0.0007763944711302812, 0.0007999215763160474, 0.0008234486815018135, 0.0008469757866875796, 0.0008705028918733457, 0.0008940299970591119, 0.000917557102244878, 0.0009410842074306441, 0.0009646113126164102, 0.0009881384178021763, 0.0010116655229879424, 0.0010351926281737082, 0.0010587197333594743, 0.0010822468385452407, 0.0011057739437310068, 0.0011293010489167728, 0.001152828154102539, 0.001176355259288305]\n"
     ]
    }
   ],
   "source": [
    "d_c = []\n",
    "n = 101\n",
    "for i in range(0, 101):\n",
    "    value =  (np.float64(-1) + (np.float64(2*i) / np.float64(n - 1))) * (np.float64(12) / np.float64(n*n))\n",
    "    d_c.append(value)\n",
    "d_c\n",
    "print(d_c)"
   ]
  },
  {
   "cell_type": "code",
   "execution_count": 82,
   "metadata": {},
   "outputs": [
    {
     "data": {
      "text/plain": [
       "array([[ -2.,   1.,   0., ...,   0.,   0.,   0.],\n",
       "       [  1.,  -2.,   1., ...,   0.,   0.,   1.],\n",
       "       [  0.,   1.,  -2., ...,   0.,   0.,   2.],\n",
       "       ...,\n",
       "       [  0.,   0.,   0., ...,   1.,   0.,  98.],\n",
       "       [  0.,   0.,   0., ...,  -2.,   1.,  99.],\n",
       "       [  0.,   0.,   0., ...,   1.,  -2., 100.]])"
      ]
     },
     "execution_count": 82,
     "metadata": {},
     "output_type": "execute_result"
    }
   ],
   "source": [
    "d = []\n",
    "for i in range(0, 101):\n",
    "    d.append(i)\n",
    "\n",
    "def create_matrix_with_d(d):\n",
    "    m_res = np.zeros((101,102)).astype(np.float64)\n",
    "    for i in range(101):\n",
    "        m_res[i][i]=-2\n",
    "        if(i+1<=100):\n",
    "            m_res[i+1][i]=1\n",
    "            m_res[i][i+1]=1    \n",
    "    for i in range(101):\n",
    "        m_res[i][101]= d[i]\n",
    "    return m_res  \n",
    "\n",
    "create_matrix_with_d(d)      "
   ]
  },
  {
   "cell_type": "code",
   "execution_count": 83,
   "metadata": {},
   "outputs": [
    {
     "data": {
      "image/png": "[encoded data removed]",
      "text/plain": [
       "<Figure size 432x288 with 1 Axes>"
      ]
     },
     "metadata": {
      "needs_background": "light"
     },
     "output_type": "display_data"
    }
   ],
   "source": [
    "def verificacion_exp(ds):\n",
    "  a_laplace = np.full(100, 1).astype(np.float64)\n",
    "  b_laplace = np.full(101, -2).astype(np.float64)\n",
    "  c_laplace = np.full(100, 1).astype(np.float64)\n",
    "  x = range(0, 101)\n",
    "  x_ds = np.zeros((3, 101))\n",
    "  precomputo = precomputo_de_thomas_algorithm(a_laplace, b_laplace, c_laplace)\n",
    "\n",
    "  for i in range(3):\n",
    "    matrix_c = create_matrix_with_d(ds[i])\n",
    "    x_ds[i] = thomas_algorithm_precomputo(precomputo, ds[i])\n",
    "    \n",
    "#   x_ds[2] = thomas_algorithm_precomputo(precomputo, ds[2])\n",
    "  fig, ax = plt.subplots( nrows=1, ncols=1 )\n",
    "\n",
    "  plt.plot(x, x_ds[0], label = \"(a)\")\n",
    "  plt.plot(x, x_ds[1], label = \"(b)\")\n",
    "  plt.plot(x, x_ds[2], label = \"(c)\")\n",
    "\n",
    "  yticks = np.arange(-1, 0.50, 0.25)\n",
    "  ax.set_yticks(yticks) \n",
    "  ax.set_xlabel(\"x\")\n",
    "  ax.set_ylabel(\"u\")\n",
    "  plt.legend()\n",
    "  #fig.savefig('verificacion_exp.pdf')\n",
    "  plt.show()\n",
    "  \n",
    "  \n",
    "  return\n",
    "\n",
    "verificacion_exp([d_a, d_b, d_c])\n"
   ]
  },
  {
   "cell_type": "code",
   "execution_count": 84,
   "metadata": {},
   "outputs": [],
   "source": [
    "\n",
    "# M = create_matrix_with_d(d)\n",
    "# # La matriz de coeficientes A es todas las filas y todas las columnas excepto la última\n",
    "# A = M[:, :-1]\n",
    "\n",
    "# # El vector de términos independientes B es la última columna\n",
    "# B = M[:, -1]\n",
    "\n",
    "# sol_pivot = elim_gauss_con_pivot(M, 0.0000001)\n",
    "# sol_tridiagonal = thomas_algorithm_extended(M)\n",
    "# solplicita(u_0, A, m):\n",
    "#     m_res = np.zeros((m,101)).astype(np.float64)\n",
    "#     u=u_0\n",
    "#     m_res[0]=u\n",
    "#     for k in range(1,m):\n",
    "#         u = elim_gau_numpy = np.linalg.solve(A, B)\n",
    "\n",
    "\n",
    "\n",
    "# print(sol_pivot)https://github.com/agFrenk/Metodos-TP.gi\n",
    "# print(sol_tridiagonal)\n",
    "# print(sol_numpy)"
   ]
  },
  {
   "cell_type": "markdown",
   "metadata": {},
   "source": [
    "## Ejercicio 5"
   ]
  },
  {
   "cell_type": "markdown",
   "metadata": {},
   "source": [
    "experimentacion del punto a\n",
    "generar matrices tridiagonales de distintos tamaños(10, 1e2, 1e3, .. 1e10) o un rango menor si es muy grande \n",
    "r=5000\n",
    "\n",
    "2 casos\n",
    "1) probar generando el laplaciano de distintos tamaños\n",
    "2) podemos probar generando matrices tridiagonales aleatorias."
   ]
  },
  {
   "cell_type": "markdown",
   "metadata": {},
   "source": [
    "### Datos"
   ]
  },
  {
   "cell_type": "code",
   "execution_count": 85,
   "metadata": {},
   "outputs": [
    {
     "data": {
      "text/plain": [
       "array([[-2.,  1.,  0.,  0.,  0.,  0.,  0.,  0.,  0.,  0.,  1.],\n",
       "       [ 1., -2.,  1.,  0.,  0.,  0.,  0.,  0.,  0.,  0.,  2.],\n",
       "       [ 0.,  1., -2.,  1.,  0.,  0.,  0.,  0.,  0.,  0.,  3.],\n",
       "       [ 0.,  0.,  1., -2.,  1.,  0.,  0.,  0.,  0.,  0.,  4.],\n",
       "       [ 0.,  0.,  0.,  1., -2.,  1.,  0.,  0.,  0.,  0.,  5.],\n",
       "       [ 0.,  0.,  0.,  0.,  1., -2.,  1.,  0.,  0.,  0.,  6.],\n",
       "       [ 0.,  0.,  0.,  0.,  0.,  1., -2.,  1.,  0.,  0.,  7.],\n",
       "       [ 0.,  0.,  0.,  0.,  0.,  0.,  1., -2.,  1.,  0.,  8.],\n",
       "       [ 0.,  0.,  0.,  0.,  0.,  0.,  0.,  1., -2.,  1.,  9.],\n",
       "       [ 0.,  0.,  0.,  0.,  0.,  0.,  0.,  0.,  1., -2., 10.]])"
      ]
     },
     "execution_count": 85,
     "metadata": {},
     "output_type": "execute_result"
    }
   ],
   "source": [
    "def create_matrix_laplaciano(n):\n",
    "    m_res = np.zeros((n,n)).astype(np.float64)\n",
    "    for i in range(n):\n",
    "        m_res[i][i] = -2\n",
    "        if(i+1<= n - 1):\n",
    "            m_res[i+1][i] = 1\n",
    "            m_res[i][i+1] = 1\n",
    "    return m_res\n",
    "\n",
    "def create_matrix_laplaciano_with_d(d):\n",
    "    M = create_matrix_laplaciano(len(d))\n",
    "    columna_nueva = np.array(d).reshape(len(d), 1)\n",
    "    matriz_expandida = np.concatenate((M, columna_nueva), axis=1)\n",
    "    return matriz_expandida\n",
    "\n",
    "\n",
    "\n",
    "n = 10\n",
    "def create_laplaciano_testing_instace(n):\n",
    "    lista = np.arange(1, n+1, 1)\n",
    "    return create_matrix_laplaciano_with_d(lista)\n",
    "     \n",
    "\n",
    "\n",
    "create_laplaciano_testing_instace(n)\n"
   ]
  },
  {
   "cell_type": "markdown",
   "metadata": {},
   "source": [
    "### Implementación"
   ]
  },
  {
   "cell_type": "markdown",
   "metadata": {},
   "source": [
    "##### Punto A"
   ]
  },
  {
   "cell_type": "code",
   "execution_count": 86,
   "metadata": {},
   "outputs": [],
   "source": [
    "instance_size = np.arange(20, 500, 20)\n",
    "\n",
    "resultsEG = np.zeros(len(instance_size))\n",
    "resultsEGT = np.zeros(len(instance_size))\n",
    "\n",
    "for i in range(0, len(instance_size)):\n",
    "    laplacian_matrix = create_laplaciano_testing_instace(n)\n",
    "    time_res = 0\n",
    "    for j in range(0, 10):\n",
    "        tic = time.time()\n",
    "        res = elim_gauss_con_pivot(laplacian_matrix, 0.000001)\n",
    "        toc = time.time()\n",
    "        time_res = min(time_res,  tic - toc)\n",
    "    resultsEG[i] =  time_res\n",
    "    \n",
    "    time_res = 0\n",
    "    for j in range(0, 10):\n",
    "        tic = time.time()\n",
    "        res = elim_gauss_tridiagonal(laplacian_matrix)\n",
    "        toc = time.time()\n",
    "        time_res = min(time_res,  tic - toc)\n",
    "    resultsEGT[i] =  time_res\n",
    "    \n"
   ]
  },
  {
   "cell_type": "code",
   "execution_count": 87,
   "metadata": {},
   "outputs": [
    {
     "name": "stdout",
     "output_type": "stream",
     "text": [
      "[-0.00219774 -0.00191069 -0.00093389 -0.00068212 -0.00053048 -0.00041246\n",
      " -0.00044632 -0.00035834 -0.00041056 -0.00029993 -0.00044227 -0.00029492\n",
      " -0.00032115 -0.00030065 -0.00030017 -0.00030088 -0.00038171 -0.00034738\n",
      " -0.00041246 -0.00033092 -0.00029874 -0.00042462 -0.00030947 -0.0005784 ]\n"
     ]
    }
   ],
   "source": [
    "\n",
    "print(resultsEG)"
   ]
  },
  {
   "cell_type": "code",
   "execution_count": 88,
   "metadata": {},
   "outputs": [
    {
     "ename": "SyntaxError",
     "evalue": "invalid syntax (2565047766.py, line 17)",
     "output_type": "error",
     "traceback": [
      "\u001b[0;36m  File \u001b[0;32m\"/tmp/ipykernel_2258771/2565047766.py\"\u001b[0;36m, line \u001b[0;32m17\u001b[0m\n\u001b[0;31m    def plot_groupedelim_gauss_tridiagonalarange(len(instance_size))  # Las posiciones de los grupos\u001b[0m\n\u001b[0m                                                    ^\u001b[0m\n\u001b[0;31mSyntaxError\u001b[0m\u001b[0;31m:\u001b[0m invalid syntax\n"
     ]
    }
   ],
   "source": [
    "def plot_eg():\n",
    "    plt.scatter(instance_size, resultsEG, color='blue', label='EG')  # Puntos para resultsEG\n",
    "    plt.scatter(instance_size, resultsEGT, color='red', label='EGT')  # Puntos para resultsEGT\n",
    "\n",
    "    #corregir escala\n",
    "    plt.yscale('log')\n",
    "    plt.xscale('log')\n",
    "    # Añadiendo detalles al gráfico\n",
    "    plt.title('Comparación de Resultados por Tamaño de Instancia')\n",
    "    plt.xlabel('Tamaño de Instancia')\n",
    "    plt.ylabel('Tiempo(s)')\n",
    "    plt.legend()  # Esto muestra las etiquetas de cada conjunto de puntos\n",
    "\n",
    "    # Mostrar el gráfico\n",
    "    plt.show()\n",
    "\n",
    "def plot_groupedelim_gauss_tridiagonalarange(len(instance_size))  # Las posiciones de los grupos\n",
    "\n",
    "    # Crear el gráfico de barras agrupadas\n",
    "    fig, ax = plt.subplots()\n",
    "    bars1 = ax.bar(index - bar_width/2, resultsEG, bar_width, label='EG', color='#118ab2')\n",
    "    bars2 = ax.bar(index + bar_width/2, resultsEGT, bar_width, label='EGT', color='#ef476f')\n",
    "\n",
    "    plt.yscale('log')\n",
    "    # plt.xscale('log')\n",
    "    # Añadiendo detalles al gráfico\n",
    "    ax.set_xlabel('Tamaño de Instancia')\n",
    "    ax.set_ylabel('Resultados')\n",
    "    ax.set_title('Comparación de Resultados por Tamaño de Instancia')\n",
    "    ax.set_xticks(index)\n",
    "    ax.set_xticklabels(instance_size)\n",
    "    ax.legend()\n",
    "    # Mostrar el gráfico\n",
    "    plt.show()\n",
    "\n",
    "plot_eg()\n",
    "plot_grouped_bar_chart()"
   ]
  },
  {
   "cell_type": "markdown",
   "metadata": {},
   "source": [
    "##### Punto B"
   ]
  },
  {
   "cell_type": "code",
   "execution_count": 94,
   "metadata": {},
   "outputs": [
    {
     "name": "stderr",
     "output_type": "stream",
     "text": [
      "/tmp/ipykernel_2258771/3462356816.py:28: RuntimeWarning: divide by zero encountered in double_scalars\n",
      "  w[i] = a[i] / b[i]\n",
      "/tmp/ipykernel_2258771/3462356816.py:39: RuntimeWarning: invalid value encountered in double_scalars\n",
      "  d[i+1] =  d[i+1] - w[i] * d[i]\n"
     ]
    }
   ],
   "source": [
    "\n",
    "n = 50 #Tamaño fijo\n",
    "repeticiones = [] # Cantidad de repeticiones en la iteración i-ésima\n",
    "for i in range (3,16):\n",
    "    repeticiones.append(math.floor(1.5**i))\n",
    "resultsEGTridiagonal = np.zeros(len(repeticiones)) \n",
    "resultsEGPrecomputo = np.zeros(len(repeticiones))\n",
    "\n",
    "a_laplace = np.full(100-1, 1).astype(np.float64)\n",
    "b_laplace = np.full(100, -2).astype(np.float64)\n",
    "c_laplace = np.full(100-1, 1).astype(np.float64)\n",
    "d_laplace = np.arange(1, 100+1, 1).astype(np.float64)\n",
    "laplacian_matrix = create_laplaciano_testing_instace(100)\n",
    "\n",
    "for i in range (0, len(repeticiones)):\n",
    "    time_res = 0\n",
    "    tic = time.time()\n",
    "    results = []\n",
    "    for k in range (0, 10):\n",
    "        for j in range(0, repeticiones[i]):\n",
    "            res = elim_gauss_tridiagonal(laplacian_matrix)\n",
    "        toc = time.time()\n",
    "        results.append(toc - tic)\n",
    "\n",
    "    resultsEGTridiagonal[i] = min(results)  \n",
    "\n",
    "for i in range (0, len(repeticiones)):\n",
    "    time_res = 0\n",
    "    tic = time.time()\n",
    "    results = []\n",
    "    for k in range (0, 10):\n",
    "        precomputo = precomputo_de_thomas_algorithm(a_laplace, b_laplace, c_laplace)\n",
    "        for j in range(0, repeticiones[i]):\n",
    "            res = thomas_algorithm_precomputo(precomputo, d_laplace)\n",
    "        toc = time.time()\n",
    "        results.append(toc - tic)\n",
    "\n",
    "    resultsEGPrecomputo[i] = min(results)\n",
    "    "
   ]
  },
  {
   "cell_type": "code",
   "execution_count": 95,
   "metadata": {},
   "outputs": [
    {
     "name": "stdout",
     "output_type": "stream",
     "text": [
      "13\n",
      "13\n",
      "13\n"
     ]
    },
    {
     "data": {
      "image/png": "[encoded data removed]",
      "text/plain": [
       "<Figure size 432x288 with 1 Axes>"
      ]
     },
     "metadata": {
      "needs_background": "light"
     },
     "output_type": "display_data"
    }
   ],
   "source": [
    "def plot_eg():\n",
    "    plt.scatter(repeticiones, resultsEGTridiagonal, color='blue', label='EGTridiagonal')  # Puntos para resultsEG\n",
    "    plt.scatter(repeticiones, resultsEGPrecomputo, color='red', label='EGPrecomputo')  # Puntos para resultsEGT\n",
    "\n",
    "    #corregir escala\n",
    "    plt.yscale('log')\n",
    "    plt.xscale('log')\n",
    "    # Añadiendo detalles al gráfico\n",
    "    plt.title('Comparación de Resultados por Cantidad de Repeticiones')\n",
    "    plt.xlabel('Cantidad de Repeticiones')\n",
    "    plt.ylabel('Tiempo(s)')\n",
    "    plt.legend()  # Esto muestra las etiquetas de cada conjunto de puntos\n",
    "\n",
    "    # Mostrar el gráfico\n",
    "    plt.show()\n",
    "\n",
    "# def plot_groupedelim_gauss_tridiagonalarange(len(instance_size))  # Las posiciones de los grupos\n",
    "\n",
    "#     # Crear el gráfico de barras agrupadas\n",
    "#     fig, ax = plt.subplots()\n",
    "#     bars1 = ax.bar(index - bar_width/2, resultsEG, bar_width, label='EG', color='#118ab2')\n",
    "#     bars2 = ax.bar(index + bar_width/2, resultsEGT, bar_width, label='EGT', color='#ef476f')\n",
    "\n",
    "#     plt.yscale('log')\n",
    "#     # plt.xscale('log')\n",
    "#     # Añadiendo detalles al gráfico\n",
    "#     ax.set_xlabel('Tamaño de Instancia')\n",
    "#     ax.set_ylabel('Resultados')\n",
    "#     ax.set_title('Comparación de Resultados por Tamaño de Instancia')\n",
    "#     ax.set_xticks(index)\n",
    "#     ax.set_xticklabels(instance_size)\n",
    "#     ax.legend()\n",
    "#     # Mostrar el gráfico\n",
    "#     plt.show()\n",
    "\n",
    "print(len(repeticiones))\n",
    "print(len(resultsEGTridiagonal))\n",
    "print(len(resultsEGPrecomputo))\n",
    "plot_eg()\n",
    "# plot_grouped_bar_chart()"
   ]
  },
  {
   "cell_type": "markdown",
   "metadata": {},
   "source": [
    "## Ejercicio 6"
   ]
  },
  {
   "cell_type": "markdown",
   "metadata": {},
   "source": [
    "### Datos"
   ]
  },
  {
   "cell_type": "code",
   "execution_count": null,
   "metadata": {},
   "outputs": [],
   "source": [
    "n = 101\n",
    "r = 10\n",
    "m = 1000\n",
    "\n",
    "def create_u0(n,r):\n",
    "    u = np.zeros(n).astype(np.float64)\n",
    "    for i in range(n):\n",
    "        if(i > (n//2-r) and i < n//2+r):\n",
    "            u[i]=1\n",
    "    return u\n",
    "\n",
    "print(create_u0(n,r))\n",
    "def create_matrix_explicito(alpha):\n",
    "    m_res = np.zeros((101,101)).astype(np.float64)\n",
    "    for i in range(101):\n",
    "        m_res[i][i]=-2*alpha+1\n",
    "        if(i+1<=100):\n",
    "            m_res[i+1][i]=alpha\n",
    "            m_res[i][i+1]=alpha              \n",
    "    return m_res  \n",
    "\n",
    "def create_matrix_implicito(alpha):\n",
    "    m_res = np.zeros((101,101)).astype(np.float64)\n",
    "    for i in range(101):\n",
    "        m_res[i][i]=2*alpha+1\n",
    "        if(i+1<=100):\n",
    "            m_res[i+1][i]=alpha*-1\n",
    "            m_res[i][i+1]=alpha*-1 \n",
    "    return m_res  \n",
    "\n",
    "\n",
    "\n",
    "\n",
    "create_matrix_explicito(1)"
   ]
  },
  {
   "cell_type": "markdown",
   "metadata": {},
   "source": [
    "##### Item a) Caso Explícito"
   ]
  },
  {
   "cell_type": "code",
   "execution_count": null,
   "metadata": {},
   "outputs": [],
   "source": [
    "def mult(A, v):\n",
    "    v_res = np.zeros(len(v))\n",
    "    for i in range(len(v)):\n",
    "        res = 0\n",
    "        for j in range(len(v)):\n",
    "            res+= A[i][j]*v[j]\n",
    "        v_res[i]=res\n",
    "    return v_res\n"
   ]
  },
  {
   "cell_type": "code",
   "execution_count": null,
   "metadata": {},
   "outputs": [],
   "source": [
    "create_matrix_laplaciano(0.1)"
   ]
  },
  {
   "cell_type": "code",
   "execution_count": null,
   "metadata": {},
   "outputs": [],
   "source": [
    "\n",
    "def sim_explicita(u_0, A, m):\n",
    "    m_res = np.zeros((m,101))\n",
    "    u=u_0\n",
    "    m_res[0]=u\n",
    "    for k in range(1,m):c\n",
    "        u = A @ u\n",
    "        m_res[k]= u\n",
    "        #print(m_res[k])\n",
    "    return m_res   \n",
    "\n",
    "x= sim_explicita(create_u0(n,r), create_matrix_explicito(0.5), m)\n",
    "\n",
    "plt.pcolor(x.T)\n",
    "plt.colorbar()\n",
    "x"
   ]
  },
  {
   "cell_type": "markdown",
   "metadata": {},
   "source": [
    "##### Item b) Caso Implícito"
   ]
  },
  {
   "cell_type": "code",
   "execution_count": null,
   "metadata": {},
   "outputs": [],
   "source": [
    "def sim_implicita(u_0, A, m):\n",
    "    m_res = np.zeros((m,101)).astype(np.float64)\n",
    "    u=u_0\n",
    "    m_res[0]=u\n",
    "    for k in range(1,m):\n",
    "        u = thomas_algorithm(A, u)\n",
    "        m_res[k]= u\n",
    "        #print(m_res[k])\n",
    "    return m_res   \n",
    "\n",
    "x = sim_implicita(create_u0(n,r), create_matrix_implicito(1), m)\n",
    "\n",
    "plt.pcolor(x.T)\n",
    "plt.colorbar()"
   ]
  }
 ],
 "metadata": {
  "kernelspec": {
   "display_name": "Python 3 (ipykernel)",
   "language": "python",
   "name": "python3"
  },
  "language_info": {
   "codemirror_mode": {
    "name": "ipython",
    "version": 3
   },
   "file_extension": ".py",
   "mimetype": "text/x-python",
   "name": "python",
   "nbconvert_exporter": "python",
   "pygments_lexer": "ipython3",
   "version": "3.10.12"
  }
 },
 "nbformat": 4,
 "nbformat_minor": 4
}
