{
 "cells": [
  {
   "cell_type": "markdown",
   "metadata": {},
   "source": [
    "## dependencias"
   ]
  },
  {
   "cell_type": "code",
   "execution_count": null,
   "metadata": {},
   "outputs": [],
   "source": [
    "import sys\n",
    "import numpy as np\n",
    "import matplotlib\n",
    "%matplotlib inline\n",
    "import matplotlib.pyplot as plt"
   ]
  },
  {
   "cell_type": "markdown",
   "metadata": {},
   "source": [
    "## Ejercicio 1"
   ]
  },
  {
   "cell_type": "markdown",
   "metadata": {},
   "source": [
    "### datos"
   ]
  },
  {
   "cell_type": "code",
   "execution_count": null,
   "metadata": {},
   "outputs": [],
   "source": [
    "a_matrix =         np.array([[ 1,  1,  1,  1, 10],\n",
    "                    [ 1,  1,  1,  1, 11],\n",
    "                    [ 1,  1,  1,  1, 12],\n",
    "                    [ 1,  1,  1,  1, 13]]).astype(np.float64)\n",
    "a_matrix"
   ]
  },
  {
   "cell_type": "markdown",
   "metadata": {},
   "source": [
    "### implementacion"
   ]
  },
  {
   "cell_type": "code",
   "execution_count": null,
   "metadata": {},
   "outputs": [],
   "source": [
    "##item a\n",
    "def elim_gauss_sin_pivot(M): \n",
    "   for i in range(0, len(M[0]) - 2):\n",
    "    for j in range(i+1, len(M)):\n",
    "      if M[i][i] != 0:\n",
    "        m_ji = M[j][i]/M[i][i]\n",
    "        for k in range(i,len(M[0])):\n",
    "          M[j][k] = M[j][k] - m_ji * M[i][k]\n",
    "      else:\n",
    "        for jerror in range(i+1, len(M)):\n",
    "          if M[jerror][i] != 0:\n",
    "            raise Exception(\"No se puede realizar la eliminacion gaussiana con i:\" + str(i) + \" y j: \" + str(j))\n",
    "   return M\n",
    "\n",
    "def solve_sys_EGsin(M):\n",
    "  M_res = elim_gauss_sin_pivot(M)\n",
    "  x = back_subs(M_res)\n",
    "  return x\n",
    "\n",
    "def back_subs(M):\n",
    "  n = len(M)\n",
    "  x=[]\n",
    "  for i in range(n):\n",
    "    x.append(np.float64(0))\n",
    "  for i in reversed(range(n)):\n",
    "    x[i]= (M[i][n-1])\n",
    "    if(M[i][i]!=0.0):\n",
    "      for j in range(i+1,n):\n",
    "        if(M[i][j]!=0.0):\n",
    "          x[i]= x[i]- M[i][j]*x[j] \n",
    "      x[i] = x[i]/M[i][i]\n",
    "    else:\n",
    "      x[i]= f\"x{i}\"\n",
    "  return x\n",
    "\n",
    "elim_gauss_sin_pivot(a_matrix)\n",
    "#solve_sys_EGsin(a_matrix)\n",
    "\n"
   ]
  },
  {
   "cell_type": "markdown",
   "metadata": {},
   "source": [
    "## Ejercicio 2"
   ]
  },
  {
   "cell_type": "markdown",
   "metadata": {},
   "source": [
    "### Datos"
   ]
  },
  {
   "cell_type": "code",
   "execution_count": 95,
   "metadata": {},
   "outputs": [
    {
     "name": "stdout",
     "output_type": "stream",
     "text": [
      "[[ 1.00000000e+00  3.00000230e+00  1.99999770e+00  6.00000000e+00]\n",
      " [-2.30258774e-06  2.00000000e+00  4.00000230e+00  6.00000000e+00]\n",
      " [ 2.00000230e+00  9.99997697e-01  3.00000000e+00  6.00000000e+00]]\n",
      "[[ 1.          3.59986233  1.40013767  6.        ]\n",
      " [-0.59986233  2.          4.59986233  6.        ]\n",
      " [ 2.59986233  0.40013767  3.          6.        ]]\n",
      "[[ 1.          4.55955358  0.44044642  6.        ]\n",
      " [-1.55955358  2.          5.55955358  6.        ]\n",
      " [ 3.55955358 -0.55955358  3.          6.        ]]\n",
      "[[ 1.          6.09492391 -1.09492391  6.        ]\n",
      " [-3.09492391  2.          7.09492391  6.        ]\n",
      " [ 5.09492391 -2.09492391  3.          6.        ]]\n",
      "[[ 1.          8.55129942 -3.55129942  6.        ]\n",
      " [-5.55129942  2.          9.55129942  6.        ]\n",
      " [ 7.55129942 -4.55129942  3.          6.        ]]\n",
      "[[ 1.         12.48115301 -7.48115301  6.        ]\n",
      " [-9.48115301  2.         13.48115301  6.        ]\n",
      " [11.48115301 -8.48115301  3.          6.        ]]\n",
      "[[  1.          18.76836325 -13.76836325   6.        ]\n",
      " [-15.76836325   2.          19.76836325   6.        ]\n",
      " [ 17.76836325 -14.76836325   3.           6.        ]]\n",
      "[[  1.         28.8270109 -23.8270109   6.       ]\n",
      " [-25.8270109   2.         29.8270109   6.       ]\n",
      " [ 27.8270109 -24.8270109   3.          6.       ]]\n",
      "[[  1.          44.91942529 -39.91942529   6.        ]\n",
      " [-41.91942529   2.          45.91942529   6.        ]\n",
      " [ 43.91942529 -40.91942529   3.           6.        ]]\n",
      "[[  1.          70.66501357 -65.66501357   6.        ]\n",
      " [-67.66501357   2.          71.66501357   6.        ]\n",
      " [ 69.66501357 -66.66501357   3.           6.        ]]\n",
      "[[   1.          111.85431553 -106.85431553    6.        ]\n",
      " [-108.85431553    2.          112.85431553    6.        ]\n",
      " [ 110.85431553 -107.85431553    3.            6.        ]]\n",
      "[[   1.          177.75137632 -172.75137632    6.        ]\n",
      " [-174.75137632    2.          178.75137632    6.        ]\n",
      " [ 176.75137632 -173.75137632    3.            6.        ]]\n",
      "[[   1.          283.17735868 -278.17735868    6.        ]\n",
      " [-280.17735868    2.          284.17735868    6.        ]\n",
      " [ 282.17735868 -279.17735868    3.            6.        ]]\n",
      "[[   1.         451.8440279 -446.8440279    6.       ]\n",
      " [-448.8440279    2.         452.8440279    6.       ]\n",
      " [ 450.8440279 -447.8440279    3.           6.       ]]\n",
      "[[   1.          721.68685667 -716.68685667    6.        ]\n",
      " [-718.68685667    2.          722.68685667    6.        ]\n",
      " [ 720.68685667 -717.68685667    3.            6.        ]]\n",
      "[[ 1.00000000e+00  1.15339724e+03 -1.14839724e+03  6.00000000e+00]\n",
      " [-1.15039724e+03  2.00000000e+00  1.15439724e+03  6.00000000e+00]\n",
      " [ 1.15239724e+03 -1.14939724e+03  3.00000000e+00  6.00000000e+00]]\n",
      "[[ 1.00000000e+00  1.84407283e+03 -1.83907283e+03  6.00000000e+00]\n",
      " [-1.84107283e+03  2.00000000e+00  1.84507283e+03  6.00000000e+00]\n",
      " [ 1.84307283e+03 -1.84007283e+03  3.00000000e+00  6.00000000e+00]]\n",
      "[[ 1.00000000e+00  2.94905613e+03 -2.94405613e+03  6.00000000e+00]\n",
      " [-2.94605613e+03  2.00000000e+00  2.95005613e+03  6.00000000e+00]\n",
      " [ 2.94805613e+03 -2.94505613e+03  3.00000000e+00  6.00000000e+00]]\n",
      "[[ 1.00000000e+00  4.71687323e+03 -4.71187323e+03  6.00000000e+00]\n",
      " [-4.71387323e+03  2.00000000e+00  4.71787323e+03  6.00000000e+00]\n",
      " [ 4.71587323e+03 -4.71287323e+03  3.00000000e+00  6.00000000e+00]]\n",
      "[[ 1.0000000e+00  7.5451307e+03 -7.5401307e+03  6.0000000e+00]\n",
      " [-7.5421307e+03  2.0000000e+00  7.5461307e+03  6.0000000e+00]\n",
      " [ 7.5441307e+03 -7.5411307e+03  3.0000000e+00  6.0000000e+00]]\n",
      "[[ 1.00000000e+00  1.20699429e+04 -1.20649429e+04  6.00000000e+00]\n",
      " [-1.20669429e+04  2.00000000e+00  1.20709429e+04  6.00000000e+00]\n",
      " [ 1.20689429e+04 -1.20659429e+04  3.00000000e+00  6.00000000e+00]]\n",
      "[[ 1.00000000e+00  1.93090027e+04 -1.93040027e+04  6.00000000e+00]\n",
      " [-1.93060027e+04  2.00000000e+00  1.93100027e+04  6.00000000e+00]\n",
      " [ 1.93080027e+04 -1.93050027e+04  3.00000000e+00  6.00000000e+00]]\n",
      "[[ 1.00000000e+00  3.08904752e+04 -3.08854752e+04  6.00000000e+00]\n",
      " [-3.08874752e+04  2.00000000e+00  3.08914752e+04  6.00000000e+00]\n",
      " [ 3.08894752e+04 -3.08864752e+04  3.00000000e+00  6.00000000e+00]]\n",
      "[[ 1.0000000e+00  4.9419194e+04 -4.9414194e+04  6.0000000e+00]\n",
      " [-4.9416194e+04  2.0000000e+00  4.9420194e+04  6.0000000e+00]\n",
      " [ 4.9418194e+04 -4.9415194e+04  3.0000000e+00  6.0000000e+00]]\n",
      "[[ 1.0000000e+00  7.9062525e+04 -7.9057525e+04  6.0000000e+00]\n",
      " [-7.9059525e+04  2.0000000e+00  7.9063525e+04  6.0000000e+00]\n",
      " [ 7.9061525e+04 -7.9058525e+04  3.0000000e+00  6.0000000e+00]]\n",
      "[[ 1.00000000e+00  1.26487664e+05 -1.26482664e+05  6.00000000e+00]\n",
      " [-1.26484664e+05  2.00000000e+00  1.26488664e+05  6.00000000e+00]\n",
      " [ 1.26486664e+05 -1.26483664e+05  3.00000000e+00  6.00000000e+00]]\n",
      "[[ 1.00000000e+00  2.02361183e+05 -2.02356183e+05  6.00000000e+00]\n",
      " [-2.02358183e+05  2.00000000e+00  2.02362183e+05  6.00000000e+00]\n",
      " [ 2.02360183e+05 -2.02357183e+05  3.00000000e+00  6.00000000e+00]]\n",
      "[[ 1.00000000e+00  3.23748089e+05 -3.23743089e+05  6.00000000e+00]\n",
      " [-3.23745089e+05  2.00000000e+00  3.23749089e+05  6.00000000e+00]\n",
      " [ 3.23747089e+05 -3.23744089e+05  3.00000000e+00  6.00000000e+00]]\n",
      "[[ 1.00000000e+00  5.17949979e+05 -5.17944979e+05  6.00000000e+00]\n",
      " [-5.17946979e+05  2.00000000e+00  5.17950979e+05  6.00000000e+00]\n",
      " [ 5.17948979e+05 -5.17945979e+05  3.00000000e+00  6.00000000e+00]]\n",
      "[[ 1.00000000e+00  8.28645552e+05 -8.28640552e+05  6.00000000e+00]\n",
      " [-8.28642552e+05  2.00000000e+00  8.28646552e+05  6.00000000e+00]\n",
      " [ 8.28644552e+05 -8.28641552e+05  3.00000000e+00  6.00000000e+00]]\n",
      "[[ 1.00000000e+00  1.32571455e+06 -1.32570955e+06  6.00000000e+00]\n",
      " [-1.32571155e+06  2.00000000e+00  1.32571555e+06  6.00000000e+00]\n",
      " [ 1.32571355e+06 -1.32571055e+06  3.00000000e+00  6.00000000e+00]]\n",
      "[[ 1.00000000e+00  2.12095468e+06 -2.12094968e+06  6.00000000e+00]\n",
      " [-2.12095168e+06  2.00000000e+00  2.12095568e+06  6.00000000e+00]\n",
      " [ 2.12095368e+06 -2.12095068e+06  3.00000000e+00  6.00000000e+00]]\n",
      "[[ 1.00000000e+00  3.39322648e+06 -3.39322148e+06  6.00000000e+00]\n",
      " [-3.39322348e+06  2.00000000e+00  3.39322748e+06  6.00000000e+00]\n",
      " [ 3.39322548e+06 -3.39322248e+06  3.00000000e+00  6.00000000e+00]]\n",
      "[[ 1.00000000e+00  5.42868152e+06 -5.42867652e+06  6.00000000e+00]\n",
      " [-5.42867852e+06  2.00000000e+00  5.42868252e+06  6.00000000e+00]\n",
      " [ 5.42868052e+06 -5.42867752e+06  3.00000000e+00  6.00000000e+00]]\n",
      "[[ 1.00000000e+00  8.68512186e+06 -8.68511686e+06  6.00000000e+00]\n",
      " [-8.68511886e+06  2.00000000e+00  8.68512286e+06  6.00000000e+00]\n",
      " [ 8.68512086e+06 -8.68511786e+06  3.00000000e+00  6.00000000e+00]]\n",
      "[[ 1.00000000e+00  1.38949661e+07 -1.38949611e+07  6.00000000e+00]\n",
      " [-1.38949631e+07  2.00000000e+00  1.38949671e+07  6.00000000e+00]\n",
      " [ 1.38949651e+07 -1.38949621e+07  3.00000000e+00  6.00000000e+00]]\n",
      "[[ 1.00000000e+00  2.22299804e+07 -2.22299754e+07  6.00000000e+00]\n",
      " [-2.22299774e+07  2.00000000e+00  2.22299814e+07  6.00000000e+00]\n",
      " [ 2.22299794e+07 -2.22299764e+07  3.00000000e+00  6.00000000e+00]]\n",
      "[[ 1.00000000e+00  3.55648251e+07 -3.55648201e+07  6.00000000e+00]\n",
      " [-3.55648221e+07  2.00000000e+00  3.55648261e+07  6.00000000e+00]\n",
      " [ 3.55648241e+07 -3.55648211e+07  3.00000000e+00  6.00000000e+00]]\n",
      "[[ 1.00000000e+00  5.68986917e+07 -5.68986867e+07  6.00000000e+00]\n",
      " [-5.68986887e+07  2.00000000e+00  5.68986927e+07  6.00000000e+00]\n",
      " [ 5.68986907e+07 -5.68986877e+07  3.00000000e+00  6.00000000e+00]]\n",
      "[[ 1.00000000e+00  9.10298626e+07 -9.10298576e+07  6.00000000e+00]\n",
      " [-9.10298596e+07  2.00000000e+00  9.10298636e+07  6.00000000e+00]\n",
      " [ 9.10298616e+07 -9.10298586e+07  3.00000000e+00  6.00000000e+00]]\n",
      "[[ 1.00000000e+00  1.45634911e+08 -1.45634906e+08  6.00000000e+00]\n",
      " [-1.45634908e+08  2.00000000e+00  1.45634912e+08  6.00000000e+00]\n",
      " [ 1.45634910e+08 -1.45634907e+08  3.00000000e+00  6.00000000e+00]]\n",
      "[[ 1.00000000e+00  2.32995271e+08 -2.32995266e+08  6.00000000e+00]\n",
      " [-2.32995268e+08  2.00000000e+00  2.32995272e+08  6.00000000e+00]\n",
      " [ 2.32995270e+08 -2.32995267e+08  3.00000000e+00  6.00000000e+00]]\n",
      "[[ 1.00000000e+00  3.72759497e+08 -3.72759492e+08  6.00000000e+00]\n",
      " [-3.72759494e+08  2.00000000e+00  3.72759498e+08  6.00000000e+00]\n",
      " [ 3.72759496e+08 -3.72759493e+08  3.00000000e+00  6.00000000e+00]]\n",
      "[[ 1.00000000e+00  5.96362502e+08 -5.96362497e+08  6.00000000e+00]\n",
      " [-5.96362499e+08  2.00000000e+00  5.96362503e+08  6.00000000e+00]\n",
      " [ 5.96362501e+08 -5.96362498e+08  3.00000000e+00  6.00000000e+00]]\n",
      "[[ 1.00000000e+00  9.54095703e+08 -9.54095698e+08  6.00000000e+00]\n",
      " [-9.54095700e+08  2.00000000e+00  9.54095704e+08  6.00000000e+00]\n",
      " [ 9.54095702e+08 -9.54095699e+08  3.00000000e+00  6.00000000e+00]]\n",
      "[[ 1.00000000e+00  1.52641826e+09 -1.52641825e+09  6.00000000e+00]\n",
      " [-1.52641825e+09  2.00000000e+00  1.52641826e+09  6.00000000e+00]\n",
      " [ 1.52641826e+09 -1.52641825e+09  3.00000000e+00  6.00000000e+00]]\n",
      "[[ 1.00000000e+00  2.44205344e+09 -2.44205344e+09  6.00000000e+00]\n",
      " [-2.44205344e+09  2.00000000e+00  2.44205344e+09  6.00000000e+00]\n",
      " [ 2.44205344e+09 -2.44205344e+09  3.00000000e+00  6.00000000e+00]]\n",
      "[[ 1.00000000e+00  3.90694031e+09 -3.90694030e+09  6.00000000e+00]\n",
      " [-3.90694030e+09  2.00000000e+00  3.90694031e+09  6.00000000e+00]\n",
      " [ 3.90694031e+09 -3.90694030e+09  3.00000000e+00  6.00000000e+00]]\n",
      "[[ 1.00000000e+00  6.25055222e+09 -6.25055222e+09  6.00000000e+00]\n",
      " [-6.25055222e+09  2.00000000e+00  6.25055222e+09  6.00000000e+00]\n",
      " [ 6.25055222e+09 -6.25055222e+09  3.00000000e+00  6.00000000e+00]]\n",
      "[[ 1.e+00  1.e+10 -1.e+10  6.e+00]\n",
      " [-1.e+10  2.e+00  1.e+10  6.e+00]\n",
      " [ 1.e+10 -1.e+10  3.e+00  6.e+00]]\n"
     ]
    }
   ],
   "source": [
    "b_matrix =         np.array([[ 1,  1,  1,  1, 10],\n",
    "                    [ 1,  1,  1,  1, 11],\n",
    "                    [ 1,  2,  1,  1, 12],\n",
    "                    [ 1,  2,  1,  1, 13]]).astype(np.float64)\n",
    "\n",
    "a_matrix2 = np.array([[ 1,  1,  0,  0, 0],\n",
    "                     [ 2,  0,  0,  0, 0],\n",
    "                     [ 0,  2,  1,  4, 0],\n",
    "                     [ 0,  0,  2,  1, 0]]).astype(np.float64)\n",
    "\n",
    "#Funcion para la experimentacion del item c)\n",
    "def create_matrix_with_epsilon_float64(epsilon):\n",
    "    c_matrix = np.array([[ 1,  2+epsilon,  3-epsilon,  6],\n",
    "                     [ 1-epsilon,  2,  3+epsilon,  6],\n",
    "                     [ 1+epsilon,  2-epsilon,  3,  6]]).astype(np.float64)\n",
    "    return c_matrix\n",
    "\n",
    "def create_matrix_with_epsilon_float32(epsilon):\n",
    "    c_matrix = np.array([[ 1,  2+epsilon,  3-epsilon,  6],\n",
    "                     [ 1-epsilon,  2,  3+epsilon,  6],\n",
    "                     [ 1+epsilon,  2-epsilon,  3,  6]]).astype(np.float32)\n",
    "    return c_matrix\n",
    "\n",
    "x_64=np.array([1,1,1]).astype(np.float64)\n",
    "x_32=np.array([1,1,1]).astype(np.float32)\n",
    "for i in np.logspace(1e-6, 10, endpoint=True):\n",
    "    print(create_matrix_with_epsilon_float64(i))"
   ]
  },
  {
   "cell_type": "markdown",
   "metadata": {},
   "source": [
    "### Codigo"
   ]
  },
  {
   "cell_type": "code",
   "execution_count": 61,
   "metadata": {},
   "outputs": [],
   "source": [
    "##item a\n",
    "def elim_gauss_con_pivot(M, threshold): \n",
    "   for i in range(0, len(M[0]) - 2):\n",
    "    #Buscamos la fila de maximo valor para permutar\n",
    "    j_max=i\n",
    "    val_j_max=0\n",
    "    for j_pivot in range(i+1, len(M)):\n",
    "      if abs(M[j_pivot][i]) > val_j_max:\n",
    "        val_j_max = abs(M[j_pivot][i])\n",
    "        j_max = j_pivot\n",
    "    #Permutamos \n",
    "    for p in range(i, len(M[0])):\n",
    "      m_ip = M[i][p]\n",
    "      M[i][p] = M[j_max][p]\n",
    "      M[j_max][p] = m_ip \n",
    "    #Hacemos el paso de eliminacion gaussiana \n",
    "    for j in range(i+1, len(M)):\n",
    "      if M[i][i] != 0:  \n",
    "        # if(float(M[i][i]) <=threshold):\n",
    "        #   print(\"Advertencia de error numerico, division por valor cercano a cero\")\n",
    "        m_ji = float(M[j][i])/float(M[i][i])\n",
    "        for k in range(i,len(M[0])):\n",
    "          M[j][k] = M[j][k] - m_ji * M[i][k]\n",
    "      else:\n",
    "        for jerror in range(i+1, len(M)):\n",
    "          if M[jerror][i] != 0:\n",
    "            raise Exception(\"No se puede realizar la eliminacion gaussiana con i:\" + str(i) + \" y j: \" + str(j))\n",
    "   return M\n",
    "\n",
    "def solve_sys_EG(M, threshold):\n",
    "  M_res = elim_gauss_con_pivot(M, threshold)\n",
    "  x = []\n",
    "  for i in range(0,len(M)):\n",
    "    x.append(M[i][len(M[0])-2])\n",
    "  return x\n",
    "\n",
    "elim_gauss_con_pivot(a_matrix2, 0.0001)\n",
    "\n",
    "##item b, matriz diagonal con algun a_ii=0 y b_i!=0\n",
    "matrix_no_solution = np.array([[ 1,  0,  0, 1],\n",
    "                               [ 2,  0,  0, 1],\n",
    "                               [ 0,  0,  0, 2],\n",
    "                               [ 0,  0,  1, 1]]).astype(np.float64)\n",
    "\n",
    "##item c\n",
    "def inf_norm(v, w):\n",
    "  res=0\n",
    "  for i in range(len(v)):\n",
    "    res = max(res, abs(v[i]-w[i]))\n",
    "  return res"
   ]
  },
  {
   "cell_type": "code",
   "execution_count": 96,
   "metadata": {},
   "outputs": [
    {
     "data": {
      "image/png": "[encoded data removed]",
      "text/plain": [
       "<Figure size 640x480 with 1 Axes>"
      ]
     },
     "metadata": {},
     "output_type": "display_data"
    }
   ],
   "source": [
    "def numeric_error_exp(x):\n",
    "  v_epsilon = np.logspace(1e-6, 10, endpoint=True)\n",
    "  threshold = 1e-10\n",
    "  v_res64 = np.zeros(len(v_epsilon))\n",
    "  v_res32 = np.zeros(len(v_epsilon))\n",
    "\n",
    "  for i in range(len(v_epsilon)):\n",
    "    matrix_c = create_matrix_with_epsilon_float64(v_epsilon[i])\n",
    "    x_obt = solve_sys_EG(matrix_c, threshold)\n",
    "    v_res64[i] = inf_norm(x_obt, x_64)\n",
    "\n",
    "  for i in range(len(v_epsilon)):\n",
    "    matrix_c = create_matrix_with_epsilon_float32(v_epsilon[i])\n",
    "    x_obt = solve_sys_EG(matrix_c, threshold)\n",
    "    v_res32[i] = inf_norm(x_obt, x_32)\n",
    "\n",
    "  fig, ax = plt.subplots( nrows=1, ncols=1 )\n",
    "  ax.plot(v_epsilon, v_res64 - v_res32, label = \"v_res64 - v_res32\")\n",
    "  #ax.plot(v_epsilon, v_res32, label = \".float32\")\n",
    "  \n",
    "  # print(v_res64 - v_res32)\n",
    "  ax.set_title('diferencia de error numerico entre float64 y float32')\n",
    "  ax.legend()\n",
    "  plt.show()\n",
    "  # plt.savefig('error_numerico_exp')\n",
    "\n",
    "numeric_error_exp(x)\n"
   ]
  },
  {
   "cell_type": "markdown",
   "metadata": {},
   "source": [
    "## Ejercicio 3"
   ]
  },
  {
   "cell_type": "markdown",
   "metadata": {},
   "source": [
    "### datos"
   ]
  },
  {
   "cell_type": "code",
   "execution_count": null,
   "metadata": {},
   "outputs": [],
   "source": [
    "matriz_tridiagonal_facil =  np.array(\n",
    "                   [[ 4,  8,  0, 1],\n",
    "                    [ 2,  8,  16, 8],\n",
    "                    [ 0,  8,  2, 13]]).astype(np.float64)\n",
    "\n",
    "print(elim_gauss_sin_pivot(matriz_tridiagonal_facil))\n",
    "solve_sys_EGsin(matriz_tridiagonal_facil)"
   ]
  },
  {
   "cell_type": "markdown",
   "metadata": {},
   "source": [
    "### implementacion"
   ]
  },
  {
   "cell_type": "markdown",
   "metadata": {},
   "source": [
    "# todo cambiar listas arrays de numpy"
   ]
  },
  {
   "cell_type": "code",
   "execution_count": 127,
   "metadata": {},
   "outputs": [
    {
     "data": {
      "text/plain": [
       "array([-2.96666667,  1.60833333,  0.06666667])"
      ]
     },
     "execution_count": 127,
     "metadata": {},
     "output_type": "execute_result"
    }
   ],
   "source": [
    "\n",
    "def coeficientes_elim_gauss_tridiaognal(M):\n",
    "  coeficientes_computados = []\n",
    "  for i in range(0, len(M)):\n",
    "    c_prima = 0\n",
    "    if i == 0:\n",
    "      c_prima = M[i][i + 1] /  M[i][i]\n",
    "    else:\n",
    "      c_prima = M[i][i + 1] /  (M[i][i] - (M[i][i - 1] * coeficientes_computados[i-1])) #un coeficientes_computados.pop() tambien funcionaria\n",
    "\n",
    "    coeficientes_computados.append(c_prima)\n",
    "  return coeficientes_computados\n",
    "\n",
    "def term_indep_elim_gauss_tridiagonal(M, coeficientes_computados):\n",
    "  terminos_indep_computados = []\n",
    "  for i in range(0, len(M)):\n",
    "    d_prima = 0\n",
    "    if i == 0:\n",
    "      d_prima = M[i][len(M[i]) - 1] /  M[i][i]\n",
    "    else:\n",
    "      d_prima = (M[i][len(M[i]) - 1] - (M[i][i - 1] * terminos_indep_computados[i - 1])) /  (M[i][i] - M[i][i - 1] * coeficientes_computados[i-1]) #un coeficientes_computados.pop() tambien funcionaria\n",
    "\n",
    "    terminos_indep_computados.append(d_prima)\n",
    "  return terminos_indep_computados  \n",
    "\n",
    "def elim_gauss_tridiaognal(M):\n",
    "  coeficientes = coeficientes_elim_gauss_tridiaognal(M)\n",
    "  terminos_independientes = term_indep_elim_gauss_tridiagonal(M, coeficientes)\n",
    "\n",
    "  res = np.zeros(len(terminos_independientes))\n",
    "  res[len(terminos_independientes) - 1] = terminos_independientes[len(terminos_independientes) - 1]\n",
    "  for i in range(len(res) - 2, -1, -1):\n",
    "    res[i] = terminos_independientes[i] - (coeficientes[i] * res[i+1]) \n",
    "  \n",
    "  return res\n",
    "\n",
    "\n",
    "elim_gauss_tridiaognal(matriz_tridiagonal_facil)"
   ]
  },
  {
   "cell_type": "markdown",
   "metadata": {},
   "source": [
    "## Ejercicio 4\n"
   ]
  },
  {
   "cell_type": "markdown",
   "metadata": {},
   "source": [
    "### Datos"
   ]
  },
  {
   "cell_type": "code",
   "execution_count": null,
   "metadata": {},
   "outputs": [],
   "source": [
    "d_a = []\n",
    "\n",
    "for i in range(0, 102):\n",
    "    value = 0\n",
    "    if i == ((101 // 2) + 1):\n",
    "        value = 4/101\n",
    "    d_a.append(value)\n"
   ]
  },
  {
   "cell_type": "code",
   "execution_count": null,
   "metadata": {},
   "outputs": [],
   "source": [
    "\n",
    "d_b = np.full(101, np.float64(4) / np.float64(101**2))"
   ]
  },
  {
   "cell_type": "code",
   "execution_count": 140,
   "metadata": {},
   "outputs": [
    {
     "data": {
      "text/plain": [
       "[-1.176355259288305e-05,\n",
       " 1.176355259288305e-05,\n",
       " 3.529065777864915e-05,\n",
       " 5.8817762964415255e-05,\n",
       " 8.234486815018136e-05,\n",
       " 0.00010587197333594745,\n",
       " 0.00012939907852171356,\n",
       " 0.00015292618370747965,\n",
       " 0.00017645328889324575,\n",
       " 0.00019998039407901187,\n",
       " 0.00022350749926477797,\n",
       " 0.00024703460445054407,\n",
       " 0.00027056170963631016,\n",
       " 0.00029408881482207626,\n",
       " 0.00031761592000784236,\n",
       " 0.00034114302519360845,\n",
       " 0.00036467013037937455,\n",
       " 0.0003881972355651407,\n",
       " 0.00041172434075090674,\n",
       " 0.00043525144593667284,\n",
       " 0.000458778551122439,\n",
       " 0.00048230565630820503,\n",
       " 0.0005058327614939712,\n",
       " 0.0005293598666797373,\n",
       " 0.0005528869718655034,\n",
       " 0.0005764140770512695,\n",
       " 0.0005999411822370356,\n",
       " 0.0006234682874228017,\n",
       " 0.0006469953926085679,\n",
       " 0.0006705224977943339,\n",
       " 0.0006940496029801,\n",
       " 0.000717576708165866,\n",
       " 0.0007411038133516321,\n",
       " 0.0007646309185373984,\n",
       " 0.0007881580237231644,\n",
       " 0.0008116851289089304,\n",
       " 0.0008352122340946965,\n",
       " 0.0008587393392804626,\n",
       " 0.0008822664444662288,\n",
       " 0.0009057935496519949,\n",
       " 0.000929320654837761,\n",
       " 0.0009528477600235271,\n",
       " 0.0009763748652092931,\n",
       " 0.0009999019703950593,\n",
       " 0.0010234290755808254,\n",
       " 0.0010469561807665915,\n",
       " 0.0010704832859523576,\n",
       " 0.0010940103911381237,\n",
       " 0.0011175374963238898,\n",
       " 0.001141064601509656,\n",
       " 0.001164591706695422,\n",
       " 0.001188118811881188,\n",
       " 0.0012116459170669542,\n",
       " 0.0012351730222527203,\n",
       " 0.0012587001274384864,\n",
       " 0.0012822272326242527,\n",
       " 0.0013057543378100188,\n",
       " 0.0013292814429957847,\n",
       " 0.0013528085481815508,\n",
       " 0.0013763356533673169,\n",
       " 0.001399862758553083,\n",
       " 0.001423389863738849,\n",
       " 0.0014469169689246152,\n",
       " 0.0014704440741103812,\n",
       " 0.0014939711792961473,\n",
       " 0.0015174982844819134,\n",
       " 0.0015410253896676798,\n",
       " 0.0015645524948534459,\n",
       " 0.001588079600039212,\n",
       " 0.001611606705224978,\n",
       " 0.001635133810410744,\n",
       " 0.00165866091559651,\n",
       " 0.0016821880207822761,\n",
       " 0.0017057151259680422,\n",
       " 0.0017292422311538083,\n",
       " 0.0017527693363395744,\n",
       " 0.0017762964415253407,\n",
       " 0.0017998235467111068,\n",
       " 0.001823350651896873,\n",
       " 0.001846877757082639,\n",
       " 0.001870404862268405,\n",
       " 0.0018939319674541712,\n",
       " 0.001917459072639937,\n",
       " 0.0019409861778257032,\n",
       " 0.0019645132830114695,\n",
       " 0.0019880403881972356,\n",
       " 0.0020115674933830017,\n",
       " 0.0020350945985687678,\n",
       " 0.002058621703754534,\n",
       " 0.0020821488089403,\n",
       " 0.002105675914126066,\n",
       " 0.002129203019311832,\n",
       " 0.0021527301244975983,\n",
       " 0.0021762572296833644,\n",
       " 0.0021997843348691305,\n",
       " 0.0022233114400548966,\n",
       " 0.0022468385452406626,\n",
       " 0.0022703656504264287,\n",
       " 0.002293892755612195,\n",
       " 0.002317419860797961,\n",
       " 0.002340946965983727,\n",
       " 0.0023644740711694927]"
      ]
     },
     "execution_count": 140,
     "metadata": {},
     "output_type": "execute_result"
    }
   ],
   "source": [
    "d_c = []\n",
    "n = 101\n",
    "for i in range(0, 102):\n",
    "    value =  (np.float64(-1 + 2*i) / np.float64(n - 1)) * (np.float64(12) / np.float64(n*n))\n",
    "    d_c.append(value)\n",
    "d_c"
   ]
  },
  {
   "cell_type": "code",
   "execution_count": 113,
   "metadata": {},
   "outputs": [
    {
     "data": {
      "text/plain": [
       "array([[ -2.,   1.,   0., ...,   0.,   0.,   0.],\n",
       "       [  1.,  -2.,   1., ...,   0.,   0.,   1.],\n",
       "       [  0.,   1.,  -2., ...,   0.,   0.,   2.],\n",
       "       ...,\n",
       "       [  0.,   0.,   0., ...,   1.,   0.,  98.],\n",
       "       [  0.,   0.,   0., ...,  -2.,   1.,  99.],\n",
       "       [  0.,   0.,   0., ...,   1.,  -2., 100.]])"
      ]
     },
     "execution_count": 113,
     "metadata": {},
     "output_type": "execute_result"
    }
   ],
   "source": [
    "d = []\n",
    "for i in range(0, 101):\n",
    "    d.append(i)\n",
    "\n",
    "def create_matrix_with_d(d):\n",
    "    m_res = np.zeros((101,102)).astype(np.float64)\n",
    "    for i in range(101):\n",
    "        m_res[i][i]=-2\n",
    "        if(i+1<=100):\n",
    "            m_res[i+1][i]=1\n",
    "            m_res[i][i+1]=1    \n",
    "    for i in range(101):\n",
    "        m_res[i][101]= d[i]\n",
    "    return m_res  \n",
    "\n",
    "create_matrix_with_d(d)      "
   ]
  },
  {
   "cell_type": "code",
   "execution_count": 144,
   "metadata": {},
   "outputs": [
    {
     "name": "stdout",
     "output_type": "stream",
     "text": [
      "[   0.    0.    0.    0.    0.    0.    0.    0.    0.    0.    0.    0.\n",
      "    0.    0.    0.    0.    0.    0.    0.    0.    0.    0.    0.    0.\n",
      "    0.    0.    0.    0.    0.    0.    0.    0.    0.    0.    0.    0.\n",
      "    0.    0.    0.    0.    0.    0.    0.    0.    0.    0.    0.    0.\n",
      "    0.    0.    0.    0.    0.    0.    0.    0.    0.    0.    0.    0.\n",
      "    0.    0.    0.    0.    0.    0.    0.    0.    0.    0.    0.    0.\n",
      "    0.    0.    0.    0.    0.    0.    0.    0.    0.    0.    0.    0.\n",
      "    0.    0.    0.    0.    0.    0.    0.    0.    0.    0.    0.    0.\n",
      "    0.    0.    1.   -2. -102.]\n"
     ]
    }
   ],
   "source": [
    "def verificacion_exp(ds):\n",
    "  \n",
    "  x = range(0, 101)\n",
    "  x_ds = np.zeros((3, 101))\n",
    "  for i in range(2):\n",
    "    matrix_c = create_matrix_with_d(ds[i])\n",
    "    x_ds[i] = elim_gauss_tridiaognal(matrix_c)\n",
    "  \n",
    "  matrix_c = create_matrix_with_d(ds[2])\n",
    "  x_ds[2] = solve_sys_EG(matrix_c, 0.00001)\n",
    "\n",
    "  fig, ax = plt.subplots( nrows=1, ncols=1 )\n",
    "  plt.plot(x[:90], x_ds[0][:90], label = \"(a)\")\n",
    "  plt.plot(x[:90], x_ds[1][:90], label = \"(b)\")\n",
    "  plt.plot(x[:90], x_ds[2], label = \"(c)\")\n",
    "  print(x_ds[2])\n",
    "  plt.show()\n",
    "  fig.savefig('verificacion_exp.pdf')\n",
    "  return\n",
    "\n",
    "verificacion_exp([d_a, d_b, d_c])"
   ]
  }
 ],
 "metadata": {
  "kernelspec": {
   "display_name": "Python 3",
   "language": "python",
   "name": "python3"
  },
  "language_info": {
   "codemirror_mode": {
    "name": "ipython",
    "version": 3
   },
   "file_extension": ".py",
   "mimetype": "text/x-python",
   "name": "python",
   "nbconvert_exporter": "python",
   "pygments_lexer": "ipython3",
   "version": "3.11.8"
  }
 },
 "nbformat": 4,
 "nbformat_minor": 2
}
