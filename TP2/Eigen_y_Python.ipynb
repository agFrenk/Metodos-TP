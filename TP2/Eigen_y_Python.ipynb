{
  "cells": [
    {
      "cell_type": "markdown",
      "metadata": {
        "id": "PFFs8-baNq0o"
      },
      "source": [
        "# Eigen y Python\n",
        "\n",
        "En linux se puede instalar Eigen con el paquete libeigen3-dev. También se puede bajar la carpeta eigen para poder elegir bien la versión."
      ]
    },
    {
      "cell_type": "code",
      "execution_count": null,
      "metadata": {
        "colab": {
          "base_uri": "https://localhost:8080/"
        },
        "id": "-rwvKND9Onn7",
        "outputId": "b1816abc-92ab-45cb-8be7-306915bca11c"
      },
      "outputs": [],
      "source": [
        "%%file eigen_types_test.cpp\n",
        "\n",
        "#include <iostream>\n",
        "#include <eigen3/Eigen/Dense>\n",
        "\n",
        "using Eigen::MatrixXd;\n",
        "using Eigen::VectorXd;\n",
        "\n",
        "VectorXd matrix_vector_multiplication(const MatrixXd& matrix, const VectorXd& vector) {\n",
        "    return matrix * vector;\n",
        "}\n",
        "\n",
        "\n",
        "int main() {\n",
        "    // Example usage\n",
        "    MatrixXd A(3, 3);\n",
        "    A << 1, 2, 3,\n",
        "         4, 5, 6,\n",
        "         7, 8, 9;\n",
        "\n",
        "    VectorXd b(3);\n",
        "    b << 1, 2, 3;\n",
        "\n",
        "    VectorXd c = matrix_vector_multiplication(A, b);\n",
        "\n",
        "    std::cout << \"Result of matrix-vector multiplication: \" << c.transpose() << std::endl;\n",
        "\n",
        "    return 0;\n",
        "}"
      ]
    },
    {
      "cell_type": "markdown",
      "metadata": {
        "id": "VgSS_GCfOVGP"
      },
      "source": [
        "## Compilamos"
      ]
    },
    {
      "cell_type": "code",
      "execution_count": null,
      "metadata": {
        "colab": {
          "base_uri": "https://localhost:8080/"
        },
        "id": "aI83vHtVRehz",
        "outputId": "fb68f951-28a9-44e1-91aa-e7bbcf7c3bb8"
      },
      "outputs": [],
      "source": [
        "%%bash\n",
        "# g++ -Ieigen eigen_types_test.cpp -o out\n",
        "g++ eigen_types_test.cpp -o out\n",
        "./out"
      ]
    },
    {
      "cell_type": "markdown",
      "metadata": {
        "id": "5-HCLU62OS49"
      },
      "source": [
        "## Comparamos con numpy"
      ]
    },
    {
      "cell_type": "code",
      "execution_count": null,
      "metadata": {
        "colab": {
          "base_uri": "https://localhost:8080/"
        },
        "id": "sTIb0b2SaZfd",
        "outputId": "08c4f0b3-914f-4a63-a38b-3704a39efe8b"
      },
      "outputs": [],
      "source": [
        "import numpy as np\n",
        "A = np.array([[1, 2, 3], [4, 5, 6], [7, 8, 9]], dtype=np.float64)\n",
        "b = np.array([1, 2, 3], dtype=np.float64)\n",
        "A@b"
      ]
    },
    {
      "cell_type": "markdown",
      "metadata": {
        "id": "D7tD2_CbOcwU"
      },
      "source": [
        "# Opción con entrada y salida de archivos de texto"
      ]
    },
    {
      "cell_type": "code",
      "execution_count": null,
      "metadata": {
        "colab": {
          "base_uri": "https://localhost:8080/"
        },
        "id": "o4rM_Wk-Kgyt",
        "outputId": "1d250a37-7f19-4986-b2fa-024267cdafe5"
      },
      "outputs": [],
      "source": [
        "%%file eigen_types_iofile_test.cpp\n",
        "\n",
        "#include <iostream>\n",
        "#include <fstream>\n",
        "#include <eigen3/Eigen/Dense>\n",
        "\n",
        "using Eigen::MatrixXd;\n",
        "using Eigen::VectorXd;\n",
        "\n",
        "VectorXd matrix_vector_multiplication(const MatrixXd& matrix, const VectorXd& vector) {\n",
        "    return matrix * vector;\n",
        "}\n",
        "\n",
        "int main(int argc, char** argv) {\n",
        "    if (argc != 3) {\n",
        "        std::cerr << \"Usage: \" << argv[0] << \" input_file output_file\" << std::endl;\n",
        "        return 1;\n",
        "    }\n",
        "\n",
        "    const char* input_file = argv[1];\n",
        "    const char* output_file = argv[2];\n",
        "\n",
        "    std::ifstream fin(input_file);\n",
        "    if (!fin.is_open()) {\n",
        "        std::cerr << \"Error: could not open input file \" << input_file << std::endl;\n",
        "        return 1;\n",
        "    }\n",
        "\n",
        "    // Read matrix and vector from file\n",
        "    int nrows, ncols;\n",
        "    fin >> nrows >> ncols;\n",
        "\n",
        "    MatrixXd A(nrows, ncols);\n",
        "    for (int i = 0; i < nrows; i++) {\n",
        "        for (int j = 0; j < ncols; j++) {\n",
        "            fin >> A(i, j);\n",
        "        }\n",
        "    }\n",
        "\n",
        "    VectorXd b(ncols);\n",
        "    for (int i = 0; i < ncols; i++) {\n",
        "        fin >> b(i);\n",
        "    }\n",
        "\n",
        "    fin.close();\n",
        "\n",
        "    // Perform matrix-vector multiplication\n",
        "    VectorXd c = matrix_vector_multiplication(A, b);\n",
        "\n",
        "    // Write result to output file\n",
        "    std::ofstream fout(output_file);\n",
        "    if (!fout.is_open()) {\n",
        "        std::cerr << \"Error: could not open output file \" << output_file << std::endl;\n",
        "        return 1;\n",
        "    }\n",
        "\n",
        "    fout << c.transpose() << std::endl;\n",
        "\n",
        "    fout.close();\n",
        "\n",
        "    return 0;\n",
        "}\n"
      ]
    },
    {
      "cell_type": "code",
      "execution_count": null,
      "metadata": {
        "colab": {
          "base_uri": "https://localhost:8080/"
        },
        "id": "VgPMqShmLtWq",
        "outputId": "790242e4-e1f2-4b00-9831-589ec96b9d3b"
      },
      "outputs": [],
      "source": [
        "# !git clone https://gitlab.com/libeigen/eigen.git\n",
        "!apt-get install libeigen3-dev"
      ]
    },
    {
      "cell_type": "markdown",
      "metadata": {
        "id": "wIn_vPU1Np68"
      },
      "source": [
        "# Ejemplo Eigen básico"
      ]
    },
    {
      "cell_type": "code",
      "execution_count": null,
      "metadata": {
        "colab": {
          "base_uri": "https://localhost:8080/"
        },
        "id": "FY8QivUpHnzn",
        "outputId": "334e5176-b248-42c6-f32d-455f56945404"
      },
      "outputs": [],
      "source": [
        "%%file eigen_test.cpp\n",
        "\n",
        "#include <iostream>\n",
        "#include <eigen3/Eigen/Dense>\n",
        "\n",
        "int main()\n",
        "{\n",
        "  Eigen::Matrix2d a;\n",
        "  a << 1, 2,\n",
        "       3, 4;\n",
        "  Eigen::MatrixXd b(2,2);\n",
        "  b << 2, 3,\n",
        "       1, 4;\n",
        "  std::cout << \"a + b =\\n\" << a + b << std::endl;\n",
        "  std::cout << \"a - b =\\n\" << a - b << std::endl;\n",
        "  std::cout << \"Doing a += b;\" << std::endl;\n",
        "  a += b;\n",
        "  std::cout << \"Now a =\\n\" << a << std::endl;\n",
        "  Eigen::Vector3d v(1,2,3);\n",
        "  Eigen::Vector3d w(1,0,0);\n",
        "  std::cout << \"-v + w - v =\\n\" << -v + w - v << std::endl;\n",
        "}"
      ]
    },
    {
      "cell_type": "code",
      "execution_count": null,
      "metadata": {
        "colab": {
          "base_uri": "https://localhost:8080/"
        },
        "id": "qCHOTPHHLGNq",
        "outputId": "600f9370-2917-4a08-f635-8239164c1787"
      },
      "outputs": [],
      "source": [
        "%%bash\n",
        "\n",
        "# g++ -I eigen eigen_test.cpp -o out\n",
        "g++ eigen_test.cpp -o out\n",
        "./out"
      ]
    },
    {
      "cell_type": "markdown",
      "metadata": {
        "id": "mzV9zoFLOOeK"
      },
      "source": [
        "## Ejemplo con una función de producto matriz vector"
      ]
    },
    {
      "cell_type": "markdown",
      "metadata": {
        "id": "yrD71RsoOgTi"
      },
      "source": [
        "## Escribimos un archivo de texto con numpy"
      ]
    },
    {
      "cell_type": "code",
      "execution_count": null,
      "metadata": {
        "colab": {
          "base_uri": "https://localhost:8080/"
        },
        "id": "3Bft8GqzKy2o",
        "outputId": "37efa844-0865-4f22-c0e2-49b51f9dc78c"
      },
      "outputs": [],
      "source": [
        "A = np.array([[1, 2, 3], [4, 5, 6], [7, 8, 9]], dtype=np.float64)\n",
        "b = np.array([1, 2, 3], dtype=np.float64)\n",
        "\n",
        "!rm input_data.txt\n",
        "with open('input_data.txt','a') as f:\n",
        "    f.write(f\"{A.shape[0]} {A.shape[1]}\\n\")\n",
        "    np.savetxt(f,A, newline=\"\\n\")\n",
        "    np.savetxt(f,b.reshape(1,-1), fmt='%1.3f', newline=\"\\n\")\n",
        "!cat input_data.txt"
      ]
    },
    {
      "cell_type": "markdown",
      "metadata": {
        "id": "e3hgu6HrOjTo"
      },
      "source": [
        "## Compilamos y ejecutamos"
      ]
    },
    {
      "cell_type": "code",
      "execution_count": null,
      "metadata": {
        "colab": {
          "base_uri": "https://localhost:8080/"
        },
        "id": "moPr6yRfMFma",
        "outputId": "e111a13e-35a3-46d4-d67c-29f0ad7f5569"
      },
      "outputs": [],
      "source": [
        "%%bash\n",
        "\n",
        "g++ eigen_types_iofile_test.cpp -o out\n",
        "./out input_data.txt output_data.txt\n",
        "cat output_data.txt"
      ]
    },
    {
      "cell_type": "code",
      "execution_count": null,
      "metadata": {
        "colab": {
          "base_uri": "https://localhost:8080/"
        },
        "id": "8DrJB157NY1f",
        "outputId": "1b6f8cd4-1ee4-440e-c361-fd170a1bfd9b"
      },
      "outputs": [],
      "source": [
        "np.loadtxt('output_data.txt')"
      ]
    },
    {
      "cell_type": "markdown",
      "metadata": {
        "id": "I_wTexFlNlmX"
      },
      "source": [
        "# Usando Python ctypes"
      ]
    },
    {
      "cell_type": "code",
      "execution_count": null,
      "metadata": {
        "colab": {
          "base_uri": "https://localhost:8080/"
        },
        "id": "dr6bNB64ZkVN",
        "outputId": "ab1dc9b9-24ce-416f-c5fb-2efdaaaef831"
      },
      "outputs": [],
      "source": [
        "%%file eigen_ctypes_test.cpp\n",
        "\n",
        "#include <iostream>\n",
        "#include <eigen3/Eigen/Dense>\n",
        "#include <dlfcn.h>\n",
        "\n",
        "using namespace Eigen;\n",
        "\n",
        "extern \"C\" {\n",
        "    void matrix_vector_multiply(double* matrix, double* vector, double* result, int rows, int cols) {\n",
        "        Map<MatrixXd> mat(matrix, rows, cols);\n",
        "        Map<VectorXd> vec(vector, cols);\n",
        "        Map<VectorXd> res(result, rows);\n",
        "        res = mat * vec ;\n",
        "    }\n",
        "}"
      ]
    },
    {
      "cell_type": "code",
      "execution_count": null,
      "metadata": {
        "colab": {
          "base_uri": "https://localhost:8080/"
        },
        "id": "gQ2ZBGfLZpf9",
        "outputId": "6f2b8d71-d640-4936-ced9-32c0394b9b97"
      },
      "outputs": [],
      "source": [
        "!rm eigen_ctypes_test.so # borramos por las dudas\n",
        "!g++ -shared -fPIC -Llibdl -o eigen_ctypes_test.so eigen_ctypes_test.cpp\n",
        "!ls # chequeamos que este la lib"
      ]
    },
    {
      "cell_type": "code",
      "execution_count": null,
      "metadata": {
        "colab": {
          "base_uri": "https://localhost:8080/"
        },
        "id": "JT_zJndNZp5y",
        "outputId": "1c911f13-b3f0-48da-9623-bd25d0ca1fd6"
      },
      "outputs": [],
      "source": [
        "import ctypes\n",
        "import numpy as np\n",
        "\n",
        "class sharedlib():\n",
        "    dlclose = ctypes.CDLL(None).dlclose  # This WON'T work on Win\n",
        "    dlclose.argtypes = (ctypes.c_void_p,)\n",
        "\n",
        "    def __init__(self, path, method, *args):\n",
        "        self.lib = ctypes.cdll.LoadLibrary(f'./{path}')\n",
        "\n",
        "        # Se explicitan los tipos de los argumentos para el método deseado\n",
        "        self.method_object = getattr(self.lib, method)\n",
        "        self.method_object.argtypes = args\n",
        "\n",
        "    def __call__(self, *args):\n",
        "        return self.method_object(*args)\n",
        "\n",
        "    def unload(self):\n",
        "        while self.dlclose(self.lib._handle)!=-1:\n",
        "            pass\n",
        "\n",
        "lib = sharedlib('eigen_ctypes_test.so', 'matrix_vector_multiply',\n",
        "                                                                ctypes.POINTER(ctypes.c_double),\n",
        "                                                                ctypes.POINTER(ctypes.c_double),\n",
        "                                                                ctypes.POINTER(ctypes.c_double),\n",
        "                                                                ctypes.c_int,\n",
        "                                                                ctypes.c_int\n",
        "                                                            )\n",
        "\n",
        "# Creamos la matriz de entrada\n",
        "A = np.array([[1, 2, 3], [4, 5, 6], [7, 8, 9]], dtype=np.float64)\n",
        "# Eigen la mapea transpuesta a la información del puntero así que hay que pasarlo a orden tipo Fortran\n",
        "A = np.asfortranarray(A)\n",
        "b = np.array([1, 2, 3], dtype=np.float64)\n",
        "\n",
        "# Definimos el vector donde se van a guardar los resultados\n",
        "result = np.zeros((3,), dtype=np.float64)\n",
        "\n",
        "# Llamamos a nuestra función en C++ pasando los argumentos de entrada\n",
        "lib(\n",
        "    A.ctypes.data_as(ctypes.POINTER(ctypes.c_double)),\n",
        "    b.ctypes.data_as(ctypes.POINTER(ctypes.c_double)),\n",
        "    result.ctypes.data_as(ctypes.POINTER(ctypes.c_double)),\n",
        "    ctypes.c_int(A.shape[0]),\n",
        "    ctypes.c_int(A.shape[1])\n",
        ")\n",
        "\n",
        "lib.unload() # para poder recompilar la lib hay que cerrarla\n",
        "\n",
        "result"
      ]
    },
    {
      "cell_type": "markdown",
      "metadata": {
        "id": "IpvKMpSRM0gO"
      },
      "source": [
        "# Cython"
      ]
    },
    {
      "cell_type": "code",
      "execution_count": null,
      "metadata": {
        "id": "W9O1mKlVNMsV"
      },
      "outputs": [],
      "source": [
        "%reload_ext cython"
      ]
    },
    {
      "cell_type": "code",
      "execution_count": null,
      "metadata": {
        "id": "8j2QDZ-INIq8"
      },
      "outputs": [],
      "source": [
        "%%cython -a --verbose\n",
        "\n",
        "import math\n",
        "# use C math functions\n",
        "from libc.math cimport sin, cos\n",
        "\n",
        "# use C types instead of Python types\n",
        "def r_cython(double[:] x_vec, double[:] y_vec):\n",
        "    cdef double s = 0\n",
        "    cdef int i\n",
        "    for i in range(len(x_vec)):\n",
        "        s += cos(x_vec[i])*sin(y_vec[i])\n",
        "    return s"
      ]
    },
    {
      "cell_type": "code",
      "execution_count": null,
      "metadata": {
        "colab": {
          "base_uri": "https://localhost:8080/"
        },
        "id": "veouVIlLNQOu",
        "outputId": "59cac13e-2e0a-4d07-84ca-0913333c8cf0"
      },
      "outputs": [],
      "source": [
        "x = np.ones(10)\n",
        "r_cython(x, x)"
      ]
    },
    {
      "cell_type": "code",
      "execution_count": null,
      "metadata": {
        "id": "88_5gC-vO02F"
      },
      "outputs": [],
      "source": [
        "!python -m pip install eigency\n",
        "%reload_ext cython"
      ]
    },
    {
      "cell_type": "code",
      "execution_count": null,
      "metadata": {
        "colab": {
          "base_uri": "https://localhost:8080/"
        },
        "id": "VIz9324SU6W6",
        "outputId": "d19422fd-4da8-405b-ffac-5c1188eb0acf"
      },
      "outputs": [],
      "source": [
        "%%writefile functions.h\n",
        "Eigen::MatrixXd function_w_mat_arg(const Eigen::Map<Eigen::MatrixXd> &mat) {\n",
        "    std::cout << mat << \"\\n\";\n",
        "    return mat;\n",
        "}"
      ]
    },
    {
      "cell_type": "code",
      "execution_count": null,
      "metadata": {
        "colab": {
          "base_uri": "https://localhost:8080/",
          "height": 527
        },
        "id": "fGTQDpXZNn0j",
        "outputId": "92f6f921-b69f-4542-d461-eac8beea2a5e"
      },
      "outputs": [],
      "source": [
        "%%cython -a --verbose -+ -I /usr/local/lib/python3.10/dist-packages/numpy/core/include/ -I /usr/include/eigen3 -I ./\n",
        "\n",
        "import math\n",
        "# use C math functions\n",
        "from libc.math cimport sin, cos\n",
        "from eigency.core cimport *\n",
        "\n",
        "cdef extern from \"functions.h\":\n",
        "     cdef MatrixXd _function_w_mat_arg \"function_w_mat_arg\"(Map[MatrixXd] &)\n",
        "\n",
        "# use C types instead of Python types\n",
        "def function_w_mat_arg(np.ndarray array):\n",
        "    return ndarray(_function_w_mat_arg(Map[MatrixXd](array)))"
      ]
    },
    {
      "cell_type": "code",
      "execution_count": null,
      "metadata": {
        "colab": {
          "base_uri": "https://localhost:8080/"
        },
        "id": "CJuMglLYVL4K",
        "outputId": "c6d5be83-5dba-4ffc-ebbd-63d9cadaff38"
      },
      "outputs": [],
      "source": [
        "function_w_mat_arg(np.ones((3,3)))"
      ]
    },
    {
      "cell_type": "markdown",
      "metadata": {
        "id": "A48B3G93Mx0l"
      },
      "source": [
        "# pybind11"
      ]
    },
    {
      "cell_type": "code",
      "execution_count": null,
      "metadata": {
        "colab": {
          "base_uri": "https://localhost:8080/",
          "height": 86
        },
        "id": "vJMA-yx2O3K5",
        "outputId": "bcbdcb27-f90b-4398-b1dd-757d62427bb0"
      },
      "outputs": [],
      "source": [
        "if \"google.colab\" in str(get_ipython()):\n",
        "    !pip install git+https://github.com/aldanor/ipybind.git -qqq\n",
        "%load_ext ipybind"
      ]
    },
    {
      "cell_type": "code",
      "execution_count": null,
      "metadata": {
        "id": "79rzg3p7SrNl"
      },
      "outputs": [],
      "source": [
        "%%pybind11\n",
        "\n",
        "#include <pybind11/numpy.h>\n",
        "#include <math.h>\n",
        "#include <eigen3/Eigen/Dense>\n",
        "#include <iostream>\n",
        "PYBIND11_PLUGIN(example) {\n",
        "    py::module m(\"example\");\n",
        "    m.def(\"r_pybind\", [](const py::array_t<double>& x, const py::array_t<double>& y) {\n",
        "        double sum{0};\n",
        "        auto rx{x.unchecked<1>()};\n",
        "        auto ry{y.unchecked<1>()};\n",
        "        for (py::ssize_t i = 0; i < rx.shape(0); i++){\n",
        "            sum += std::cos(rx[i])*std::sin(ry[i]);\n",
        "        }\n",
        "        Eigen::Matrix2d a;\n",
        "        a << 1, 2,\n",
        "            3, 4;\n",
        "\n",
        "        return sum;\n",
        "\n",
        "    });\n",
        "    return m.ptr();\n",
        "}"
      ]
    },
    {
      "cell_type": "code",
      "execution_count": null,
      "metadata": {
        "id": "FRqtLsLlP64v"
      },
      "outputs": [],
      "source": [
        "r_pybind(x, x)"
      ]
    },
    {
      "cell_type": "code",
      "execution_count": null,
      "metadata": {
        "id": "ZtnOeCyMP7dB"
      },
      "outputs": [],
      "source": []
    }
  ],
  "metadata": {
    "colab": {
      "provenance": []
    },
    "kernelspec": {
      "display_name": "Python 3",
      "name": "python3"
    },
    "language_info": {
      "name": "python"
    }
  },
  "nbformat": 4,
  "nbformat_minor": 0
}
