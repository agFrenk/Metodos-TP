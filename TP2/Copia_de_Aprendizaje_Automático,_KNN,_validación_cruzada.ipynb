{
  "cells": [
    {
      "cell_type": "code",
      "execution_count": 15,
      "metadata": {
        "id": "rzj-5O4__1Hw"
      },
      "outputs": [],
      "source": [
        "import numpy as np\n",
        "import scipy\n",
        "import pandas\n",
        "import matplotlib.pyplot as plt"
      ]
    },
    {
      "cell_type": "markdown",
      "metadata": {
        "id": "vChGcOnSFdMP"
      },
      "source": [
        "# Bajamos los datos"
      ]
    },
    {
      "cell_type": "code",
      "execution_count": 16,
      "metadata": {
        "colab": {
          "base_uri": "https://localhost:8080/"
        },
        "id": "Yirx50VhDzqm",
        "outputId": "070a0bed-09c5-48d1-bdd7-1e95356e1bc3"
      },
      "outputs": [],
      "source": [
        "# !wget -O datos.zip https://www.dropbox.com/scl/fi/v6qfj1ktarocr8sl02r8k/datos.zip?rlkey=2u060s5619gvcvnnnhq93rn4e&st=jy3dah88&dl=1\n",
        "# !unzip datos.zip"
      ]
    },
    {
      "cell_type": "code",
      "execution_count": 17,
      "metadata": {
        "id": "aYTq5_WH_3gU"
      },
      "outputs": [],
      "source": [
        "class_names = [\"T-shirt/top\",\n",
        "    \"Trouser\",\n",
        "    \"Pullover\",\n",
        "    \"Dress\",\n",
        "    \"Coat\",\n",
        "    \"Sandal\",\n",
        "    \"Shirt\",\n",
        "    \"Sneaker\",\n",
        "    \"Bag\",\n",
        "    \"Ankle boot\"\n",
        "]"
      ]
    },
    {
      "cell_type": "markdown",
      "metadata": {
        "id": "wlba-FnbFgZo"
      },
      "source": [
        "# Cargamos los archivos"
      ]
    },
    {
      "cell_type": "code",
      "execution_count": 18,
      "metadata": {
        "colab": {
          "base_uri": "https://localhost:8080/"
        },
        "id": "Hr-bW_uYAFlX",
        "outputId": "d70b64cf-8790-4ee8-9089-391bc384cbaa"
      },
      "outputs": [
        {
          "data": {
            "text/plain": [
              "((5000, 784), (5000,), (500, 784), (500,))"
            ]
          },
          "execution_count": 18,
          "metadata": {},
          "output_type": "execute_result"
        }
      ],
      "source": [
        "X_train = np.loadtxt(\"datos/X_train.csv\", delimiter=\",\") #Funcón de numpy que carga texto (En nuestro caso las imagenes)\n",
        "y_train = np.loadtxt(\"datos/y_train.csv\", delimiter=\",\").astype(int) # Indice entero de que clase es cada imagen, hay 5000\n",
        "X_test = np.loadtxt(\"datos/X_test.csv\", delimiter=\",\") # Variables test son las de prueba, NO USAR\n",
        "y_test = np.loadtxt(\"datos/y_test.csv\", delimiter=\",\").astype(int) # Indice de las imagenes de PRUEBA\n",
        "\n",
        "X_train.shape, y_train.shape, X_test.shape, y_test.shape"
      ]
    },
    {
      "cell_type": "markdown",
      "metadata": {
        "id": "t8i93JF5Eyr2"
      },
      "source": [
        "# Revisamos la cantida de muestras por cada clase"
      ]
    },
    {
      "cell_type": "code",
      "execution_count": 19,
      "metadata": {
        "colab": {
          "base_uri": "https://localhost:8080/"
        },
        "id": "PKPyYqBSFG_d",
        "outputId": "dcd9d40b-3ee5-4938-c778-91a540e5ae8e"
      },
      "outputs": [
        {
          "data": {
            "text/plain": [
              "(array([500, 500, 500, 500, 500, 500, 500, 500, 500, 500]),\n",
              " array([50, 50, 50, 50, 50, 50, 50, 50, 50, 50]))"
            ]
          },
          "execution_count": 19,
          "metadata": {},
          "output_type": "execute_result"
        }
      ],
      "source": [
        "np.bincount(y_train), np.bincount(y_test) # Cuenta cuántos ceros hay, cuántos unos hay, etc.. Hay 500 de cada uno en los datos de entrenamiento y 50 de cada uno en los datos de prueba"
      ]
    },
    {
      "cell_type": "markdown",
      "metadata": {
        "id": "luYIJeYPGQ_X"
      },
      "source": [
        "# Visualizamos"
      ]
    },
    {
      "cell_type": "code",
      "execution_count": 20,
      "metadata": {
        "colab": {
          "base_uri": "https://localhost:8080/",
          "height": 452
        },
        "id": "UFd0dyATCDZT",
        "outputId": "3102540f-9a29-4ecc-b413-50f4988c2ee9"
      },
      "outputs": [
        {
          "data": {
            "image/png": "[encoded data removed]",
            "text/plain": [
              "<Figure size 640x480 with 1 Axes>"
            ]
          },
          "metadata": {},
          "output_type": "display_data"
        }
      ],
      "source": [
        "ix = 7 #Agarro el elemento numero 7\n",
        "plt.imshow(X_test[ix].reshape(28,28), cmap=\"gray\") #Reshape para acomodarlo en 28 * 28 (cuadrado)\n",
        "plt.title(class_names[y_test[ix]]); #Le pone el nombre ... chequea que está bien (coincide el titulo con la imagen)"
      ]
    },
    {
      "cell_type": "markdown",
      "metadata": {
        "id": "xvEd8-b3KYkB"
      },
      "source": [
        "# Separamos en datos de desarrollo\n",
        "\n",
        "Garantizamos que las clases siguen igualmente balanceadas (estratificación)"
      ]
    },
    {
      "cell_type": "code",
      "execution_count": 21,
      "metadata": {
        "colab": {
          "base_uri": "https://localhost:8080/"
        },
        "id": "leTGrXS2KVZc",
        "outputId": "87a8837e-4a95-4c11-b3f3-0fd3a8494db0"
      },
      "outputs": [
        {
          "data": {
            "text/plain": [
              "(array([400, 400, 400, 400, 400, 400, 400, 400, 400, 400]),\n",
              " array([100, 100, 100, 100, 100, 100, 100, 100, 100, 100]))"
            ]
          },
          "execution_count": 21,
          "metadata": {},
          "output_type": "execute_result"
        }
      ],
      "source": [
        "from sklearn.model_selection import train_test_split\n",
        "X_newtrain, X_dev, y_newtrain, y_dev = train_test_split(X_train, y_train, test_size=0.2, random_state=42, stratify=y_train) # Test size = 20%, divide un quinto para reservar como desarrollo.\n",
        "#Stratify garantiza que todo lo que metió en ese 20% tiene la misma cantidad de prendas de ropa que en el resto\n",
        "\n",
        "np.bincount(y_newtrain), np.bincount(y_dev) #New Train = E , y_dev = Desarrollo"
      ]
    },
    {
      "cell_type": "markdown",
      "metadata": {
        "id": "qLCx48t_GTkd"
      },
      "source": [
        "# KNN\n",
        "\n",
        "## Consigna:\n",
        "\n",
        "* Implementar KNN con distancia coseno\n",
        "\n",
        "$$d(A,B) = 1-\\frac{A\\cdot B}{\\|A\\|\\|B\\|}$$\n",
        "\n",
        "* Computar la distancia entre los datos de entrenamiento y los desarrollo\n",
        "* Ordenar estas distancias de menor a mayor\n",
        "* Para cada dato de desarrollo elegir las primeras $k$ muestras y listar de que clase son\n",
        "* Calcular la moda\n",
        "* Medir la performance del sistema como:\n",
        "\n",
        "$$ \\text{exactitud} = \\frac{\\text{cantidad de muestra bien reconocidas}}{\\text{cantidad de muestras totales}}$$\n",
        "\n",
        "Recomendación, primero desarrollar en forma lenta utilizando loops *for*, y una vez resulto el problema, pasar a optimizarlo utilizando las operaciones vectorizadas a lo *numpy* para evitar los loops."
      ]
    },
    {
      "cell_type": "code",
      "execution_count": 24,
      "metadata": {
        "id": "39TWfS9JSD2L"
      },
      "outputs": [
        {
          "name": "stdout",
          "output_type": "stream",
          "text": [
            "[(0, 0), (1, 1), (4, 2), (3, 3), (4, 4), (7, 5), (0, 6), (7, 7), (8, 8), (9, 9), (6, 0), (1, 1), (2, 2), (3, 3), (4, 4), (5, 5), (0, 6), (9, 7), (8, 8), (9, 9), (0, 0), (1, 1), (1, 2), (1, 3), (4, 4), (5, 5), (3, 6), (9, 7), (8, 8), (9, 9), (0, 0), (1, 1), (4, 2), (3, 3), (4, 4), (9, 5), (6, 6), (7, 7), (8, 8), (9, 9), (0, 0), (1, 1), (6, 2), (3, 3), (0, 4), (7, 5), (0, 6), (7, 7), (8, 8), (9, 9), (2, 0), (1, 1), (2, 2), (3, 3), (4, 4), (5, 5), (0, 6), (7, 7), (8, 8), (9, 9), (0, 0), (1, 1), (2, 2), (3, 3), (4, 4), (9, 5), (0, 6), (7, 7), (8, 8), (9, 9), (0, 0), (1, 1), (2, 2), (3, 3), (4, 4), (7, 5), (2, 6), (9, 7), (8, 8), (9, 9), (6, 0), (1, 1), (2, 2), (3, 3), (4, 4), (9, 5), (4, 6), (7, 7), (8, 8), (9, 9), (0, 0), (1, 1), (2, 2), (3, 3), (4, 4), (9, 5), (6, 6), (7, 7), (8, 8), (9, 9), (0, 0), (1, 1), (2, 2), (4, 3), (4, 4), (7, 5), (6, 6), (7, 7), (8, 8), (9, 9), (6, 0), (3, 1), (4, 2), (3, 3), (4, 4), (5, 5), (6, 6), (7, 7), (8, 8), (9, 9), (0, 0), (1, 1), (0, 2), (3, 3), (4, 4), (7, 5), (2, 6), (7, 7), (8, 8), (9, 9), (0, 0), (1, 1), (2, 2), (3, 3), (4, 4), (9, 5), (4, 6), (7, 7), (8, 8), (9, 9), (0, 0), (1, 1), (2, 2), (3, 3), (4, 4), (9, 5), (6, 6), (7, 7), (8, 8), (9, 9), (0, 0), (1, 1), (2, 2), (3, 3), (4, 4), (5, 5), (6, 6), (7, 7), (8, 8), (9, 9), (0, 0), (1, 1), (4, 2), (3, 3), (4, 4), (5, 5), (6, 6), (7, 7), (8, 8), (9, 9), (0, 0), (2, 1), (4, 2), (3, 3), (4, 4), (5, 5), (6, 6), (7, 7), (8, 8), (9, 9), (0, 0), (1, 1), (4, 2), (3, 3), (4, 4), (7, 5), (2, 6), (7, 7), (8, 8), (9, 9), (0, 0), (1, 1), (2, 2), (3, 3), (4, 4), (9, 5), (6, 6), (7, 7), (8, 8), (9, 9), (0, 0), (1, 1), (2, 2), (3, 3), (4, 4), (5, 5), (6, 6), (7, 7), (8, 8), (9, 9), (2, 0), (1, 1), (4, 2), (3, 3), (4, 4), (7, 5), (4, 6), (7, 7), (8, 8), (9, 9), (0, 0), (1, 1), (6, 2), (3, 3), (4, 4), (7, 5), (6, 6), (7, 7), (8, 8), (9, 9), (6, 0), (1, 1), (2, 2), (2, 3), (4, 4), (9, 5), (0, 6), (7, 7), (8, 8), (9, 9), (0, 0), (1, 1), (2, 2), (3, 3), (4, 4), (7, 5), (2, 6), (7, 7), (8, 8), (9, 9), (0, 0), (1, 1), (2, 2), (1, 3), (4, 4), (5, 5), (6, 6), (9, 7), (8, 8), (9, 9), (0, 0), (1, 1), (2, 2), (3, 3), (4, 4), (7, 5), (6, 6), (7, 7), (8, 8), (9, 9), (0, 0), (1, 1), (2, 2), (3, 3), (4, 4), (9, 5), (4, 6), (7, 7), (8, 8), (9, 9), (0, 0), (1, 1), (6, 2), (3, 3), (4, 4), (5, 5), (6, 6), (7, 7), (8, 8), (9, 9), (0, 0), (1, 1), (2, 2), (3, 3), (4, 4), (7, 5), (0, 6), (7, 7), (8, 8), (9, 9), (8, 0), (3, 1), (4, 2), (3, 3), (4, 4), (7, 5), (4, 6), (7, 7), (8, 8), (9, 9), (0, 0), (1, 1), (4, 2), (3, 3), (6, 4), (5, 5), (6, 6), (7, 7), (8, 8), (9, 9), (0, 0), (1, 1), (2, 2), (3, 3), (4, 4), (5, 5), (6, 6), (9, 7), (8, 8), (9, 9), (0, 0), (3, 1), (2, 2), (3, 3), (4, 4), (9, 5), (6, 6), (7, 7), (8, 8), (9, 9), (0, 0), (1, 1), (2, 2), (0, 3), (4, 4), (5, 5), (6, 6), (7, 7), (8, 8), (9, 9), (0, 0), (1, 1), (2, 2), (3, 3), (4, 4), (9, 5), (4, 6), (7, 7), (8, 8), (9, 9), (0, 0), (1, 1), (4, 2), (3, 3), (4, 4), (9, 5), (2, 6), (7, 7), (8, 8), (9, 9), (0, 0), (1, 1), (2, 2), (3, 3), (4, 4), (5, 5), (4, 6), (7, 7), (8, 8), (9, 9), (0, 0), (1, 1), (4, 2), (3, 3), (4, 4), (9, 5), (6, 6), (7, 7), (8, 8), (9, 9), (0, 0), (1, 1), (4, 2), (3, 3), (4, 4), (5, 5), (6, 6), (9, 7), (8, 8), (9, 9), (0, 0), (1, 1), (2, 2), (3, 3), (4, 4), (9, 5), (2, 6), (7, 7), (8, 8), (9, 9), (0, 0), (1, 1), (2, 2), (3, 3), (4, 4), (7, 5), (0, 6), (7, 7), (8, 8), (9, 9), (0, 0), (1, 1), (2, 2), (3, 3), (2, 4), (7, 5), (6, 6), (7, 7), (8, 8), (9, 9), (0, 0), (1, 1), (2, 2), (3, 3), (6, 4), (7, 5), (6, 6), (7, 7), (8, 8), (9, 9), (0, 0), (1, 1), (2, 2), (3, 3), (4, 4), (5, 5), (6, 6), (9, 7), (8, 8), (9, 9), (0, 0), (1, 1), (8, 2), (3, 3), (4, 4), (5, 5), (4, 6), (7, 7), (8, 8), (9, 9), (0, 0), (1, 1), (2, 2), (3, 3), (4, 4), (9, 5), (6, 6), (7, 7), (8, 8), (9, 9), (0, 0), (1, 1), (2, 2), (3, 3), (4, 4), (9, 5), (6, 6), (7, 7), (8, 8), (9, 9), (0, 0), (1, 1), (2, 2), (3, 3), (4, 4), (5, 5), (6, 6), (7, 7), (8, 8), (9, 9), (0, 0), (1, 1), (2, 2), (3, 3), (4, 4), (5, 5), (6, 6), (7, 7), (8, 8), (9, 9), (0, 0), (1, 1), (2, 2), (3, 3), (4, 4), (9, 5), (4, 6), (9, 7), (8, 8), (9, 9), (0, 0), (1, 1), (2, 2), (3, 3), (4, 4), (9, 5), (0, 6), (7, 7), (8, 8), (9, 9), (0, 0), (1, 1), (2, 2), (3, 3), (4, 4), (7, 5), (2, 6), (7, 7), (8, 8), (9, 9), (0, 0), (1, 1), (2, 2), (1, 3), (4, 4), (5, 5), (6, 6), (7, 7), (8, 8), (9, 9), (0, 0), (1, 1), (2, 2), (3, 3), (4, 4), (5, 5), (4, 6), (7, 7), (8, 8), (9, 9), (0, 0), (1, 1), (2, 2), (3, 3), (4, 4), (5, 5), (8, 6), (7, 7), (8, 8), (9, 9), (6, 0), (1, 1), (2, 2), (3, 3), (4, 4), (5, 5), (6, 6), (7, 7), (3, 8), (9, 9), (0, 0), (1, 1), (2, 2), (3, 3), (4, 4), (5, 5), (6, 6), (7, 7), (8, 8), (9, 9), (0, 0), (1, 1), (2, 2), (3, 3), (4, 4), (5, 5), (2, 6), (7, 7), (8, 8), (9, 9), (0, 0), (1, 1), (2, 2), (3, 3), (4, 4), (5, 5), (4, 6), (7, 7), (8, 8), (9, 9), (0, 0), (1, 1), (2, 2), (3, 3), (4, 4), (5, 5), (6, 6), (7, 7), (8, 8), (9, 9), (0, 0), (1, 1), (2, 2), (3, 3), (4, 4), (9, 5), (6, 6), (7, 7), (8, 8), (9, 9), (0, 0), (1, 1), (2, 2), (3, 3), (4, 4), (9, 5), (0, 6), (7, 7), (8, 8), (9, 9), (2, 0), (1, 1), (2, 2), (3, 3), (4, 4), (5, 5), (0, 6), (7, 7), (8, 8), (9, 9), (6, 0), (1, 1), (7, 2), (3, 3), (4, 4), (5, 5), (4, 6), (7, 7), (8, 8), (9, 9), (0, 0), (1, 1), (2, 2), (3, 3), (4, 4), (9, 5), (6, 6), (7, 7), (8, 8), (9, 9), (0, 0), (1, 1), (2, 2), (3, 3), (4, 4), (9, 5), (6, 6), (7, 7), (8, 8), (9, 9), (6, 0), (1, 1), (2, 2), (3, 3), (4, 4), (5, 5), (1, 6), (7, 7), (8, 8), (9, 9), (0, 0), (1, 1), (4, 2), (3, 3), (0, 4), (5, 5), (6, 6), (7, 7), (8, 8), (9, 9), (4, 0), (1, 1), (2, 2), (3, 3), (4, 4), (5, 5), (4, 6), (7, 7), (8, 8), (9, 9), (0, 0), (1, 1), (2, 2), (3, 3), (4, 4), (5, 5), (2, 6), (7, 7), (8, 8), (9, 9), (0, 0), (1, 1), (2, 2), (0, 3), (4, 4), (5, 5), (6, 6), (7, 7), (8, 8), (9, 9), (0, 0), (3, 1), (2, 2), (1, 3), (2, 4), (5, 5), (6, 6), (7, 7), (8, 8), (9, 9), (0, 0), (1, 1), (2, 2), (3, 3), (4, 4), (7, 5), (6, 6), (7, 7), (8, 8), (9, 9), (0, 0), (1, 1), (2, 2), (3, 3), (4, 4), (9, 5), (6, 6), (7, 7), (8, 8), (9, 9), (0, 0), (6, 1), (2, 2), (3, 3), (4, 4), (5, 5), (0, 6), (7, 7), (8, 8), (9, 9), (0, 0), (1, 1), (2, 2), (3, 3), (4, 4), (7, 5), (0, 6), (7, 7), (8, 8), (9, 9), (0, 0), (1, 1), (2, 2), (4, 3), (4, 4), (7, 5), (8, 6), (7, 7), (8, 8), (9, 9), (0, 0), (1, 1), (2, 2), (3, 3), (6, 4), (9, 5), (0, 6), (7, 7), (8, 8), (9, 9), (0, 0), (1, 1), (2, 2), (1, 3), (6, 4), (5, 5), (0, 6), (7, 7), (8, 8), (9, 9), (4, 0), (1, 1), (2, 2), (3, 3), (4, 4), (5, 5), (2, 6), (7, 7), (2, 8), (9, 9), (0, 0), (1, 1), (4, 2), (3, 3), (4, 4), (7, 5), (6, 6), (7, 7), (8, 8), (9, 9), (0, 0), (1, 1), (2, 2), (3, 3), (4, 4), (7, 5), (0, 6), (7, 7), (8, 8), (9, 9), (0, 0), (1, 1), (2, 2), (3, 3), (4, 4), (5, 5), (6, 6), (7, 7), (8, 8), (9, 9), (0, 0), (1, 1), (2, 2), (3, 3), (4, 4), (9, 5), (6, 6), (7, 7), (8, 8), (9, 9), (0, 0), (1, 1), (2, 2), (3, 3), (2, 4), (7, 5), (0, 6), (7, 7), (8, 8), (9, 9), (0, 0), (1, 1), (2, 2), (3, 3), (6, 4), (5, 5), (0, 6), (7, 7), (8, 8), (9, 9), (0, 0), (1, 1), (4, 2), (3, 3), (4, 4), (5, 5), (0, 6), (7, 7), (8, 8), (9, 9), (0, 0), (1, 1), (2, 2), (3, 3), (2, 4), (7, 5), (0, 6), (7, 7), (8, 8), (9, 9), (0, 0), (1, 1), (2, 2), (3, 3), (4, 4), (5, 5), (6, 6), (7, 7), (8, 8), (9, 9), (0, 0), (3, 1), (2, 2), (3, 3), (3, 4), (9, 5), (6, 6), (7, 7), (2, 8), (9, 9), (0, 0), (1, 1), (2, 2), (3, 3), (4, 4), (9, 5), (6, 6), (7, 7), (8, 8), (9, 9), (0, 0), (1, 1), (4, 2), (3, 3), (4, 4), (9, 5), (6, 6), (7, 7), (8, 8), (9, 9), (0, 0), (1, 1), (2, 2), (4, 3), (3, 4), (5, 5), (6, 6), (7, 7), (8, 8), (9, 9), (0, 0), (1, 1), (2, 2), (3, 3), (4, 4), (7, 5), (6, 6), (9, 7), (8, 8), (9, 9), (0, 0), (1, 1), (4, 2), (3, 3), (4, 4), (7, 5), (4, 6), (7, 7), (8, 8), (9, 9), (6, 0), (1, 1), (2, 2), (3, 3), (4, 4), (9, 5), (2, 6), (7, 7), (8, 8), (9, 9), (0, 0), (1, 1), (2, 2), (3, 3), (2, 4), (5, 5), (2, 6), (7, 7), (8, 8), (9, 9), (0, 0), (1, 1), (2, 2), (3, 3), (4, 4), (5, 5), (4, 6), (7, 7), (8, 8), (9, 9), (0, 0), (1, 1), (4, 2), (3, 3), (4, 4), (5, 5), (6, 6), (7, 7), (8, 8), (9, 9)]\n"
          ]
        }
      ],
      "source": [
        "def distance(A, B):\n",
        "    dot_product = A.dot(B)\n",
        "    norm_product = np.linalg.norm(A) * np.linalg.norm(B)\n",
        "    return 1 - (dot_product / norm_product)\n",
        "\n",
        "\n",
        "#image set = lista de tuplas, con cada tupla = (imagen(vector), typo de imagen)\n",
        "def image_distances(image_set, image):\n",
        "    distances = []\n",
        "    dis = 0\n",
        "    for pic, label in image_set:\n",
        "        dis = distance(image, pic)\n",
        "        distances.append((dis, label))\n",
        "    return distances\n",
        "\n",
        "#distances = lista de tuplas, con cada tupla = (distanca de cada imagen de entrenamiento con la imagen elegida, typo de imagen)\n",
        "def classify_image(distances, k):\n",
        "    distances.sort(key=lambda x: x[0])\n",
        "    number_of_apperances = np.zeros(10)\n",
        "    for i in range(0, k): # k = cantidad de vecinos que queremos analizar \n",
        "       image_type = distances[i][1]\n",
        "       number_of_apperances[image_type] = number_of_apperances[image_type] + 1  \n",
        "\n",
        "    max = -1\n",
        "    max_index = -1\n",
        "    for i in range(0, len(number_of_apperances)):\n",
        "        if(number_of_apperances[i] > max):\n",
        "            max = number_of_apperances[i]\n",
        "            max_index = i\n",
        "    \n",
        "    return max_index\n",
        "\n",
        "def first_test(image, image_type):\n",
        "    images = X_train[:4000]\n",
        "    types = y_train[:4000]\n",
        "    image_set = zip(images, types) #creamos las tuplas\n",
        "    distances = image_distances(image_set, image)\n",
        "    expected_type = classify_image(distances, 5)\n",
        "    return expected_type\n",
        "    # print(f\"succes: {image_type == expected_type}; original type: {image_type}; expected type: {expected_type}\")\n",
        "\n",
        "expected_types = []\n",
        "for i in range(4000, 5000):\n",
        "    image = X_train[i]\n",
        "    image_type = y_train[i]\n",
        "    expected_types.append((first_test(image, image_type), image_type))\n",
        "\n",
        "print(expected_types)"
      ]
    },
    {
      "cell_type": "code",
      "execution_count": 23,
      "metadata": {},
      "outputs": [
        {
          "name": "stdout",
          "output_type": "stream",
          "text": [
            "[0 1 4 3 4 7 0 7 8 9 6 1 2 3 4 5 0 9 8 9 0 1 1 1 4 5 3 9 8 9 0 1 4 3 4 9 6\n",
            " 7 8 9 0 1 6 3 0 7 0 7 8 9 2 1 2 3 4 5 0 7 8 9 0 1 2 3 4 9 0 7 8 9 0 1 2 3\n",
            " 4 7 2 9 8 9 6 1 2 3 4 9 4 7 8 9 0 1 2 3 4 9 6 7 8 9 0 1 2 4 4 7 6 7 8 9 6\n",
            " 3 4 3 4 5 6 7 8 9 0 1 0 3 4 7 2 7 8 9 0 1 2 3 4 9 4 7 8 9 0 1 2 3 4 9 6 7\n",
            " 8 9 0 1 2 3 4 5 6 7 8 9 0 1 4 3 4 5 6 7 8 9 0 2 4 3 4 5 6 7 8 9 0 1 4 3 4\n",
            " 7 2 7 8 9 0 1 2 3 4 9 6 7 8 9 0 1 2 3 4 5 6 7 8 9 2 1 4 3 4 7 4 7 8 9 0 1\n",
            " 6 3 4 7 6 7 8 9 6 1 2 2 4 9 0 7 8 9 0 1 2 3 4 7 2 7 8 9 0 1 2 1 4 5 6 9 8\n",
            " 9 0 1 2 3 4 7 6 7 8 9 0 1 2 3 4 9 4 7 8 9 0 1 6 3 4 5 6 7 8 9 0 1 2 3 4 7\n",
            " 0 7 8 9 8 3 4 3 4 7 4 7 8 9 0 1 4 3 6 5 6 7 8 9 0 1 2 3 4 5 6 9 8 9 0 3 2\n",
            " 3 4 9 6 7 8 9 0 1 2 0 4 5 6 7 8 9 0 1 2 3 4 9 4 7 8 9 0 1 4 3 4 9 2 7 8 9\n",
            " 0 1 2 3 4 5 4 7 8 9 0 1 4 3 4 9 6 7 8 9 0 1 4 3 4 5 6 9 8 9 0 1 2 3 4 9 2\n",
            " 7 8 9 0 1 2 3 4 7 0 7 8 9 0 1 2 3 2 7 6 7 8 9 0 1 2 3 6 7 6 7 8 9 0 1 2 3\n",
            " 4 5 6 9 8 9 0 1 8 3 4 5 4 7 8 9 0 1 2 3 4 9 6 7 8 9 0 1 2 3 4 9 6 7 8 9 0\n",
            " 1 2 3 4 5 6 7 8 9 0 1 2 3 4 5 6 7 8 9 0 1 2 3 4 9 4 9 8 9 0 1 2 3 4 9 0 7\n",
            " 8 9 0 1 2 3 4 7 2 7 8 9 0 1 2 1 4 5 6 7 8 9 0 1 2 3 4 5 4 7 8 9 0 1 2 3 4\n",
            " 5 8 7 8 9 6 1 2 3 4 5 6 7 3 9 0 1 2 3 4 5 6 7 8 9 0 1 2 3 4 5 2 7 8 9 0 1\n",
            " 2 3 4 5 4 7 8 9 0 1 2 3 4 5 6 7 8 9 0 1 2 3 4 9 6 7 8 9 0 1 2 3 4 9 0 7 8\n",
            " 9 2 1 2 3 4 5 0 7 8 9 6 1 7 3 4 5 4 7 8 9 0 1 2 3 4 9 6 7 8 9 0 1 2 3 4 9\n",
            " 6 7 8 9 6 1 2 3 4 5 1 7 8 9 0 1 4 3 0 5 6 7 8 9 4 1 2 3 4 5 4 7 8 9 0 1 2\n",
            " 3 4 5 2 7 8 9 0 1 2 0 4 5 6 7 8 9 0 3 2 1 2 5 6 7 8 9 0 1 2 3 4 7 6 7 8 9\n",
            " 0 1 2 3 4 9 6 7 8 9 0 6 2 3 4 5 0 7 8 9 0 1 2 3 4 7 0 7 8 9 0 1 2 4 4 7 8\n",
            " 7 8 9 0 1 2 3 6 9 0 7 8 9 0 1 2 1 6 5 0 7 8 9 4 1 2 3 4 5 2 7 2 9 0 1 4 3\n",
            " 4 7 6 7 8 9 0 1 2 3 4 7 0 7 8 9 0 1 2 3 4 5 6 7 8 9 0 1 2 3 4 9 6 7 8 9 0\n",
            " 1 2 3 2 7 0 7 8 9 0 1 2 3 6 5 0 7 8 9 0 1 4 3 4 5 0 7 8 9 0 1 2 3 2 7 0 7\n",
            " 8 9 0 1 2 3 4 5 6 7 8 9 0 3 2 3 3 9 6 7 2 9 0 1 2 3 4 9 6 7 8 9 0 1 4 3 4\n",
            " 9 6 7 8 9 0 1 2 4 3 5 6 7 8 9 0 1 2 3 4 7 6 9 8 9 0 1 4 3 4 7 4 7 8 9 6 1\n",
            " 2 3 4 9 2 7 8 9 0 1 2 3 2 5 2 7 8 9 0 1 2 3 4 5 4 7 8 9 0 1 4 3 4 5 6 7 8\n",
            " 9]\n"
          ]
        }
      ],
      "source": [
        "# Esta función la dejamos y la llamamos después al momento de hacer el precálculo\n",
        "# El único cambio es que recibe la matriz como parámetro (antes recibia x_train) \n",
        "def distanceMatrix(A):   # Apilar verticalmente los vectores en una matriz\n",
        "    matrix_horizontal = A\n",
        "    # Calcular las normas de cada vector de la matriz\n",
        "    norms = np.linalg.norm(matrix_horizontal, axis=1)\n",
        "    # Dividir cada componente de la matriz por la norma del vector correspondiente\n",
        "    matrix_normalized_horizontal =matrix_horizontal / norms[:, np.newaxis]\n",
        "    # Calcula la matriz traspuesta\n",
        "    matrixz_normalized_vertical = np.transpose(matrix_normalized_horizontal)\n",
        "    # Calcula la distancias haciendo una multiplicación entre ambas matrices\n",
        "    distances = matrix_normalized_horizontal @ matrixz_normalized_vertical\n",
        "    # Hace 1 - distances\n",
        "    ones = np.ones((len(distances), len(distances)))\n",
        "    distances = ones - distances\n",
        "    \n",
        "    return distances\n",
        "\n",
        "def knn(k, distances_matrix, start_index_desarrollo, end_index_desarrollo):\n",
        "    # Recorta la matriz segun nuestra conveniencia \n",
        "    sub_matrix = distances_matrix[start_index_desarrollo:end_index_desarrollo+1]\n",
        "    # Eliminar las columnas desde col_start_index hasta col_end_index (inclusive col_end_index)\n",
        "    sub_matrix = np.delete(sub_matrix, np.s_[start_index_desarrollo:end_index_desarrollo+1], axis=1)\n",
        "    # Ordena por distancias de más cercana a más lejana y hace módulo 10 \n",
        "    sub_matrix = np.argsort(sub_matrix, axis=1) % 10\n",
        "    # Se queda con las primeras k columnas más cercanas\n",
        "    k_sub_matrix = sub_matrix[:, :k]\n",
        "    # Calcula la moda \n",
        "    mode, frecuency = scipy.stats.mode(k_sub_matrix, axis=1)\n",
        "    return mode\n",
        "\n",
        "print(knn(5,distanceMatrix(X_train),4000,5000))\n"
      ]
    },
    {
      "cell_type": "code",
      "execution_count": 27,
      "metadata": {},
      "outputs": [
        {
          "name": "stdout",
          "output_type": "stream",
          "text": [
            "[[ True  True  True ...  True  True  True]\n",
            " [ True  True  True ...  True  True  True]\n",
            " [ True  True  True ...  True  True  True]\n",
            " ...\n",
            " [ True  True  True ...  True  True  True]\n",
            " [ True  True  True ...  True  True  True]\n",
            " [ True  True  True ...  True  True  True]]\n"
          ]
        }
      ],
      "source": [
        "#test matriz distancias\n",
        "def second_test():\n",
        "    distancias_clasica = np.zeros((5000, 5000))\n",
        "    for i in range(0, 5000):\n",
        "        for j in range(0, 5000): \n",
        "            distancias_clasica[i][j] = distance(X_train[i], X_train[j])\n",
        "    return distancias_clasica\n",
        "\n",
        "\n",
        "def son_iguales(distancias_clasica):\n",
        "    distance_maitrx = distanceMatrix(X_train)\n",
        "    matriz_de_comparacion = np.full((5000, 5000), False, dtype=bool)\n",
        "    for i in range(0, 5000):\n",
        "        for j in range(0, 5000):\n",
        "            if np.isclose(distancias_clasica[i][j], distance_maitrx[i][j], atol=0.00001):\n",
        "                matriz_de_comparacion[i][j] = True\n",
        "    # print(distance_matrix)\n",
        "    print(matriz_de_comparacion)\n",
        "\n",
        "# second_test()\n",
        "old_distances = second_test()\n",
        "son_iguales(old_distances)"
      ]
    },
    {
      "cell_type": "markdown",
      "metadata": {},
      "source": [
        "## 3.a\n",
        "    "
      ]
    },
    {
      "cell_type": "markdown",
      "metadata": {
        "id": "PkswxksMSIpm"
      },
      "source": [
        "# Validación Cruzada\n",
        "\n",
        "## Consigna:\n",
        "\n",
        "* Partir los datos en una partición de 5 partes manteniendo el mismo balance de clases en cada parte\n",
        "* Iterar sobre estas partes, tomando 4 partes para entrenar y 1 para desarrollo de forma cíclia\n",
        "* Medir la performance para cada parte\n",
        "* Tomar el promedio\n",
        "\n",
        "* Realizar la validación cruzada para distintos valores de $k$ de KNN, y encontrar el mejor"
      ]
    },
    {
      "cell_type": "code",
      "execution_count": null,
      "metadata": {
        "id": "ss6o5t4qSmzu"
      },
      "outputs": [
        {
          "ename": "AttributeError",
          "evalue": "'tuple' object has no attribute 'dot'",
          "output_type": "error",
          "traceback": [
            "\u001b[0;31m---------------------------------------------------------------------------\u001b[0m",
            "\u001b[0;31mAttributeError\u001b[0m                            Traceback (most recent call last)",
            "Cell \u001b[0;32mIn[41], line 21\u001b[0m\n\u001b[1;32m     18\u001b[0m \u001b[38;5;66;03m# Creando la lista T\u001b[39;00m\n\u001b[1;32m     19\u001b[0m T \u001b[38;5;241m=\u001b[39m full_image_set[:inicio_D] \u001b[38;5;241m+\u001b[39m full_image_set[fin_D:]\n\u001b[0;32m---> 21\u001b[0m \u001b[43mcalculate_With_traingin_development\u001b[49m\u001b[43m(\u001b[49m\u001b[43mT\u001b[49m\u001b[43m,\u001b[49m\u001b[43m \u001b[49m\u001b[43mD\u001b[49m\u001b[43m,\u001b[49m\u001b[43m \u001b[49m\u001b[38;5;241;43m5\u001b[39;49m\u001b[43m)\u001b[49m\n",
            "Cell \u001b[0;32mIn[41], line 4\u001b[0m, in \u001b[0;36mcalculate_With_traingin_development\u001b[0;34m(training, development, k)\u001b[0m\n\u001b[1;32m      2\u001b[0m ammount_of_succeses \u001b[38;5;241m=\u001b[39m \u001b[38;5;241m0\u001b[39m\n\u001b[1;32m      3\u001b[0m \u001b[38;5;28;01mfor\u001b[39;00m image \u001b[38;5;129;01min\u001b[39;00m development:\n\u001b[0;32m----> 4\u001b[0m     distances \u001b[38;5;241m=\u001b[39m \u001b[43mimage_distances\u001b[49m\u001b[43m(\u001b[49m\u001b[43mtraining\u001b[49m\u001b[43m,\u001b[49m\u001b[43m \u001b[49m\u001b[43mimage\u001b[49m\u001b[43m)\u001b[49m\n\u001b[1;32m      5\u001b[0m     expected_type \u001b[38;5;241m=\u001b[39m classify_image(distances, k)\n\u001b[1;32m      6\u001b[0m     \u001b[38;5;28;01mif\u001b[39;00m (expected_type \u001b[38;5;241m==\u001b[39m image[\u001b[38;5;241m1\u001b[39m]):\n",
            "Cell \u001b[0;32mIn[37], line 12\u001b[0m, in \u001b[0;36mimage_distances\u001b[0;34m(image_set, image)\u001b[0m\n\u001b[1;32m     10\u001b[0m dis \u001b[38;5;241m=\u001b[39m \u001b[38;5;241m0\u001b[39m\n\u001b[1;32m     11\u001b[0m \u001b[38;5;28;01mfor\u001b[39;00m pic, label \u001b[38;5;129;01min\u001b[39;00m image_set:\n\u001b[0;32m---> 12\u001b[0m     dis \u001b[38;5;241m=\u001b[39m \u001b[43mdistance\u001b[49m\u001b[43m(\u001b[49m\u001b[43mimage\u001b[49m\u001b[43m,\u001b[49m\u001b[43m \u001b[49m\u001b[43mpic\u001b[49m\u001b[43m)\u001b[49m\n\u001b[1;32m     13\u001b[0m     distances\u001b[38;5;241m.\u001b[39mappend((dis, label))\n\u001b[1;32m     14\u001b[0m \u001b[38;5;28;01mreturn\u001b[39;00m distances\n",
            "Cell \u001b[0;32mIn[37], line 2\u001b[0m, in \u001b[0;36mdistance\u001b[0;34m(A, B)\u001b[0m\n\u001b[1;32m      1\u001b[0m \u001b[38;5;28;01mdef\u001b[39;00m \u001b[38;5;21mdistance\u001b[39m(A, B):\n\u001b[0;32m----> 2\u001b[0m     dot_product \u001b[38;5;241m=\u001b[39m \u001b[43mA\u001b[49m\u001b[38;5;241;43m.\u001b[39;49m\u001b[43mdot\u001b[49m(B)\n\u001b[1;32m      3\u001b[0m     norm_product \u001b[38;5;241m=\u001b[39m np\u001b[38;5;241m.\u001b[39mlinalg\u001b[38;5;241m.\u001b[39mnorm(A) \u001b[38;5;241m*\u001b[39m np\u001b[38;5;241m.\u001b[39mlinalg\u001b[38;5;241m.\u001b[39mnorm(B)\n\u001b[1;32m      4\u001b[0m     \u001b[38;5;28;01mreturn\u001b[39;00m \u001b[38;5;241m1\u001b[39m \u001b[38;5;241m-\u001b[39m (dot_product \u001b[38;5;241m/\u001b[39m norm_product)\n",
            "\u001b[0;31mAttributeError\u001b[0m: 'tuple' object has no attribute 'dot'"
          ]
        }
      ],
      "source": [
        "def calculate_With_traingin_development(training, development, k):\n",
        "    ammount_of_succeses = 0\n",
        "    for image in development:\n",
        "        distances = image_distances(training, image)\n",
        "        expected_type = classify_image(distances, k)\n",
        "        if (expected_type == image[1]):\n",
        "            ammount_of_succeses = ammount_of_succeses + 1\n",
        "    return ammount_of_succeses / 1000\n",
        "\n",
        "for i in range(0, 5):\n",
        "    full_image_set = list(zip(X_train, y_train))\n",
        "    inicio_D = i * 1000\n",
        "    fin_D = inicio_D + 1000\n",
        "    \n",
        "    # Creando la lista D\n",
        "    D = full_image_set[inicio_D:fin_D]\n",
        "    \n",
        "    # Creando la lista T\n",
        "    T = full_image_set[:inicio_D] + full_image_set[fin_D:]\n",
        "\n",
        "    calculate_With_traingin_development(T, D, 5)\n",
        "   "
      ]
    },
    {
      "cell_type": "code",
      "execution_count": 39,
      "metadata": {},
      "outputs": [
        {
          "name": "stdout",
          "output_type": "stream",
          "text": [
            "resultados correctos = 417\n",
            "performance = 0.834\n"
          ]
        }
      ],
      "source": [
        "#CONSIGNA : Realizar un reconocedor de imágenes usando KNN para un k fijo de 5, usando los datos de entrenamiento dados \n",
        "#           y medir la performance con la medida de exactitud en el conjunto de prueba\n",
        "def image_recognizer():\n",
        "    # Concatenamos las matrices X_ train, X_test\n",
        "    matrix_extended = np.vstack((X_train, X_test))\n",
        "    # Calculamos las distancias\n",
        "    distances_matrix_extended = distanceMatrix(matrix_extended)\n",
        "    # Hacemos KNN, siendo los elementos de prueba los que van de 5001 al 5500\n",
        "    res_knn = knn(5,distances_matrix_extended, 5000, 5500) \n",
        "\n",
        "    # Para medir la performance, comparo el resultado de knn (modas) contra el resultado real (y_test)\n",
        "    correctos = np.sum(res_knn == y_test) # Calcula la cantidad de elementos que son iguales en la misma posición\n",
        "    performance = correctos / 500\n",
        "\n",
        "    print(\"resultados correctos =\", correctos)\n",
        "    print(\"performance =\", performance)\n",
        "\n",
        "image_recognizer()"
      ]
    },
    {
      "cell_type": "code",
      "execution_count": 40,
      "metadata": {},
      "outputs": [],
      "source": [
        "#CONSIGNA: Explorar el hiperparámetro k, usando 5-fold cross-validation con el conjunto de  entrenamiento\n",
        "# Medir la performance con la medida de exactitud en cada parte y tomar el promedio para encontrar el mejor k"
      ]
    },
    {
      "cell_type": "code",
      "execution_count": null,
      "metadata": {},
      "outputs": [],
      "source": [
        "def cross_validation():\n",
        "    precomputo = distanceMatrix(X_train)\n",
        "    averages = []\n",
        "    for k in range (0,10): \n",
        "        performances = []\n",
        "        for i in range (0,5):\n",
        "            start = i*1000\n",
        "            end = (i+1)*1000\n",
        "            knn(k, precomputo,start,end)\n",
        "            correctos = np.sum(res_knn == y_train[start, end+1]) # Calcula la cantidad de elementos que son iguales en la misma posición\n",
        "            performance = correctos / 1000\n",
        "            performances.append(performance)\n",
        "        average = np.mean(performances)\n",
        "        averages.append(average)\n",
        "\n",
        "    best_k = np.argmax(averages)\n",
        "    return best_k\n",
        "\n"
      ]
    },
    {
      "cell_type": "markdown",
      "metadata": {},
      "source": [
        "# Método de la potencia"
      ]
    },
    {
      "cell_type": "code",
      "execution_count": 41,
      "metadata": {},
      "outputs": [
        {
          "name": "stdout",
          "output_type": "stream",
          "text": [
            "rm: cannot remove 'metodo_potencia.so': No such file or directory\n",
            "/bin/ld: cannot find fPIC: No such file or directory\n",
            "collect2: error: ld returned 1 exit status\n",
            " archivo\n",
            " build\n",
            " Copia_de_Aprendizaje_Automático,_KNN,_validación_cruzada.ipynb\n",
            "'Copia de metpot_alu_20241C.ipynb'\n",
            " datos\n",
            " datos.zip\n",
            " Eigen_y_Python.ipynb\n",
            " metodo_potencia\n",
            " metodo_potencia.cpp\n"
          ]
        }
      ],
      "source": [
        "!rm metodo_potencia.so \n",
        "!g++ -shared =fPIC -Llibdl -o metodo_potencia.so metodo_potencia.cpp\n",
        "!ls "
      ]
    },
    {
      "cell_type": "code",
      "execution_count": null,
      "metadata": {},
      "outputs": [],
      "source": [
        "import ctypes\n",
        "\n",
        "class sharedlib():\n",
        "    dlclose = ctypes.CDLL(None).dlclose  # This WON'T work on Win\n",
        "    dlclose.argtypes = (ctypes.c_void_p,)\n",
        "\n",
        "    def __init__(self, path, method, *args):\n",
        "        self.lib = ctypes.cdll.LoadLibrary(f'./{path}')\n",
        "\n",
        "        # Se explicitan los tipos de los argumentos para el método deseado\n",
        "        self.method_object = getattr(self.lib, method)\n",
        "        self.method_object.argtypes = args\n",
        "\n",
        "    def __call__(self, *args):\n",
        "        return self.method_object(*args)\n",
        "\n",
        "    def unload(self):\n",
        "        while self.dlclose(self.lib._handle)!=-1:\n",
        "            pass\n",
        "\n",
        "lib = sharedlib('metodo_potencia.so', 'power_iteration_deflation',\n",
        "                                                                ctypes.POINTER(ctypes.c_double),\n",
        "                                                                ctypes.POINTER(ctypes.c_double),\n",
        "                                                                ctypes.POINTER(ctypes.c_double),\n",
        "                                                                ctypes.c_int,\n",
        "                                                                ctypes.c_int\n",
        "                                                            )\n",
        "\n",
        "# Creamos la matriz de entrada\n",
        "A = np.array([[1, 2, 3], [4, 5, 6], [7, 8, 9]], dtype=np.float64)\n",
        "# Eigen la mapea transpuesta a la información del puntero así que hay que pasarlo a orden tipo Fortran\n",
        "A = np.asfortranarray(A)\n",
        "b = np.array([1, 2, 3], dtype=np.float64)\n",
        "\n",
        "# Definimos el vector donde se van a guardar los resultados\n",
        "result = np.zeros((3,), dtype=np.float64)\n",
        "\n",
        "# Llamamos a nuestra función en C++ pasando los argumentos de entrada\n",
        "lib(\n",
        "    A.ctypes.data_as(ctypes.POINTER(ctypes.c_double)),\n",
        "    b.ctypes.data_as(ctypes.POINTER(ctypes.c_double)),\n",
        "    result.ctypes.data_as(ctypes.POINTER(ctypes.c_double)),\n",
        "    ctypes.c_int(A.shape[0]),\n",
        "    ctypes.c_int(A.shape[1])\n",
        ")\n",
        "\n",
        "lib.unload() # para poder recompilar la lib hay que cerrarla\n",
        "\n",
        "result"
      ]
    }
  ],
  "metadata": {
    "colab": {
      "provenance": []
    },
    "kernelspec": {
      "display_name": "Python 3",
      "name": "python3"
    },
    "language_info": {
      "codemirror_mode": {
        "name": "ipython",
        "version": 3
      },
      "file_extension": ".py",
      "mimetype": "text/x-python",
      "name": "python",
      "nbconvert_exporter": "python",
      "pygments_lexer": "ipython3",
      "version": "3.12.3"
    }
  },
  "nbformat": 4,
  "nbformat_minor": 0
}
