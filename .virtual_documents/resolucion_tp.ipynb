


import sys
import numpy as np
import matplotlib
%matplotlib inline
import matplotlib.pyplot as plt








a_matrix =         np.array([[ 1,  1,  1,  1, 10],
                    [ 1,  1,  1,  1, 11],
                    [ 1,  1,  1,  1, 12],
                    [ 1,  1,  1,  1, 13]]).astype(np.float64)
a_matrix





##item a
def elim_gauss_sin_pivot(M): 
   for i in range(0, len(M[0]) - 2):
    for j in range(i+1, len(M)):
      if M[i][i] != 0:
        m_ji = M[j][i]/M[i][i]
        for k in range(i,len(M[0])):
          M[j][k] = M[j][k] - m_ji * M[i][k]
      else:
        for jerror in range(i+1, len(M)):
          if M[jerror][i] != 0:
            raise Exception("No se puede realizar la eliminacion gaussiana con i:" + str(i) + " y j: " + str(j))
   return M

def solve_sys_EGsin(M):
  M_res = elim_gauss_sin_pivot(M)
  x = back_subs(M_res)
  return x

def back_subs(M):
  n = len(M)
  x=[]
  for i in range(n):
    x.append(np.float64(0))
  for i in reversed(range(n)):
    x[i]= (M[i][n-1])
    if(M[i][i]!=0.0):
      for j in range(i+1,n):
        if(M[i][j]!=0.0):
          x[i]= x[i]- M[i][j]*x[j] 
      x[i] = x[i]/M[i][i]
    else:
      x[i]= f"x{i}"
  return x

elim_gauss_sin_pivot(a_matrix)
#solve_sys_EGsin(a_matrix)










b_matrix =         np.array([[ 1,  1,  1,  1, 10],
                    [ 1,  1,  1,  1, 11],
                    [ 1,  2,  1,  1, 12],
                    [ 1,  2,  1,  1, 13]]).astype(np.float64)

a_matrix2 = np.array([[ 1,  1,  0,  0, 0],
                     [ 2,  0,  0,  0, 0],
                     [ 0,  2,  1,  4, 0],
                     [ 0,  0,  2,  1, 0]]).astype(np.float64)

#Funcion para la experimentacion del item c)
def create_matrix_with_epsilon_float64(epsilon):
    c_matrix = np.array([[ 1,  2+epsilon,  3-epsilon,  6],
                     [ 1-epsilon,  2,  3+epsilon,  6],
                     [ 1+epsilon,  2-epsilon,  3,  6]]).astype(np.float64)
    return c_matrix

def create_matrix_with_epsilon_float32(epsilon):
    c_matrix = np.array([[ 1,  2+epsilon,  3-epsilon,  6],
                     [ 1-epsilon,  2,  3+epsilon,  6],
                     [ 1+epsilon,  2-epsilon,  3,  6]]).astype(np.float32)
    return c_matrix

x_64=np.array([1,1,1]).astype(np.float64)
x_32=np.array([1,1,1]).astype(np.float32)
for i in np.logspace(1e-6, 10, endpoint=True):
    print(create_matrix_with_epsilon_float64(i))





##item a
def elim_gauss_con_pivot(M, threshold): 
   for i in range(0, len(M[0]) - 2):
    #Buscamos la fila de maximo valor para permutar
    j_max=i
    val_j_max=0
    for j_pivot in range(i+1, len(M)):
      if abs(M[j_pivot][i]) > val_j_max:
        val_j_max = abs(M[j_pivot][i])
        j_max = j_pivot
    #Permutamos 
    for p in range(i, len(M[0])):
      m_ip = M[i][p]
      M[i][p] = M[j_max][p]
      M[j_max][p] = m_ip 
    #Hacemos el paso de eliminacion gaussiana 
    for j in range(i+1, len(M)):
      if M[i][i] != 0:  
        # if(float(M[i][i]) <=threshold):
        #   print("Advertencia de error numerico, division por valor cercano a cero")
        m_ji = float(M[j][i])/float(M[i][i])
        for k in range(i,len(M[0])):
          M[j][k] = M[j][k] - m_ji * M[i][k]
      else:
        for jerror in range(i+1, len(M)):
          if M[jerror][i] != 0:
            raise Exception("No se puede realizar la eliminacion gaussiana con i:" + str(i) + " y j: " + str(j))
   return M

def solve_sys_EG(M, threshold):
  M_res = elim_gauss_con_pivot(M, threshold)
  x = []
  for i in range(0,len(M)):
    x.append(M[i][len(M[0])-2])
  return x

elim_gauss_con_pivot(a_matrix2, 0.0001)

##item b, matriz diagonal con algun a_ii=0 y b_i!=0
matrix_no_solution = np.array([[ 1,  0,  0, 1],
                               [ 2,  0,  0, 1],
                               [ 0,  0,  0, 2],
                               [ 0,  0,  1, 1]]).astype(np.float64)

##item c
def inf_norm(v, w):
  res=0
  for i in range(len(v)):
    res = max(res, abs(v[i]-w[i]))
  return res


def numeric_error_exp():
  v_epsilon = np.logspace(1e-6, 10, endpoint=True)
  threshold = 1e-10
  v_res64 = np.zeros(len(v_epsilon))
  v_res32 = np.zeros(len(v_epsilon))

  for i in range(len(v_epsilon)):
    matrix_c = create_matrix_with_epsilon_float64(v_epsilon[i])
    x_obt = solve_sys_EG(matrix_c, threshold)
    v_res64[i] = np.linalg.norm([x_obt, x_64], np.inf)

  for i in range(len(v_epsilon)):
    matrix_c = create_matrix_with_epsilon_float32(v_epsilon[i])
    x_obt = solve_sys_EG(matrix_c, threshold)
    v_res32[i] = np.linalg.norm([x_obt, x_32], np.inf)

  fig, ax = plt.subplots( nrows=1, ncols=1 )
  ax.plot(v_epsilon, v_res64, label = "float64")
  ax.plot(v_epsilon, v_res32, label = "float32")
  #ax.plot(v_epsilon, v_res64 - v_res32, label = "float64 - float32")
  # print(v_res64 - v_res32)
  ax.set_title('comparacion de error numerico')
  ax.legend()
  plt.show()
  # plt.savefig('error_numerico_exp')

numeric_error_exp()









matriz_tridiagonal_facil =  np.array(
                   [[ 4,  8,  0, 1],
                    [ 2,  8,  16, 8],
                    [ 0,  8,  2, 13]]).astype(np.float64)

print(elim_gauss_sin_pivot(matriz_tridiagonal_facil))
solve_sys_EGsin(matriz_tridiagonal_facil)









def coeficientes_elim_gauss_tridiaognal(M):
  coeficientes_computados = []
  for i in range(0, len(M)):
    c_prima = 0
    if i == 0:
      c_prima = M[i][i + 1] /  M[i][i]
    else:
      c_prima = M[i][i + 1] /  (M[i][i] - (M[i][i - 1] * coeficientes_computados[i-1])) #un coeficientes_computados.pop() tambien funcionaria

    coeficientes_computados.append(c_prima)
  return coeficientes_computados

def term_indep_elim_gauss_tridiagonal(M, coeficientes_computados):
  terminos_indep_computados = []
  for i in range(0, len(M)):
    d_prima = 0
    if i == 0:
      d_prima = M[i][len(M[i]) - 1] /  M[i][i]
    else:
      d_prima = (M[i][len(M[i]) - 1] - (M[i][i - 1] * terminos_indep_computados[i - 1])) /  (M[i][i] - M[i][i - 1] * coeficientes_computados[i-1]) #un coeficientes_computados.pop() tambien funcionaria

    terminos_indep_computados.append(d_prima)
  return terminos_indep_computados  


def elim_gauss_tridiaognal_extendida(M):
  coeficientes = coeficientes_elim_gauss_tridiaognal(M)
  terminos_independientes = term_indep_elim_gauss_tridiagonal(M, coeficientes)

  res = np.zeros(len(terminos_independientes))
  res[len(terminos_independientes) - 1] = terminos_independientes[len(terminos_independientes) - 1]
  for i in range(len(res) - 2, -1, -1):
    res[i] = terminos_independientes[i] - (coeficientes[i] * res[i+1]) 
  
  return res

def elim_gauss_tridiagonal(A, u):

  u_column = u.reshape(-1, 1)  # -1 en reshape permite que numpy calcule la dimensión necesaria

  # Creando la matriz extendida M
  M = np.hstack((A, u_column))
  return elim_gauss_tridiaognal_extendida(M)
  
elim_gauss_tridiaognal_extendida(matriz_tridiagonal_facil)








d_a = []

for i in range(0, 102):
    value = 0
    if i == ((101 // 2) + 1):
        value = 4/101
    d_a.append(value)




d_b = np.full(101, np.float64(4) / np.float64(101**2))


d_c = []
n = 101
for i in range(0, 102):
    value =  (np.float64(-1) + (np.float64(2*i) / np.float64(n - 1))) * (np.float64(12) / np.float64(n*n))
    d_c.append(value)
d_c


d = []
for i in range(0, 101):
    d.append(i)

def create_matrix_with_d(d):
    m_res = np.zeros((101,102)).astype(np.float64)
    for i in range(101):
        m_res[i][i]=-2
        if(i+1<=100):
            m_res[i+1][i]=1
            m_res[i][i+1]=1    
    for i in range(101):
        m_res[i][101]= d[i]
    return m_res  

create_matrix_with_d(d)      


def verificacion_exp(ds):
  
  x = range(0, 101)
  x_ds = np.zeros((3, 101))
  for i in range(2):
    matrix_c = create_matrix_with_d(ds[i])
    x_ds[i] = elim_gauss_tridiaognal(matrix_c)
  
  matrix_c = create_matrix_with_d(ds[2])
  A = matrix_c[:, :-1]

# El vector de términos independientes B es la última columna
  B = matrix_c[:, -1]  
  x_ds[2] = elim_gauss_tridiagonal(A, B)

  fig, ax = plt.subplots( nrows=1, ncols=1 )
  plt.plot(x, x_ds[0], label = "(a)")
  plt.plot(x, x_ds[1], label = "(b)")
  plt.plot(x, x_ds[2], label = "(c)")
  yticks = np.arange(-1, 0.50, 0.25)
  ax.set_yticks(yticks) 
  ax.set_xlabel("x")
  ax.set_ylabel("u")
  plt.legend()
  #fig.savefig('verificacion_exp.pdf')
  plt.show()
  
  
  return

verificacion_exp([d_a, d_b, d_c])



M = create_matrix_with_d(d)
# La matriz de coeficientes A es todas las filas y todas las columnas excepto la última
A = M[:, :-1]

# El vector de términos independientes B es la última columna
B = M[:, -1]

sol_pivot = elim_gauss_con_pivot(M, 0.0000001)
sol_tridiagonal = elim_gauss_tridiaognal(M)
solplicita(u_0, A, m):
    m_res = np.zeros((m,101)).astype(np.float64)
    u=u_0
    m_res[0]=u
    for k in range(1,m):
        u = elim_gau_numpy = np.linalg.solve(A, B)



print(sol_pivot)
print(sol_tridiagonal)
print(sol_numpy)

















n = 101
r = 10
m = 1000

def create_u0(n,r):
    u = np.zeros(n).astype(np.float64)
    for i in range(n):
        if(i > (n//2-r) and i < n//2+r):
            u[i]=1
    return u


def create_matrix_laplaciano(alpha):
    m_res = np.zeros((101,101)).astype(np.float64)
    for i in range(101):
        m_res[i][i]=-2
        if(i+1<=100):
            m_res[i+1][i]=1
            m_res[i][i+1]=1 
    for i in range(101):
        for j in range(101):
            m_res[i][j]*= alpha            
    return m_res  

create_matrix_laplaciano(1)





def mult(A, v):
    v_res = np.zeros(len(v))
    for i in range(len(v)):
        res = 0
        for j in range(len(v)):
            res+= A[i][j]*v[j]
        v_res[i]=res
    return v_res



def sim_explicita(u_0, A, m):
    m_res = np.zeros((m,101))
    u=u_0
    m_res[0]=u
    for k in range(1,m):
        u = A @ u
        m_res[k]= u
        #print(m_res[k])
    return m_res   

x= sim_explicita(create_u0(n,r), create_matrix_laplaciano(0.2), m)

#x
plt.pcolor(x.T)
plt.colorbar()






def sim_explicita(u_0, A, m):
    m_res = np.zeros((m,101)).astype(np.float64)
    u=u_0
    m_res[0]=u
    for k in range(1,m):
        u = elim_gauss_tridiagonal(A, u)
        m_res[k]= u
        #print(m_res[k])
    return m_res   

x = sim_explicita(create_u0(n,r), create_matrix_laplaciano(1), m)

def heatmap2d(arr: np.ndarray):
    plt.imshow(arr, cmap='viridis')
    plt.colorbar()
    plt.show()

heatmap2d(x)






